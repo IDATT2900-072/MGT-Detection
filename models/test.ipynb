{
 "cells": [
  {
   "cell_type": "code",
   "execution_count": 4,
   "metadata": {},
   "outputs": [
    {
     "name": "stderr",
     "output_type": "stream",
     "text": [
      "Using the latest cached version of the module from C:\\Users\\andre\\.cache\\huggingface\\modules\\datasets_modules\\datasets\\dataset\\ef9fb0f4a94f3bf3b3a4db69c05e8784e54705997ba249b63b047af915b8dea4 (last modified on Fri Apr 14 10:36:43 2023) since it couldn't be found locally at dataset., or remotely on the Hugging Face Hub.\n",
      "Found cached dataset dataset (C:/Users/andre/.cache/huggingface/datasets/dataset/wiki_labeled/0.0.0/ef9fb0f4a94f3bf3b3a4db69c05e8784e54705997ba249b63b047af915b8dea4)\n"
     ]
    },
    {
     "data": {
      "application/vnd.jupyter.widget-view+json": {
       "model_id": "93431e9537424ab680380f23fb069989",
       "version_major": 2,
       "version_minor": 0
      },
      "text/plain": [
       "  0%|          | 0/2 [00:00<?, ?it/s]"
      ]
     },
     "metadata": {},
     "output_type": "display_data"
    }
   ],
   "source": [
    "from fine_tuner import FineTuner\n",
    "import datasets\n",
    "from transformers import AutoModelForSequenceClassification, AutoTokenizer, pipeline\n",
    "import torch\n",
    "\n",
    "ds = datasets.load_dataset(\"dataset\", \"wiki_labeled\")\n",
    "ds = ds.rename_column(\"class label\", \"labels\")\n",
    "ds = ds['test']"
   ]
  },
  {
   "cell_type": "code",
   "execution_count": 9,
   "metadata": {},
   "outputs": [
    {
     "data": {
      "text/plain": [
       "Dataset({\n",
       "    features: ['labels', 'text'],\n",
       "    num_rows: 60000\n",
       "})"
      ]
     },
     "execution_count": 9,
     "metadata": {},
     "output_type": "execute_result"
    }
   ],
   "source": [
    "ds"
   ]
  }
 ],
 "metadata": {
  "kernelspec": {
   "display_name": "Python 3",
   "language": "python",
   "name": "python3"
  },
  "language_info": {
   "codemirror_mode": {
    "name": "ipython",
    "version": 3
   },
   "file_extension": ".py",
   "mimetype": "text/x-python",
   "name": "python",
   "nbconvert_exporter": "python",
   "pygments_lexer": "ipython3",
   "version": "3.8.10"
  },
  "orig_nbformat": 4
 },
 "nbformat": 4,
 "nbformat_minor": 2
}
