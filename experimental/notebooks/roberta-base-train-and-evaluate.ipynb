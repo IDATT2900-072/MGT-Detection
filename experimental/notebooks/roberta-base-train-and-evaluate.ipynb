{
 "cells": [
  {
   "cell_type": "code",
   "execution_count": 1,
   "metadata": {},
   "outputs": [
    {
     "name": "stderr",
     "output_type": "stream",
     "text": [
      "C:\\Users\\andrebw\\AppData\\Local\\Packages\\PythonSoftwareFoundation.Python.3.8_qbz5n2kfra8p0\\LocalCache\\local-packages\\Python38\\site-packages\\tqdm\\auto.py:21: TqdmWarning: IProgress not found. Please update jupyter and ipywidgets. See https://ipywidgets.readthedocs.io/en/stable/user_install.html\n",
      "  from .autonotebook import tqdm as notebook_tqdm\n",
      "Found cached dataset human-vs-machine (C:/Users/andrebw/.cache/huggingface/datasets/NicolaiSivesind___human-vs-machine/wiki_labeled/0.0.0/241bf6770e86a2dafc156343e9246ae6a3f856fb9965c4a2da7455c2d5819078)\n",
      "100%|██████████| 3/3 [00:00<00:00, 23.03it/s]\n"
     ]
    },
    {
     "data": {
      "text/plain": [
       "DatasetDict({\n",
       "    train: Dataset({\n",
       "        features: ['label', 'text'],\n",
       "        num_rows: 1000\n",
       "    })\n",
       "    test: Dataset({\n",
       "        features: ['label', 'text'],\n",
       "        num_rows: 1000\n",
       "    })\n",
       "    validation: Dataset({\n",
       "        features: ['label', 'text'],\n",
       "        num_rows: 1000\n",
       "    })\n",
       "})"
      ]
     },
     "execution_count": 1,
     "metadata": {},
     "output_type": "execute_result"
    }
   ],
   "source": [
    "from models.fine_tuner import FineTuner\n",
    "import datasets\n",
    "\n",
    "ds = datasets.load_dataset(\"NicolaiSivesind/human-vs-machine\", \"wiki_labeled\")\n",
    "ds['train'] = ds['train'].select(range(1000))\n",
    "ds['validation'] = ds['validation'].select(range(1000))\n",
    "ds['test'] = ds['test'].select(range(1000))\n",
    "ds"
   ]
  },
  {
   "cell_type": "code",
   "execution_count": 3,
   "metadata": {},
   "outputs": [
    {
     "name": "stderr",
     "output_type": "stream",
     "text": [
      "Some weights of the model checkpoint at roberta-base-openai-detector were not used when initializing RobertaForSequenceClassification: ['roberta.pooler.dense.bias', 'roberta.pooler.dense.weight']\n",
      "- This IS expected if you are initializing RobertaForSequenceClassification from the checkpoint of a model trained on another task or with another architecture (e.g. initializing a BertForSequenceClassification model from a BertForPreTraining model).\n",
      "- This IS NOT expected if you are initializing RobertaForSequenceClassification from the checkpoint of a model that you expect to be exactly identical (initializing a BertForSequenceClassification model from a BertForSequenceClassification model).\n",
      "                                                                 \r"
     ]
    }
   ],
   "source": [
    "tuner = FineTuner(\"roberta-base-openai-detector\", ds, \n",
    "                  num_train_samples=len(ds['train']), \n",
    "                  num_validation_samples=len(ds['test']),\n",
    "                  max_tokenized_length=512,\n",
    "                  num_epochs=1)"
   ]
  },
  {
   "cell_type": "code",
   "execution_count": 3,
   "metadata": {},
   "outputs": [
    {
     "name": "stderr",
     "output_type": "stream",
     "text": [
      "Failed to detect the name of this notebook, you can set it manually with the WANDB_NOTEBOOK_NAME environment variable to enable code saving.\n",
      "\u001b[34m\u001b[1mwandb\u001b[0m: Currently logged in as: \u001b[33mandreas122001\u001b[0m. Use \u001b[1m`wandb login --relogin`\u001b[0m to force relogin\n"
     ]
    },
    {
     "data": {
      "text/html": [
       "Tracking run with wandb version 0.14.2"
      ],
      "text/plain": [
       "<IPython.core.display.HTML object>"
      ]
     },
     "metadata": {},
     "output_type": "display_data"
    },
    {
     "data": {
      "text/html": [
       "Run data is saved locally in <code>c:\\Users\\andrebw\\projects\\MGT-Detection\\wandb\\run-20230418_130016-h9v4q4ap</code>"
      ],
      "text/plain": [
       "<IPython.core.display.HTML object>"
      ]
     },
     "metadata": {},
     "output_type": "display_data"
    },
    {
     "data": {
      "text/html": [
       "Syncing run <strong><a href='https://wandb.ai/andreas122001/huggingface/runs/h9v4q4ap' target=\"_blank\">sandy-silence-40</a></strong> to <a href='https://wandb.ai/andreas122001/huggingface' target=\"_blank\">Weights & Biases</a> (<a href='https://wandb.me/run' target=\"_blank\">docs</a>)<br/>"
      ],
      "text/plain": [
       "<IPython.core.display.HTML object>"
      ]
     },
     "metadata": {},
     "output_type": "display_data"
    },
    {
     "data": {
      "text/html": [
       " View project at <a href='https://wandb.ai/andreas122001/huggingface' target=\"_blank\">https://wandb.ai/andreas122001/huggingface</a>"
      ],
      "text/plain": [
       "<IPython.core.display.HTML object>"
      ]
     },
     "metadata": {},
     "output_type": "display_data"
    },
    {
     "data": {
      "text/html": [
       " View run at <a href='https://wandb.ai/andreas122001/huggingface/runs/h9v4q4ap' target=\"_blank\">https://wandb.ai/andreas122001/huggingface/runs/h9v4q4ap</a>"
      ],
      "text/plain": [
       "<IPython.core.display.HTML object>"
      ]
     },
     "metadata": {},
     "output_type": "display_data"
    },
    {
     "name": "stderr",
     "output_type": "stream",
     "text": [
      "  0%|          | 0/1 [00:00<?, ?it/s]You're using a RobertaTokenizerFast tokenizer. Please note that with a fast tokenizer, using the `__call__` method is faster than using a method to encode the text followed by a call to the `pad` method to get a padded encoding.\n",
      "  0%|          | 0/1 [00:03<?, ?it/s]\n",
      "  0%|          | 0/2 [00:04<?, ?it/s]\n",
      "  0%|          | 0/4 [00:01<?, ?it/s]\n",
      "\n",
      "\u001b[A                                          "
     ]
    },
    {
     "name": "stdout",
     "output_type": "stream",
     "text": [
      "{'loss': 3.0742, 'learning_rate': 0.0, 'epoch': 0.02}\n"
     ]
    },
    {
     "name": "stderr",
     "output_type": "stream",
     "text": [
      " 14%|█▍        | 1/7 [00:02<00:16,  2.76s/it]\n",
      "  8%|▊         | 1/13 [00:02<00:24,  2.05s/it]"
     ]
    },
    {
     "name": "stdout",
     "output_type": "stream",
     "text": [
      "{'loss': 2.881, 'learning_rate': 0.0, 'epoch': 0.01}\n"
     ]
    },
    {
     "name": "stderr",
     "output_type": "stream",
     "text": [
      "100%|██████████| 13/13 [00:46<00:00,  3.58s/it]"
     ]
    },
    {
     "name": "stdout",
     "output_type": "stream",
     "text": [
      "{'train_runtime': 46.7687, 'train_samples_per_second': 2.138, 'train_steps_per_second': 0.278, 'train_loss': 2.443544479516836, 'epoch': 0.1}\n"
     ]
    },
    {
     "name": "stderr",
     "output_type": "stream",
     "text": [
      "\n"
     ]
    }
   ],
   "source": [
    "tuner.train()"
   ]
  },
  {
   "cell_type": "code",
   "execution_count": 15,
   "metadata": {},
   "outputs": [
    {
     "name": "stderr",
     "output_type": "stream",
     "text": [
      "Found cached dataset human-vs-machine (C:/Users/andrebw/.cache/huggingface/datasets/NicolaiSivesind___human-vs-machine/wiki_labeled/0.0.0/241bf6770e86a2dafc156343e9246ae6a3f856fb9965c4a2da7455c2d5819078)\n",
      "100%|██████████| 3/3 [00:00<00:00, 157.74it/s]\n"
     ]
    },
    {
     "data": {
      "text/plain": [
       "DatasetDict({\n",
       "    train: Dataset({\n",
       "        features: ['label', 'text'],\n",
       "        num_rows: 1000\n",
       "    })\n",
       "    test: Dataset({\n",
       "        features: ['label', 'text'],\n",
       "        num_rows: 1000\n",
       "    })\n",
       "    validation: Dataset({\n",
       "        features: ['label', 'text'],\n",
       "        num_rows: 1000\n",
       "    })\n",
       "})"
      ]
     },
     "execution_count": 15,
     "metadata": {},
     "output_type": "execute_result"
    }
   ],
   "source": [
    "import datasets as ds\n",
    "\n",
    "dataset = ds.load_dataset(\"NicolaiSivesind/human-vs-machine\", \"wiki_labeled\")\n",
    "dataset['train'] = dataset['train'].select(range(1000))\n",
    "dataset['validation'] = dataset['validation'].select(range(1000))\n",
    "dataset['test'] = dataset['test'].select(range(1000))\n",
    "dataset"
   ]
  },
  {
   "cell_type": "code",
   "execution_count": 1,
   "metadata": {},
   "outputs": [
    {
     "name": "stderr",
     "output_type": "stream",
     "text": [
      "C:\\Users\\andrebw\\AppData\\Local\\Packages\\PythonSoftwareFoundation.Python.3.8_qbz5n2kfra8p0\\LocalCache\\local-packages\\Python38\\site-packages\\tqdm\\auto.py:21: TqdmWarning: IProgress not found. Please update jupyter and ipywidgets. See https://ipywidgets.readthedocs.io/en/stable/user_install.html\n",
      "  from .autonotebook import tqdm as notebook_tqdm\n",
      "Found cached dataset human-vs-machine (C:/Users/andrebw/.cache/huggingface/datasets/NicolaiSivesind___human-vs-machine/wiki_labeled/0.0.0/241bf6770e86a2dafc156343e9246ae6a3f856fb9965c4a2da7455c2d5819078)\n",
      "100%|██████████| 3/3 [00:00<00:00, 65.62it/s]\n"
     ]
    },
    {
     "name": "stdout",
     "output_type": "stream",
     "text": [
      "======================================================================================================================================================\n",
      "Initiating trainer...\n"
     ]
    },
    {
     "name": "stderr",
     "output_type": "stream",
     "text": [
      "Some weights of the model checkpoint at roberta-base-openai-detector were not used when initializing RobertaForSequenceClassification: ['roberta.pooler.dense.weight', 'roberta.pooler.dense.bias']\n",
      "- This IS expected if you are initializing RobertaForSequenceClassification from the checkpoint of a model trained on another task or with another architecture (e.g. initializing a BertForSequenceClassification model from a BertForPreTraining model).\n",
      "- This IS NOT expected if you are initializing RobertaForSequenceClassification from the checkpoint of a model that you expect to be exactly identical (initializing a BertForSequenceClassification model from a BertForSequenceClassification model).\n",
      "Failed to detect the name of this notebook, you can set it manually with the WANDB_NOTEBOOK_NAME environment variable to enable code saving.\n",
      "\u001b[34m\u001b[1mwandb\u001b[0m: Currently logged in as: \u001b[33mandreas122001\u001b[0m (\u001b[33midatt2900-072\u001b[0m). Use \u001b[1m`wandb login --relogin`\u001b[0m to force relogin\n"
     ]
    },
    {
     "data": {
      "text/html": [
       "wandb version 0.15.0 is available!  To upgrade, please run:\n",
       " $ pip install wandb --upgrade"
      ],
      "text/plain": [
       "<IPython.core.display.HTML object>"
      ]
     },
     "metadata": {},
     "output_type": "display_data"
    },
    {
     "data": {
      "text/html": [
       "Tracking run with wandb version 0.14.2"
      ],
      "text/plain": [
       "<IPython.core.display.HTML object>"
      ]
     },
     "metadata": {},
     "output_type": "display_data"
    },
    {
     "data": {
      "text/html": [
       "Run data is saved locally in <code>c:\\Users\\andrebw\\projects\\MGT-Detection\\wandb\\run-20230420_205637-25bgcyqa</code>"
      ],
      "text/plain": [
       "<IPython.core.display.HTML object>"
      ]
     },
     "metadata": {},
     "output_type": "display_data"
    },
    {
     "data": {
      "text/html": [
       "Syncing run <strong><a href='https://wandb.ai/idatt2900-072/IDATT2900-072/runs/25bgcyqa' target=\"_blank\">fresh-dream-79</a></strong> to <a href='https://wandb.ai/idatt2900-072/IDATT2900-072' target=\"_blank\">Weights & Biases</a> (<a href='https://wandb.me/run' target=\"_blank\">docs</a>)<br/>"
      ],
      "text/plain": [
       "<IPython.core.display.HTML object>"
      ]
     },
     "metadata": {},
     "output_type": "display_data"
    },
    {
     "data": {
      "text/html": [
       " View project at <a href='https://wandb.ai/idatt2900-072/IDATT2900-072' target=\"_blank\">https://wandb.ai/idatt2900-072/IDATT2900-072</a>"
      ],
      "text/plain": [
       "<IPython.core.display.HTML object>"
      ]
     },
     "metadata": {},
     "output_type": "display_data"
    },
    {
     "data": {
      "text/html": [
       " View run at <a href='https://wandb.ai/idatt2900-072/IDATT2900-072/runs/25bgcyqa' target=\"_blank\">https://wandb.ai/idatt2900-072/IDATT2900-072/runs/25bgcyqa</a>"
      ],
      "text/plain": [
       "<IPython.core.display.HTML object>"
      ]
     },
     "metadata": {},
     "output_type": "display_data"
    },
    {
     "name": "stderr",
     "output_type": "stream",
     "text": [
      "Loading cached processed dataset at C:\\Users\\andrebw\\.cache\\huggingface\\datasets\\NicolaiSivesind___human-vs-machine\\wiki_labeled\\0.0.0\\241bf6770e86a2dafc156343e9246ae6a3f856fb9965c4a2da7455c2d5819078\\cache-c1aacd9ca27374ec.arrow\n",
      "Loading cached processed dataset at C:\\Users\\andrebw\\.cache\\huggingface\\datasets\\NicolaiSivesind___human-vs-machine\\wiki_labeled\\0.0.0\\241bf6770e86a2dafc156343e9246ae6a3f856fb9965c4a2da7455c2d5819078\\cache-979ede0ab8b41dc5.arrow\n",
      "Loading cached shuffled indices for dataset at C:\\Users\\andrebw\\.cache\\huggingface\\datasets\\NicolaiSivesind___human-vs-machine\\wiki_labeled\\0.0.0\\241bf6770e86a2dafc156343e9246ae6a3f856fb9965c4a2da7455c2d5819078\\cache-e235c9f5172fb13d.arrow\n",
      "Loading cached shuffled indices for dataset at C:\\Users\\andrebw\\.cache\\huggingface\\datasets\\NicolaiSivesind___human-vs-machine\\wiki_labeled\\0.0.0\\241bf6770e86a2dafc156343e9246ae6a3f856fb9965c4a2da7455c2d5819078\\cache-181b6543ee983141.arrow\n"
     ]
    },
    {
     "name": "stdout",
     "output_type": "stream",
     "text": [
      "======================================================================================================================================================\n",
      "Starting training...\n"
     ]
    },
    {
     "name": "stderr",
     "output_type": "stream",
     "text": [
      "  0%|          | 0/263 [00:00<?, ?it/s]You're using a RobertaTokenizerFast tokenizer. Please note that with a fast tokenizer, using the `__call__` method is faster than using a method to encode the text followed by a call to the `pad` method to get a padded encoding.\n",
      "  0%|          | 1/263 [00:03<15:54,  3.64s/it]"
     ]
    },
    {
     "name": "stdout",
     "output_type": "stream",
     "text": [
      "{'loss': 5.5286, 'learning_rate': 4.980988593155894e-05, 'epoch': 0.0}\n"
     ]
    },
    {
     "name": "stderr",
     "output_type": "stream",
     "text": [
      " 19%|█▉        | 50/263 [00:29<01:46,  2.01it/s]"
     ]
    },
    {
     "name": "stdout",
     "output_type": "stream",
     "text": [
      "{'loss': 0.4453, 'learning_rate': 4.0494296577946774e-05, 'epoch': 0.19}\n"
     ]
    },
    {
     "name": "stderr",
     "output_type": "stream",
     "text": [
      "                                                \n",
      " 19%|█▉        | 50/263 [00:41<01:46,  2.01it/s]"
     ]
    },
    {
     "name": "stdout",
     "output_type": "stream",
     "text": [
      "{'eval_loss': 0.1859063059091568, 'eval_accuracy': 0.9622222222222222, 'eval_precision': 0.956140350877193, 'eval_recall': 0.9688888888888889, 'eval_f1': 0.9624724061810154, 'eval_runtime': 12.4093, 'eval_samples_per_second': 36.263, 'eval_steps_per_second': 4.593, 'epoch': 0.19}\n"
     ]
    },
    {
     "name": "stderr",
     "output_type": "stream",
     "text": [
      " 38%|███▊      | 100/263 [01:09<01:30,  1.80it/s]"
     ]
    },
    {
     "name": "stdout",
     "output_type": "stream",
     "text": [
      "{'loss': 0.226, 'learning_rate': 3.098859315589354e-05, 'epoch': 0.38}\n"
     ]
    },
    {
     "name": "stderr",
     "output_type": "stream",
     "text": [
      "                                                 \n",
      " 38%|███▊      | 100/263 [01:23<01:30,  1.80it/s]"
     ]
    },
    {
     "name": "stdout",
     "output_type": "stream",
     "text": [
      "{'eval_loss': 0.5851414799690247, 'eval_accuracy': 0.8866666666666667, 'eval_precision': 0.8152173913043478, 'eval_recall': 1.0, 'eval_f1': 0.8982035928143712, 'eval_runtime': 13.6691, 'eval_samples_per_second': 32.921, 'eval_steps_per_second': 4.17, 'epoch': 0.38}\n"
     ]
    },
    {
     "name": "stderr",
     "output_type": "stream",
     "text": [
      " 57%|█████▋    | 150/263 [01:54<01:03,  1.79it/s]"
     ]
    },
    {
     "name": "stdout",
     "output_type": "stream",
     "text": [
      "{'loss': 0.2073, 'learning_rate': 2.1482889733840306e-05, 'epoch': 0.57}\n"
     ]
    },
    {
     "name": "stderr",
     "output_type": "stream",
     "text": [
      "                                                 \n",
      " 57%|█████▋    | 150/263 [02:08<01:03,  1.79it/s]"
     ]
    },
    {
     "name": "stdout",
     "output_type": "stream",
     "text": [
      "{'eval_loss': 0.7076466083526611, 'eval_accuracy': 0.8533333333333334, 'eval_precision': 0.7750865051903114, 'eval_recall': 0.9955555555555555, 'eval_f1': 0.8715953307392995, 'eval_runtime': 14.3236, 'eval_samples_per_second': 31.417, 'eval_steps_per_second': 3.979, 'epoch': 0.57}\n"
     ]
    },
    {
     "name": "stderr",
     "output_type": "stream",
     "text": [
      " 76%|███████▌  | 200/263 [02:37<00:36,  1.72it/s]"
     ]
    },
    {
     "name": "stdout",
     "output_type": "stream",
     "text": [
      "{'loss': 0.1262, 'learning_rate': 1.1977186311787073e-05, 'epoch': 0.76}\n"
     ]
    },
    {
     "name": "stderr",
     "output_type": "stream",
     "text": [
      "                                                 \n",
      " 76%|███████▌  | 200/263 [02:51<00:36,  1.72it/s]"
     ]
    },
    {
     "name": "stdout",
     "output_type": "stream",
     "text": [
      "{'eval_loss': 0.09536142647266388, 'eval_accuracy': 0.98, 'eval_precision': 0.9655172413793104, 'eval_recall': 0.9955555555555555, 'eval_f1': 0.9803063457330417, 'eval_runtime': 13.857, 'eval_samples_per_second': 32.475, 'eval_steps_per_second': 4.113, 'epoch': 0.76}\n"
     ]
    },
    {
     "name": "stderr",
     "output_type": "stream",
     "text": [
      " 95%|█████████▌| 250/263 [03:21<00:06,  2.00it/s]"
     ]
    },
    {
     "name": "stdout",
     "output_type": "stream",
     "text": [
      "{'loss': 0.0659, 'learning_rate': 2.4714828897338406e-06, 'epoch': 0.95}\n"
     ]
    },
    {
     "name": "stderr",
     "output_type": "stream",
     "text": [
      "                                                 \n",
      " 95%|█████████▌| 250/263 [03:34<00:06,  2.00it/s]"
     ]
    },
    {
     "name": "stdout",
     "output_type": "stream",
     "text": [
      "{'eval_loss': 0.48060452938079834, 'eval_accuracy': 0.9133333333333333, 'eval_precision': 0.8549618320610687, 'eval_recall': 0.9955555555555555, 'eval_f1': 0.9199178644763861, 'eval_runtime': 12.3725, 'eval_samples_per_second': 36.371, 'eval_steps_per_second': 4.607, 'epoch': 0.95}\n"
     ]
    },
    {
     "name": "stderr",
     "output_type": "stream",
     "text": [
      "100%|██████████| 263/263 [03:42<00:00,  1.18it/s]\n"
     ]
    },
    {
     "name": "stdout",
     "output_type": "stream",
     "text": [
      "{'train_runtime': 222.7246, 'train_samples_per_second': 9.429, 'train_steps_per_second': 1.181, 'train_loss': 0.22632832921503163, 'epoch': 1.0}\n",
      "Starting tests...\n"
     ]
    },
    {
     "name": "stderr",
     "output_type": "stream",
     "text": [
      "100%|██████████| 57/57 [00:12<00:00,  4.57it/s]\n"
     ]
    },
    {
     "data": {
      "text/plain": [
       "{'test_loss': 0.583969235420227,\n",
       " 'test_accuracy': 0.8977777777777778,\n",
       " 'test_precision': 0.8302583025830258,\n",
       " 'test_recall': 1.0,\n",
       " 'test_f1': 0.907258064516129,\n",
       " 'test_runtime': 12.6364,\n",
       " 'test_samples_per_second': 35.611,\n",
       " 'test_steps_per_second': 4.511,\n",
       " 'epoch': 1.0}"
      ]
     },
     "execution_count": 1,
     "metadata": {},
     "output_type": "execute_result"
    }
   ],
   "source": [
    "from models.fine_tuner import FineTuner\n",
    "import datasets\n",
    "\n",
    "ds = datasets.load_dataset(\"NicolaiSivesind/human-vs-machine\", \"wiki_labeled\")\n",
    "ds_mlt = 0.01\n",
    "ds['train'] = ds['train'].select(range(int(len(ds['train'])*ds_mlt)))\n",
    "ds['test'] = ds['test'].select(range(int(len(ds['test'])*ds_mlt)))\n",
    "ds['validation'] = ds['validation'].select(range(int(len(ds['validation'])*ds_mlt)))\n",
    "\n",
    "model_name = \"roberta-base-openai-detector\"\n",
    "\n",
    "print(\"=\"*150)\n",
    "print(\"Initiating trainer...\")\n",
    "tuner = FineTuner(model_name, ds, num_epochs=1, logging_steps=int(5*1000*ds_mlt), max_tokenized_length=512)\n",
    "print(\"=\"*150)\n",
    "print(\"Starting training...\")\n",
    "tuner.train()\n",
    "print(\"Starting tests...\")\n",
    "tuner.test()"
   ]
  },
  {
   "cell_type": "code",
   "execution_count": 2,
   "metadata": {},
   "outputs": [],
   "source": [
    "from transformers import pipeline\n",
    "\n",
    "classify = pipeline(\"text-classification\", model=tuner.model, tokenizer=tuner.tokenizer, device=0)\n",
    "# classify = pipeline(\"text-classification\", model=\"roberta-base-openai-detector\", tokenizer=\"roberta-base-openai-detector\", device=0)"
   ]
  },
  {
   "cell_type": "code",
   "execution_count": 11,
   "metadata": {},
   "outputs": [
    {
     "name": "stdout",
     "output_type": "stream",
     "text": [
      "\n",
      "Truth: Real\n",
      "Pred: real, (99.900 %)\n",
      "\n",
      "{'label': 'real', 'score': 0.9990037083625793}\n"
     ]
    }
   ],
   "source": [
    "import random\n",
    "sample = ds['test'][random.randint(0,len(ds['test'])-1)]\n",
    "output = classify(sample['text'])[0]\n",
    "\n",
    "print(f\"\"\"\n",
    "Truth: {'Real' if sample['label'] == 0 else \"Fake\"}\n",
    "Pred: {output['label']}, ({output['score']*100:.3f} %)\n",
    "\"\"\")\n",
    "print(output)\n",
    "#{'label': 'Real', 'score': 0.9999532699584961}\n",
    "#{'label': 'Fake', 'score': 0.9998132586479187}"
   ]
  },
  {
   "cell_type": "code",
   "execution_count": 13,
   "metadata": {},
   "outputs": [
    {
     "name": "stderr",
     "output_type": "stream",
     "text": [
      "C:\\Users\\andrebw\\AppData\\Local\\Packages\\PythonSoftwareFoundation.Python.3.8_qbz5n2kfra8p0\\LocalCache\\local-packages\\Python38\\site-packages\\transformers\\pipelines\\base.py:1070: UserWarning: You seem to be using the pipelines sequentially on GPU. In order to maximize efficiency please use a dataset\n",
      "  warnings.warn(\n"
     ]
    },
    {
     "data": {
      "text/plain": [
       "(225, 52, 173, 0)"
      ]
     },
     "execution_count": 13,
     "metadata": {},
     "output_type": "execute_result"
    }
   ],
   "source": [
    "tp, fp, tn, fn = 0,0,0,0\n",
    "for i in range(len(ds['test'])):\n",
    "    sample = ds['test'][i]\n",
    "    out = classify(sample['text'][:1000])[0]\n",
    "    if (sample['label'] == 0):\n",
    "        if out['label'] == 'generated':\n",
    "            fp += 1\n",
    "        elif out['label'] == 'real':\n",
    "            tn += 1\n",
    "    elif (sample['label'] == 1):\n",
    "        if out['label'] == 'real':\n",
    "            fn += 1\n",
    "        elif out['label'] == 'generated':\n",
    "            tp += 1\n",
    "result = (tp,fp,tn,fn)\n",
    "tot = tp+fp+tn+fn\n",
    "result\n",
    "#(0, 497, 3, 500)"
   ]
  },
  {
   "cell_type": "code",
   "execution_count": 14,
   "metadata": {},
   "outputs": [
    {
     "name": "stdout",
     "output_type": "stream",
     "text": [
      "\n",
      "acc  = 0.8844444444444445\n",
      "prec = 0.8122743682310469\n",
      "tot  = 450\n",
      "\n"
     ]
    }
   ],
   "source": [
    "print(f\"\"\"\n",
    "acc  = {(tp+tn) / tot}\n",
    "prec = {tp / (tp+fp)}\n",
    "tot  = {tot}\n",
    "\"\"\")"
   ]
  },
  {
   "cell_type": "code",
   "execution_count": 17,
   "metadata": {},
   "outputs": [
    {
     "data": {
      "text/plain": [
       "[{'label': 'generated', 'score': 0.9994788765907288}]"
      ]
     },
     "execution_count": 17,
     "metadata": {},
     "output_type": "execute_result"
    }
   ],
   "source": [
    "text = \"\"\"\n",
    "A desktop computer is a type of personal computer that is designed to be used on a desk or table. It typically consists of a tower or a case that contains the computer's components, such as the motherboard, CPU, memory, hard drive, and power supply. These components are connected to peripherals such as a monitor, keyboard, and mouse.\n",
    "\n",
    "Desktop computers are usually more powerful than laptops and are designed for more demanding tasks such as gaming, video editing, and graphic design. They are also often easier to upgrade and repair than laptops, as they have more internal space for additional components and are easier to access. Additionally, desktop computers are often less expensive than laptops with similar specifications.\n",
    "\"\"\"\n",
    "\n",
    "text2 = \"\"\"\n",
    "A desktop computer (often abbreviated desktop[1]) is a personal computer designed for regular use at a stationary location on or near a desk (as opposed to a portable computer) due to its size and power requirements. The most common configuration has a case that houses the power supply, motherboard (a printed circuit board with a microprocessor as the central processing unit, memory, bus, certain peripherals and other electronic components), disk storage (usually one or more hard disk drives, solid state drives, optical disc drives, and in early models a floppy disk drive); a keyboard and mouse for input; and a monitor, speakers, and, often, a printer for output. The case may be oriented horizontally or vertically and placed either underneath, beside, or on top of a desk.\n",
    "\n",
    "Personal computers with their cases oriented vertically are referred to as towers. As the majority of cases offered since the mid-1990s are in this form factor, the term desktop (or pizza box, for compact models) has been retronymically used to refer to modern cases offered in the traditional horizontal orientation.\n",
    "\"\"\"\n",
    "classify(text2)"
   ]
  },
  {
   "cell_type": "code",
   "execution_count": 31,
   "metadata": {},
   "outputs": [
    {
     "name": "stderr",
     "output_type": "stream",
     "text": [
      "100%|██████████| 563/563 [01:44<00:00,  5.40it/s]\n"
     ]
    },
    {
     "data": {
      "text/plain": [
       "{'test_loss': 0.013254653662443161,\n",
       " 'test_accuracy': 0.9971111111111111,\n",
       " 'test_precision': 0.9946926138876603,\n",
       " 'test_recall': 0.9995555555555555,\n",
       " 'test_f1': 0.9971181556195966,\n",
       " 'test_runtime': 104.5703,\n",
       " 'test_samples_per_second': 43.033,\n",
       " 'test_steps_per_second': 5.384,\n",
       " 'epoch': 1.0}"
      ]
     },
     "execution_count": 31,
     "metadata": {},
     "output_type": "execute_result"
    }
   ],
   "source": [
    "tuner.test()"
   ]
  }
 ],
 "metadata": {
  "kernelspec": {
   "display_name": "Python 3",
   "language": "python",
   "name": "python3"
  },
  "language_info": {
   "codemirror_mode": {
    "name": "ipython",
    "version": 3
   },
   "file_extension": ".py",
   "mimetype": "text/x-python",
   "name": "python",
   "nbconvert_exporter": "python",
   "pygments_lexer": "ipython3",
   "version": "3.8.10"
  },
  "orig_nbformat": 4
 },
 "nbformat": 4,
 "nbformat_minor": 2
}
