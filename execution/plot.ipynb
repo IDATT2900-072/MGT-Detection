{
 "cells": [
  {
   "cell_type": "markdown",
   "source": [
    "# Plotting\n",
    "This book is used for producing various plots related to data."
   ],
   "metadata": {
    "collapsed": false,
    "pycharm": {
     "name": "#%% md\n"
    }
   }
  },
  {
   "cell_type": "code",
   "execution_count": 1,
   "outputs": [],
   "source": [
    "import random\n",
    "import matplotlib\n",
    "\n",
    "from datasets import load_dataset\n",
    "from data_manipulation.data_processing import count_and_reformat\n",
    "from data_manipulation.data_processing import sample_uniform_subset\n",
    "from data_manipulation.data_analysis import plot_distribution, plot_histogram, plot_scatter, plot_loss_curves, plot_newline_frequencies, plot_confusion_matrix, plot_confidence_scores, plot_metric_score_thresholds"
   ],
   "metadata": {
    "collapsed": false,
    "pycharm": {
     "name": "#%%\n"
    }
   }
  },
  {
   "cell_type": "markdown",
   "source": [
    "#### Load datasets"
   ],
   "metadata": {
    "collapsed": false,
    "pycharm": {
     "name": "#%% md\n"
    }
   }
  },
  {
   "cell_type": "code",
   "execution_count": 11,
   "outputs": [
    {
     "data": {
      "text/plain": "Downloading readme:   0%|          | 0.00/6.75k [00:00<?, ?B/s]",
      "application/vnd.jupyter.widget-view+json": {
       "version_major": 2,
       "version_minor": 0,
       "model_id": "6f5429d733974aefa634736d2c08a382"
      }
     },
     "metadata": {},
     "output_type": "display_data"
    },
    {
     "name": "stdout",
     "output_type": "stream",
     "text": [
      "Downloading and preparing dataset json/gfissore--arxiv-abstracts-2021 to /Users/nicolaisivesind/.cache/huggingface/datasets/gfissore___json/gfissore--arxiv-abstracts-2021-23556c248bdbe0fc/0.0.0/fe5dd6ea2639a6df622901539cb550cf8797e5a6b2dd7af1cf934bed8e233e6e...\n"
     ]
    },
    {
     "data": {
      "text/plain": "Downloading data files:   0%|          | 0/1 [00:00<?, ?it/s]",
      "application/vnd.jupyter.widget-view+json": {
       "version_major": 2,
       "version_minor": 0,
       "model_id": "419ed9475f46469ba0c34bed4f6c7c1d"
      }
     },
     "metadata": {},
     "output_type": "display_data"
    },
    {
     "data": {
      "text/plain": "Downloading data:   0%|          | 0.00/940M [00:00<?, ?B/s]",
      "application/vnd.jupyter.widget-view+json": {
       "version_major": 2,
       "version_minor": 0,
       "model_id": "051a21d373e544f69e3bb5ad5a5dfc9d"
      }
     },
     "metadata": {},
     "output_type": "display_data"
    },
    {
     "data": {
      "text/plain": "Extracting data files:   0%|          | 0/1 [00:00<?, ?it/s]",
      "application/vnd.jupyter.widget-view+json": {
       "version_major": 2,
       "version_minor": 0,
       "model_id": "edfeeb572b4e47aa9b7a9b01ef818637"
      }
     },
     "metadata": {},
     "output_type": "display_data"
    },
    {
     "data": {
      "text/plain": "Generating train split: 0 examples [00:00, ? examples/s]",
      "application/vnd.jupyter.widget-view+json": {
       "version_major": 2,
       "version_minor": 0,
       "model_id": "72638d7cb3754ea99525e4295057b423"
      }
     },
     "metadata": {},
     "output_type": "display_data"
    },
    {
     "name": "stdout",
     "output_type": "stream",
     "text": [
      "Dataset json downloaded and prepared to /Users/nicolaisivesind/.cache/huggingface/datasets/gfissore___json/gfissore--arxiv-abstracts-2021-23556c248bdbe0fc/0.0.0/fe5dd6ea2639a6df622901539cb550cf8797e5a6b2dd7af1cf934bed8e233e6e. Subsequent calls will reuse this data.\n"
     ]
    },
    {
     "data": {
      "text/plain": "  0%|          | 0/1 [00:00<?, ?it/s]",
      "application/vnd.jupyter.widget-view+json": {
       "version_major": 2,
       "version_minor": 0,
       "model_id": "f6bdefa36b9143a19176ec821b9b531c"
      }
     },
     "metadata": {},
     "output_type": "display_data"
    },
    {
     "name": "stdout",
     "output_type": "stream",
     "text": [
      " Counting words: 100%"
     ]
    }
   ],
   "source": [
    "# Only process if needed. Takes a couple of minutes to count.\n",
    "arxiv = count_and_reformat(dataset=load_dataset(\"gfissore/arxiv-abstracts-2021\")['train'],\n",
    "                           count_column='abstract',\n",
    "                           retain_columns=['title', 'abstract'])"
   ],
   "metadata": {
    "collapsed": false,
    "pycharm": {
     "name": "#%%\n"
    }
   }
  },
  {
   "cell_type": "markdown",
   "source": [
    "#### Plotting"
   ],
   "metadata": {
    "collapsed": false,
    "pycharm": {
     "name": "#%% md\n"
    }
   }
  },
  {
   "cell_type": "code",
   "execution_count": 2,
   "outputs": [
    {
     "name": "stderr",
     "output_type": "stream",
     "text": [
      "Found cached dataset csv (/Users/nicolaisivesind/.cache/huggingface/datasets/csv/default-b7975ec30e73b117/0.0.0/6954658bab30a358235fa864b05cf819af0e179325c740e4bc853bcc7ec513e1)\n"
     ]
    },
    {
     "data": {
      "text/plain": "  0%|          | 0/1 [00:00<?, ?it/s]",
      "application/vnd.jupyter.widget-view+json": {
       "version_major": 2,
       "version_minor": 0,
       "model_id": "a6c7231361ff4963af9a01fefc2f854c"
      }
     },
     "metadata": {},
     "output_type": "display_data"
    },
    {
     "name": "stderr",
     "output_type": "stream",
     "text": [
      "Found cached dataset csv (/Users/nicolaisivesind/.cache/huggingface/datasets/csv/default-6a0f094caf40a32a/0.0.0/6954658bab30a358235fa864b05cf819af0e179325c740e4bc853bcc7ec513e1)\n"
     ]
    },
    {
     "data": {
      "text/plain": "  0%|          | 0/1 [00:00<?, ?it/s]",
      "application/vnd.jupyter.widget-view+json": {
       "version_major": 2,
       "version_minor": 0,
       "model_id": "877b3a8991c14227a2e4bd808dae66c1"
      }
     },
     "metadata": {},
     "output_type": "display_data"
    }
   ],
   "source": [
    "chatgpt_abstracts_raw = load_dataset('csv', data_files='../../datasets/origins/research-abstracts/research_abstracts-raw.csv')[\n",
    "    'train']\n",
    "chatgpt_abstracts_clean = load_dataset('csv', data_files='../../datasets/origins/ChatGPT-Research-Abstracts/research_abstracts-final.csv')[\n",
    "    'train']"
   ],
   "metadata": {
    "collapsed": false,
    "pycharm": {
     "name": "#%%\n"
    }
   }
  },
  {
   "cell_type": "code",
   "execution_count": 12,
   "outputs": [
    {
     "name": "stdout",
     "output_type": "stream",
     "text": [
      " Sorting into lists: 99%\n",
      " Sampling data points: 63%6368\n"
     ]
    }
   ],
   "source": [
    "arxiv_10k = random.sample(arxiv, k=10000)\n",
    "uniform = sample_uniform_subset(arxiv, 'word_count', 10000, 325, 900)\n",
    "print(len(uniform))"
   ],
   "metadata": {
    "collapsed": false,
    "pycharm": {
     "name": "#%%\n"
    }
   }
  },
  {
   "cell_type": "code",
   "execution_count": null,
   "outputs": [],
   "source": [
    "plot_distribution(plots=[{'dataset': arxiv, 'column_name': 'word_count', 'color': 'darkmagenta', 'alpha': 0.6,\n",
    "                          'display': 'arXiv-abstracts-2021 (~2m)', 'mode':False},\n",
    "                         {'dataset': arxiv_10k, 'column_name': 'word_count', 'color': 'red', 'alpha': 0.6,\n",
    "                          'display': 'arXiv-abstracts-2021 random subset (10k)', 'mode':True},\n",
    "                         {'dataset': chatgpt_abstracts_raw, 'column_name': 'real_word_count', 'color': 'blue', 'alpha': 0.6,\n",
    "                          'display': 'ChatGPT-Research-Abstracts, real (10k)', 'mode':False},\n",
    "                         {'dataset': chatgpt_abstracts_raw, 'column_name': 'generated_word_count', 'color': 'limegreen', 'alpha': 0.8,\n",
    "                          'display': 'ChatGPT-Research-Abstracts, generated (10k)', 'mode':True}],\n",
    "                   h_lines=[{'value': 18, 'color': 'grey', 'alpha': 0.8, 'text': 'IASS_10k ≈ 18', 'offset': (400, 1)}],\n",
    "                   v_lines=[{'value': 360, 'color': 'grey', 'alpha': 0.8, 'text': 'WC = 360', 'offset': (5, 50)}],\n",
    "                   start=50,\n",
    "                   end=600,\n",
    "                   x_label='WC (length of data points in words)',\n",
    "                   y_label='n (number of data points)',\n",
    "                   y_lim=(0, 75),\n",
    "                   legend_offset=1.02)"
   ],
   "metadata": {
    "collapsed": false,
    "pycharm": {
     "name": "#%%\n"
    }
   }
  },
  {
   "cell_type": "code",
   "execution_count": 5,
   "outputs": [],
   "source": [
    "plot_histogram(plots=[{'dataset': arxiv, 'column_name': 'word_count', 'color': 'red', 'alpha': 0.6,\n",
    "                       'display': 'arXiv-abstracts-2021 (~2m)'},\n",
    "                      {'dataset': chatgpt_abstracts_clean, 'column_name': 'real_word_count', 'color': 'blue', 'alpha': 0.4,\n",
    "                       'display': 'ChatGPT-Research-Abstracts, real (10k)'},\n",
    "                      {'dataset': chatgpt_abstracts_clean, 'column_name': 'generated_word_count', 'color': 'limegreen', 'alpha': 0.8,\n",
    "                       'display': 'ChatGPT-Research-Abstracts, generated (10k)'}],\n",
    "                     start=350,\n",
    "                     end=600,\n",
    "                x_label=\"WC (length of data points in words)\",\n",
    "                y_label=\"n (number of data points)\",\n",
    "                y_lim=(0, 52))"
   ],
   "metadata": {
    "collapsed": false,
    "pycharm": {
     "name": "#%%\n"
    }
   }
  },
  {
   "cell_type": "markdown",
   "source": [],
   "metadata": {
    "collapsed": false,
    "pycharm": {
     "name": "#%% md\n"
    }
   }
  },
  {
   "cell_type": "code",
   "execution_count": 6,
   "outputs": [],
   "source": [
    "plot_scatter(plots=[{'dataset': chatgpt_abstracts_raw, 'x': 'real_word_count', 'y': 'generated_word_count', 'color': 'blue', 'alpha': 0.1,\n",
    "                     'display': 'Data point in ChatGPT-Research-Abstracts'}],\n",
    "             correlations=[{'interval': (50, 325), 'spaces': (2, 2, 1), 'positioning':(400, 160), 'color':'magenta', 'alpha':0.8},\n",
    "                           {'interval': (325, 420), 'spaces': (0, 2, 1),'positioning':(400, 120), 'color':'green', 'alpha':0.8},\n",
    "                           {'interval': (420, 600), 'spaces': (0, 4, 1), 'positioning':(400, 80), 'color':'darkblue', 'alpha':0.8},\n",
    "                           {'interval': (50, 600), 'spaces': (2, 0, 1), 'positioning':(400, 40), 'color':'black', 'alpha':0.95}],\n",
    "             d_lines=[{'start': (0, 0), 'increment': (1, 1), 'color': 'orange', 'alpha': 0.8, 'display': 'Perfect correlation', 'offset': (0, 0)}],\n",
    "             v_lines=[{'value': 325, 'color': 'grey', 'alpha': 0.8, 'text': 'x=325', 'offset': (5, 520)},\n",
    "                      {'value': 420, 'color': 'grey', 'alpha': 0.8, 'text': 'x=420', 'offset': (5, 520)}],\n",
    "             x_label='x: Real abstract word count',\n",
    "             y_label='y: Generated abstract word count',\n",
    "             y_lim=(0, 600),\n",
    "             legend_offset=(0.43, 0.95),\n",
    "             average_curve={'color': 'red', 'alpha': 0.8, 'display': 'Average word count correlation', 'offset': (10, 10)},\n",
    "             sigma=2)"
   ],
   "metadata": {
    "collapsed": false,
    "pycharm": {
     "name": "#%%\n"
    }
   }
  },
  {
   "cell_type": "code",
   "execution_count": 10,
   "outputs": [],
   "source": [
    "plot_loss_curves(plots=[{'dataset': chatgpt_abstracts_raw,\n",
    "                         'benchmark': 'real_word_count', 'predicted': 'generated_word_count',\n",
    "                         'positive-color': 'blue','negative-color': 'red', 'alpha': 0.6,\n",
    "                         'positive-display': 'Mean absolute positive deviation (MAPD)',\n",
    "                         'negative-display': 'Mean absolute negative deviation (MAND)',\n",
    "                         'mean-abs-display': 'Mean absolute total deviation (MATD)',\n",
    "                         'mean-abs-color': 'purple'}],\n",
    "                 deviations=[{'zero-text': 'Non-deviates:          ', 'positioning':(465, 30), 'color':'black', 'alpha':0.7},\n",
    "                             {'positive-text': 'Positive deviates:    ', 'positioning':(465, 20), 'color':'blue', 'alpha':0.8},\n",
    "                             {'negative-text': 'Negative deviates:  ', 'positioning':(465, 10), 'color':'red', 'alpha':0.8}],\n",
    "                 v_lines=[{'value': 325, 'color': 'grey', 'alpha': 0.8, 'text': 'x=325', 'offset': (5, 175)},\n",
    "                      {'value': 420, 'color': 'grey', 'alpha': 0.8, 'text': 'x=420', 'offset': (5, 175)}],\n",
    "                 x_label='Target word count',\n",
    "                 y_label='Average absolute deviation',\n",
    "                 legend_offset=(0.43, 0.95),\n",
    "                 sigma=5)"
   ],
   "metadata": {
    "collapsed": false,
    "pycharm": {
     "name": "#%%\n"
    }
   }
  },
  {
   "cell_type": "code",
   "execution_count": null,
   "outputs": [
    {
     "name": "stdout",
     "output_type": "stream",
     "text": [
      "2543\n",
      "27\n"
     ]
    }
   ],
   "source": [
    "plot_newline_frequencies(plots=[{'dataset': chatgpt_abstracts_clean, 'column': 'real_abstract', 'word_count': 'real_word_count', 'color': 'lavender', 'alpha': 0.8, 'display': 'Real abstracts, (CRA-Real)', 'mean_color': 'blue'},\n",
    "                                {'dataset': chatgpt_abstracts_clean, 'column': 'generated_abstract', 'word_count': 'generated_word_count', 'color': 'mistyrose', 'alpha': 0.8, 'display': 'Generated abstracts (CRA-Generated)', 'mean_color': 'red'}],\n",
    "                         x_label='x: Word Count',\n",
    "                         y_label='y: Number of words per paragraph',\n",
    "                         sigma=4,\n",
    "                         legend_coords=(0.45, 0.95),\n",
    "                         text_coords=(0.039, 0.66),\n",
    "                         v_lines=[{'value': 185, 'color': 'lightgrey', 'alpha': 0.8, 'text': 'x=185', 'offset': (5, 280)}])"
   ],
   "metadata": {
    "collapsed": false,
    "pycharm": {
     "name": "#%%\n"
    }
   }
  },
  {
   "cell_type": "markdown",
   "source": [
    "## In-context learning"
   ],
   "metadata": {
    "collapsed": false,
    "pycharm": {
     "name": "#%% md\n"
    }
   }
  },
  {
   "cell_type": "code",
   "execution_count": 2,
   "outputs": [
    {
     "name": "stderr",
     "output_type": "stream",
     "text": [
      "Found cached dataset csv (/Users/nicolaisivesind/.cache/huggingface/datasets/csv/default-9d2b72df7f5e5ead/0.0.0/6954658bab30a358235fa864b05cf819af0e179325c740e4bc853bcc7ec513e1)\n"
     ]
    },
    {
     "data": {
      "text/plain": "  0%|          | 0/1 [00:00<?, ?it/s]",
      "application/vnd.jupyter.widget-view+json": {
       "version_major": 2,
       "version_minor": 0,
       "model_id": "8d858b0d147b4d439702a88a2ba2b2dd"
      }
     },
     "metadata": {},
     "output_type": "display_data"
    },
    {
     "name": "stderr",
     "output_type": "stream",
     "text": [
      "Found cached dataset csv (/Users/nicolaisivesind/.cache/huggingface/datasets/csv/default-b1e90685e2ae0d34/0.0.0/6954658bab30a358235fa864b05cf819af0e179325c740e4bc853bcc7ec513e1)\n"
     ]
    },
    {
     "data": {
      "text/plain": "  0%|          | 0/1 [00:00<?, ?it/s]",
      "application/vnd.jupyter.widget-view+json": {
       "version_major": 2,
       "version_minor": 0,
       "model_id": "6cf30f12ca814ab09d51288dcd931775"
      }
     },
     "metadata": {},
     "output_type": "display_data"
    },
    {
     "name": "stderr",
     "output_type": "stream",
     "text": [
      "Found cached dataset csv (/Users/nicolaisivesind/.cache/huggingface/datasets/csv/default-653b07a1df5e0e7d/0.0.0/6954658bab30a358235fa864b05cf819af0e179325c740e4bc853bcc7ec513e1)\n"
     ]
    },
    {
     "data": {
      "text/plain": "  0%|          | 0/1 [00:00<?, ?it/s]",
      "application/vnd.jupyter.widget-view+json": {
       "version_major": 2,
       "version_minor": 0,
       "model_id": "a18b9a28d8ff49688f2e902b8e8de298"
      }
     },
     "metadata": {},
     "output_type": "display_data"
    },
    {
     "name": "stderr",
     "output_type": "stream",
     "text": [
      "Found cached dataset csv (/Users/nicolaisivesind/.cache/huggingface/datasets/csv/default-e821fc1ced51601f/0.0.0/6954658bab30a358235fa864b05cf819af0e179325c740e4bc853bcc7ec513e1)\n"
     ]
    },
    {
     "data": {
      "text/plain": "  0%|          | 0/1 [00:00<?, ?it/s]",
      "application/vnd.jupyter.widget-view+json": {
       "version_major": 2,
       "version_minor": 0,
       "model_id": "9aa7763f5a844c91b8fbd389e7d0f6e8"
      }
     },
     "metadata": {},
     "output_type": "display_data"
    }
   ],
   "source": [
    "icl_human_zero_shot = load_dataset(\"csv\", data_files=\"../results/in-context-learning/icl-human-zero-shot.csv\")['train']\n",
    "icl_human_few_shot = load_dataset(\"csv\", data_files=\"../results/in-context-learning/icl-human-few-shot.csv\")['train']\n",
    "icl_inductive_zero_shot = load_dataset(\"csv\", data_files=\"../results/in-context-learning/icl-inductive-zero-shot.csv\")['train']\n",
    "icl_inductive_few_shot = load_dataset(\"csv\", data_files=\"../results/in-context-learning/icl-inductive-few-shot.csv\")['train']"
   ],
   "metadata": {
    "collapsed": false,
    "pycharm": {
     "name": "#%%\n"
    }
   }
  },
  {
   "cell_type": "markdown",
   "source": [
    "### ICL Confidence box plots"
   ],
   "metadata": {
    "collapsed": false,
    "pycharm": {
     "name": "#%% md\n"
    }
   }
  },
  {
   "cell_type": "code",
   "execution_count": 3,
   "outputs": [],
   "source": [
    "plot_confidence_scores(plots=[{'dataset':icl_human_zero_shot, 'true_label_column':'label', 'human_score_column':'human_probability', 'generated_score_column':'generated_probability'}], human_label='Human', generated_label='Machine')"
   ],
   "metadata": {
    "collapsed": false,
    "pycharm": {
     "name": "#%%\n"
    }
   }
  },
  {
   "cell_type": "code",
   "execution_count": null,
   "outputs": [],
   "source": [
    "plot_confidence_scores(plots=[{'dataset':icl_inductive_zero_shot, 'true_label_column':'label', 'human_score_column':'human_probability', 'generated_score_column':'generated_probability'}], human_label='Human', generated_label='AI')"
   ],
   "metadata": {
    "collapsed": false,
    "pycharm": {
     "name": "#%%\n"
    }
   }
  },
  {
   "cell_type": "code",
   "execution_count": null,
   "outputs": [],
   "source": [
    "plot_confidence_scores(plots=[{'dataset':icl_human_few_shot, 'true_label_column':'label', 'human_score_column':'human_probability', 'generated_score_column':'generated_probability'}], human_label='Human', generated_label='Machine')"
   ],
   "metadata": {
    "collapsed": false,
    "pycharm": {
     "name": "#%%\n"
    }
   }
  },
  {
   "cell_type": "code",
   "execution_count": null,
   "outputs": [],
   "source": [
    "plot_confidence_scores(plots=[{'dataset':icl_inductive_few_shot, 'true_label_column':'label', 'human_score_column':'human_probability', 'generated_score_column':'generated_probability'}], human_label='Human', generated_label='AI')"
   ],
   "metadata": {
    "collapsed": false,
    "pycharm": {
     "name": "#%%\n"
    }
   }
  },
  {
   "cell_type": "markdown",
   "source": [
    "### ICL Confision matrices"
   ],
   "metadata": {
    "collapsed": false,
    "pycharm": {
     "name": "#%% md\n"
    }
   }
  },
  {
   "cell_type": "code",
   "execution_count": 6,
   "outputs": [],
   "source": [
    "plot_confusion_matrix(dataset=icl_human_zero_shot, true_label_column='label', human_score_column='human_probability',\n",
    "                       generated_score_column='generated_probability', human_label='Human', generated_label='Machine', generated_threshold=0.000)"
   ],
   "metadata": {
    "collapsed": false,
    "pycharm": {
     "name": "#%%\n"
    }
   }
  },
  {
   "cell_type": "code",
   "execution_count": 8,
   "outputs": [],
   "source": [
    "plot_confusion_matrix(dataset=icl_inductive_zero_shot, true_label_column='label', human_score_column='human_probability',\n",
    "                       generated_score_column='generated_probability', human_label='Human', generated_label='AI', generated_threshold=0.078)"
   ],
   "metadata": {
    "collapsed": false,
    "pycharm": {
     "name": "#%%\n"
    }
   }
  },
  {
   "cell_type": "code",
   "execution_count": 9,
   "outputs": [],
   "source": [
    "plot_confusion_matrix(dataset=icl_human_few_shot, true_label_column='label', human_score_column='human_probability',\n",
    "                       generated_score_column='generated_probability', human_label='Human', generated_label='Machine', generated_threshold=0.002)"
   ],
   "metadata": {
    "collapsed": false,
    "pycharm": {
     "name": "#%%\n"
    }
   }
  },
  {
   "cell_type": "code",
   "execution_count": 10,
   "outputs": [],
   "source": [
    "plot_confusion_matrix(dataset=icl_inductive_few_shot, true_label_column='label', human_score_column='human_probability',\n",
    "                       generated_score_column='generated_probability', human_label='Human', generated_label='AI', generated_threshold=0.168)"
   ],
   "metadata": {
    "collapsed": false,
    "pycharm": {
     "name": "#%%\n"
    }
   }
  },
  {
   "cell_type": "markdown",
   "source": [
    "### ICL GCS thresholds"
   ],
   "metadata": {
    "collapsed": false,
    "pycharm": {
     "name": "#%% md\n"
    }
   }
  },
  {
   "cell_type": "code",
   "execution_count": 103,
   "outputs": [],
   "source": [
    "plot_metric_score_thresholds(plots=[{'dataset':icl_human_zero_shot, 'true_label_column':'label', 'human_score_column':'human_probability',\n",
    "                               'generated_score_column':'generated_probability','human_label': 'Human', 'generated_label': 'Machine',\n",
    "                               'color': 'green', 'alpha': 0.6, 'display': 'Human-zero-shot'},\n",
    "                              {'dataset':icl_inductive_zero_shot, 'true_label_column':'label', 'human_score_column':'human_probability', 'generated_score_column':'generated_probability','human_label': 'Human', 'generated_label': 'AI',\n",
    "                               'color': 'orange', 'alpha': 0.6, 'display': 'Inductive-zero-shot'},\n",
    "                               {'dataset':icl_human_few_shot, 'true_label_column':'label', 'human_score_column':'human_probability',\n",
    "                               'generated_score_column':'generated_probability','human_label': 'Human', 'generated_label': 'Machine',\n",
    "                               'color': 'red', 'alpha': 0.8, 'display': 'Human-few-shot'},\n",
    "                              {'dataset':icl_inductive_few_shot, 'true_label_column':'label', 'human_score_column':'human_probability', 'generated_score_column':'generated_probability','human_label': 'Human', 'generated_label': 'AI',\n",
    "                               'color': 'blue', 'alpha': 0.8, 'display': 'Inductive-few-shot'}], start=0.0, end=1, step_size=0.001, metric='Accuracy')"
   ],
   "metadata": {
    "collapsed": false,
    "pycharm": {
     "name": "#%%\n"
    }
   }
  },
  {
   "cell_type": "code",
   "execution_count": null,
   "outputs": [],
   "source": [
    "plot_metric_score_thresholds(plots=[{'dataset':icl_human_zero_shot, 'true_label_column':'label', 'human_score_column':'human_probability',\n",
    "                               'generated_score_column':'generated_probability','human_label': 'Human', 'generated_label': 'Machine',\n",
    "                               'color': 'green', 'alpha': 0.6, 'display': 'Human-zero-shot'},\n",
    "                              {'dataset':icl_inductive_zero_shot, 'true_label_column':'label', 'human_score_column':'human_probability', 'generated_score_column':'generated_probability','human_label': 'Human', 'generated_label': 'AI',\n",
    "                               'color': 'orange', 'alpha': 0.6, 'display': 'Inductive-zero-shot'},\n",
    "                               {'dataset':icl_human_few_shot, 'true_label_column':'label', 'human_score_column':'human_probability',\n",
    "                               'generated_score_column':'generated_probability','human_label': 'Human', 'generated_label': 'Machine',\n",
    "                               'color': 'red', 'alpha': 0.8, 'display': 'Human-few-shot'},\n",
    "                              {'dataset':icl_inductive_few_shot, 'true_label_column':'label', 'human_score_column':'human_probability', 'generated_score_column':'generated_probability','human_label': 'Human', 'generated_label': 'AI',\n",
    "                               'color': 'blue', 'alpha': 0.8, 'display': 'Inductive-few-shot'}], start=0.0, end=1, step_size=0.001, metric='F1')"
   ],
   "metadata": {
    "collapsed": false,
    "pycharm": {
     "name": "#%%\n"
    }
   }
  }
 ],
 "metadata": {
  "kernelspec": {
   "display_name": "Python 3",
   "language": "python",
   "name": "python3"
  },
  "language_info": {
   "codemirror_mode": {
    "name": "ipython",
    "version": 2
   },
   "file_extension": ".py",
   "mimetype": "text/x-python",
   "name": "python",
   "nbconvert_exporter": "python",
   "pygments_lexer": "ipython2",
   "version": "2.7.6"
  }
 },
 "nbformat": 4,
 "nbformat_minor": 0
}