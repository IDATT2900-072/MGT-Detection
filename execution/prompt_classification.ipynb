{
 "cells": [
  {
   "cell_type": "markdown",
   "source": [
    "# Prompt classification"
   ],
   "metadata": {
    "collapsed": false,
    "pycharm": {
     "name": "#%% md\n"
    }
   }
  },
  {
   "cell_type": "code",
   "execution_count": 1,
   "outputs": [
    {
     "name": "stderr",
     "output_type": "stream",
     "text": [
      "Found cached dataset csv (/Users/nicolaisivesind/.cache/huggingface/datasets/csv/default-1f4fea6800581e19/0.0.0/6954658bab30a358235fa864b05cf819af0e179325c740e4bc853bcc7ec513e1)\n"
     ]
    },
    {
     "data": {
      "text/plain": "  0%|          | 0/1 [00:00<?, ?it/s]",
      "application/vnd.jupyter.widget-view+json": {
       "version_major": 2,
       "version_minor": 0,
       "model_id": "412c258ffa614accb7b2800575a1c669"
      }
     },
     "metadata": {},
     "output_type": "display_data"
    },
    {
     "name": "stderr",
     "output_type": "stream",
     "text": [
      "Loading cached processed dataset at /Users/nicolaisivesind/.cache/huggingface/datasets/csv/default-1f4fea6800581e19/0.0.0/6954658bab30a358235fa864b05cf819af0e179325c740e4bc853bcc7ec513e1/cache-2154fa43d34099ef.arrow\n"
     ]
    }
   ],
   "source": [
    "import datasets as ds\n",
    "from models.prompt_classifier import PromptClassifier\n",
    "from pathlib import Path\n",
    "import re\n",
    "\n",
    "\n",
    "def process_text(example, column1, column2):\n",
    "    for column_name in [column1, column2]:\n",
    "        # Collapse all sequences of whitespace into a single space\n",
    "        modified_text = re.sub(r'\\s+', ' ', example[column_name])\n",
    "        example[column_name] = modified_text\n",
    "\n",
    "    return example\n",
    "\n",
    "\n",
    "research_abstracts = ds.load_dataset(\"csv\", data_files=\"../../datasets/origins/ChatGPT-Research-Abstracts/research_abstracts-final.csv\")[\"train\"]\n",
    "processed_abstracts = research_abstracts.map(lambda text: process_text(text, 'real_abstract', 'generated_abstract'))"
   ],
   "metadata": {
    "collapsed": false,
    "pycharm": {
     "name": "#%%\n"
    }
   }
  },
  {
   "cell_type": "code",
   "execution_count": 2,
   "outputs": [
    {
     "name": "stdout",
     "output_type": "stream",
     "text": [
      " Sorting into lists: 99%\n",
      " Sampling data points: 100%\n",
      "Total rows in few-shot task bundles 4000\n",
      "No file already exists. Creating blank CSV\n",
      "\n",
      "No file already exists. Creating blank CSV\n",
      "\n",
      " 754/1000, Zero-shot | 754/1000, Few-shot\n",
      " API-error. Reattempting API-call. Attempt 1\n",
      " 788/1000, Zero-shot | 787/1000, Few-shot\n",
      " API-error. Reattempting API-call. Attempt 1\n",
      " 1000/1000, Zero-shot | 1000/1000, Few-shot\n",
      "\n",
      "Classification complete\n"
     ]
    }
   ],
   "source": [
    "API_KEY = Path('../../api-keys/openai_key').read_text()\n",
    "davinci = \"text-davinci-003\"\n",
    "\n",
    "prompter = PromptClassifier(dataset=processed_abstracts, api_key=API_KEY, model=davinci, ban_bias=-100, boost_bias=100)\n",
    "\n",
    "prompter.classify_set(target_dir_path='../results',\n",
    "                      target_files_base_name='abstracts-gpt-nonewlines',\n",
    "                      num_classifications=1000,\n",
    "                      title_column='title',\n",
    "                      zero_shot_prompt='gpt-zero-shot',\n",
    "                      few_shot_prompt='gpt-few-shot',\n",
    "                      human_column=\"real_abstract\",\n",
    "                      generated_column=\"generated_abstract\",\n",
    "                      human_word_count_column=\"real_word_count\",\n",
    "                      generated_word_count_column=\"generated_word_count\",\n",
    "                      min_word_count=50,\n",
    "                      max_word_count=325,\n",
    "                      debug=True,\n",
    "                      start_index=0)"
   ],
   "metadata": {
    "collapsed": false,
    "pycharm": {
     "name": "#%%\n"
    }
   }
  },
  {
   "cell_type": "code",
   "execution_count": 7,
   "outputs": [
    {
     "name": "stderr",
     "output_type": "stream",
     "text": [
      "Found cached dataset csv (/Users/nicolaisivesind/.cache/huggingface/datasets/aadityaubhat___csv/aadityaubhat--GPT-wiki-intro-10ad8b711a5f3880/0.0.0/6954658bab30a358235fa864b05cf819af0e179325c740e4bc853bcc7ec513e1)\n"
     ]
    },
    {
     "data": {
      "text/plain": "  0%|          | 0/1 [00:00<?, ?it/s]",
      "application/vnd.jupyter.widget-view+json": {
       "version_major": 2,
       "version_minor": 0,
       "model_id": "62c031c86a094881a0a71a3755a451ca"
      }
     },
     "metadata": {},
     "output_type": "display_data"
    }
   ],
   "source": [
    "wiki_intros = ds.load_dataset(\"aadityaubhat/GPT-wiki-intro\")['train']"
   ],
   "metadata": {
    "collapsed": false,
    "pycharm": {
     "name": "#%%\n"
    }
   }
  },
  {
   "cell_type": "code",
   "execution_count": 4,
   "outputs": [
    {
     "name": "stdout",
     "output_type": "stream",
     "text": [
      " Sorting into lists: 99%\n",
      " Sampling data points: 100%\n",
      "Total rows in few-shot task bundles 4000\n",
      "No file already exists. Creating blank CSV\n",
      "\n",
      "No file already exists. Creating blank CSV\n",
      "\n",
      " 1000/1000, Zero-shot | 999/1000, Few-shot\n",
      "\n",
      "Input text:\"This paper presents an algorithm for approximating Nash equilibria and dense subgraphs in a graph using an approximate version of Carath\\'{e}odory's theorem. We demonstrate that this algorithm provides a solution that is close to optimal and that our method has applications for a range of problems in game theory and graph theory. The problem of approximating Nash equilibria is a well-studied problem in game theory. However, computing a Nash equilibrium is known to be an NP-hard problem. In this work, we propose a novel algorithm for approximating Nash equilibria based on an approximate version of Carath\\'{e}odory's theorem. Our algorithm provides a provable upper bound on the distance of our solution from the actual Nash equilibrium. Our algorithm is also applicable for finding dense subgraphs in a graph. In particular, we demonstrate that our algorithm is effective in finding dense subgraphs in social networks for marketing purposes. By using our algorithm, we can identify the groups of individuals who share common interests in the network. We analyze the performance of our algorithm on both synthetic and real-world datasets. Results show that our algorithm is able to provide high-quality approximation solutions for both Nash equilibrium and dense subgraph problems. Furthermore, our algorithm is computationally efficient and scales well for large-scale graphs. In summary, this paper proposes a new algorithm for approximating Nash equilibria and dense subgraphs in a graph, based on an approximate version of Carath\\'{e}odory's theorem. Our algorithm provides a provable upper bound on the accuracy of our solution for both problems. We demonstrate the effectiveness and scalability of our algorithm on both synthetic and real-world datasets.\"\n",
      "\n",
      "---\n",
      "\n",
      "An input text is given above. Perform zero-shot classification of the input text. Your task is to classify the input text and predict if it is written by a human (use the class label: Human) or if it is generated by a large language model such as yourself (use the class label: AI). Respond with the exact class label of your prediction.\n",
      "\n",
      "\n",
      "Top logprobs: {'Human': -0.0005249685, 'AI': -7.552313, '!': -87.33654, '\"': -87.33654, '#': -87.33654}\n",
      "Answer:\"Human\"\n",
      "Probabilities. tensor([9.9948e-01, 5.2489e-04])\n",
      "\n",
      "Response: [\"Approximating Nash Equilibria and Dense Subgraphs via an Approximate Version of Carath\\\\'{e}odory's Theorem\", 281, 'AI', 'Human', 0.9995, 0.0005, 'Human']\n",
      " 1000/1000, Zero-shot | 1000/1000, Few-shot\n",
      "\n",
      "Example 1:\n",
      "Text: \"Atomic nanowires on semiconductor surfaces induced by the adsorption of metallic atoms have attracted a lot of attention as possible hosts of the elusive, Tomonaga-Luttinger liquid. The Au/Ge(100) system in particular is the subject of controversy as to whether the Au-induced nanowires do indeed host exotic, 1D metallic states. We report on a thorough study of the electronic properties of high quality nanowires formed at the Au/Ge(100) surface. High resolution ARPES data show the low-lying Au-induced electronic states to possess a dispersion relation that depends on two orthogonal directions in k-space. Comparison of the E(k$_x$,k$_y$) surface measured using ARPES to tight-binding calculations yields hopping parameters in the two different directions that differ by a factor of two. We find that the larger of the two hopping parameters corresponds, in fact, to the direction perpendicular to the nanowires (t$_{\\perp}$). This, the topology of the $E$=$E_F$ contour in k$_{\\||}$, and the fact that $t_{\\||}$/$t_{\\perp}\\sim 0.5$ proves that the Au-induced electron pockets possess a 2D, closed Fermi surface, this firmly places the Au/Ge(100) nanowire system outside being a potential hosts of a Tomonaga-Luttinger liquid. We combine these ARPES data with STS measurements of the spatially-resolved electronic structure and find that the spatially straight conduction channels observed up to energies of order one electron volt below the Fermi level do not originate from the Au-induced states seen in the ARPES data. The former are more likely to be associated with bulk Ge states that are localized to the subsurface region. Despite our proof of the 2D nature of the Au-induced nanowire and sub-surface Ge-related states, an anomalous suppression of the density of states at the Fermi level is observed in both the STS and ARPES data, this phenomenon is discussed in the light of the effects of disorder.\"\n",
      "Class label: Human \n",
      "\n",
      "Example 2:\n",
      "Text: \"The formation and characterization of gold-induced nanowires on the germanium (Ge) (100) surface have been studied to understand the electronic properties of nanoscale materials. Although previous studies had suggested that the resulting structure would be one-dimensional (1D), our research shows that it is, in fact, two-dimensional (2D). Using scanning tunneling microscopy (STM) and spectroscopy (STS), we have identified that the nanowires are composed of metallic gold atoms that form zigzag chains on the Ge surface. We found that the electronic structure of the nanowires follows a 2D behavior, which is determined by the quantum confinement effect caused by the low dimensions of the structure. This behavior contradicts the previous idea that these nanowires would exhibit a 1D electronic structure. Our findings show that the gold-induced nanowires on the Ge (100) surface have fascinating electronic properties and may have potential applications in electronic devices and sensors. Further research is required to understand the electronic properties of these nanowires and their behavior under different conditions. In conclusion, our study reveals that the gold-induced nanowires on Ge (100) are two-dimensional, inspiring additional work to improve our grasp of the underlying physics involved. With the progress expected in the fabrication and characterization of nano-devices, the scientific community is looking at nanowires with rising interest due to their unique confinement and transport features.\"\n",
      "Class label: AI \n",
      "\n",
      "Example 3:\n",
      "Text: \"The paper is concerned with the following $n\\times n$ Dirac type equation$$Ly=-iB(x)^{-1}(y'+Q(x)y)=\\lambda y, \\quad B(x)=B(x)^*,\\quad y={\\rm col}(y_1,\\ldots,y_n),\\quad x\\in[0,\\ell],$$ on a finite interval $[0,\\ell]$. Here $Q$ is a summable potential $n\\times n$ matrix function and $B$ is an invertible self-adjoint diagonal bounded matrix function. If $n=2m$ and $B(x)={\\rm diag}(-I_m,I_m)$, this equation is equivalent to Dirac equation of order $n$. We show the existence of triangular transformation operators for such equation under additional uniform separation conditions on the entries of the matrix function $B$. Here we apply this result to study direct spectral properties of the boundary value problem (BVP) associated with the above equation subject to the general boundary conditions $U(y)=Cy(0)+Dy(\\ell)=0,{\\rm rank}(C\\ D)=n$. We apply this result to show that the deviation of the characteristic determinants of this BVP and the unperturbed BVP (with $Q=0$) is a Fourier transform of some summable function, which in turn yields asymptotic behavior of the spectrum in the case of regular boundary conditions. Namely, $\\lambda_m=\\lambda_m^0+o(1)$ as $m\\to\\infty$, where $\\{\\lambda_m\\}_{m\\in\\mathbb{Z}}$ and $\\{\\lambda_m^0\\}_{m\\in\\mathbb{Z}}$ are sequences of eigenvalues of perturbed and unperturbed ($Q=0$) BVP, respectively. Further, we prove that the system of root vectors of the above BVP constitutes a Riesz basis in a certain weighted $L^2$-space, provided that the boundary conditions are strictly regular. The main results are applied to establish asymptotic behavior of eigenvalues and eigenvectors, and the Riesz basis property for the dynamic generator of the Timoshenko beam model. We also found a new case when eigenvalues have an explicit asymptotic, which to the best of our knowledge is new even in the case of constant parameters of the model.\"\n",
      "Class label: Human \n",
      "\n",
      "Example 4:\n",
      "Text: \"This paper presents an investigation into the transformation operators and Riesz basis property of root vectors system for $n \\times n$ Dirac type operators. The Timoshenko beam model is utilized to showcase the results. The study is motivated by the importance of understanding these properties as they have been found to play a significant role in various areas of physics and engineering. The main focus of this paper is to establish conditions for the matrix-valued function generated by the root vectors system of the Dirac type operator to be a Riesz basis, where the boundary conditions are defined for the Timoshenko beam model. The results show that the Riesz basis property is heavily dependent on the nature of the boundary control parameters, which are identified in this paper. These findings are of utmost importance in understanding the mathematical theory and applications of the Timoshenko beam model, which is used to study deformations of beams that are subjected to transverse loads. Furthermore, we examine the significance of the transformation operators in determining the properties of the root vectors system. It is shown that the transformation operators play a vital role in establishing the Riesz basis property. An explicit form of the transformation operator is given, and its properties are analyzed. These results provide further understanding of the underlying mathematical structure and properties of Dirac type operators and their applications in the study of deformation. In conclusion, this paper establishes conditions for the matrix-valued function generated by the root vectors system of the Dirac type operator to be a Riesz basis for the Timoshenko beam model. Furthermore, the significance of the transformation operators in determining the properties of the root vectors system is analyzed. The findings of this study are crucial for understanding the mathematical theory and applications of the Timoshenko beam model, and they have important implications for the study of deformations of beams subjected to transverse loads.\"\n",
      "Class label: AI \n",
      "\n",
      "Example 5:\n",
      "Text: \"We report the distribution of planets as a function of planet radius (R_p), orbital period (P), and stellar effective temperature (Teff) for P < 50 day orbits around GK stars. These results are based on the 1,235 planets (formally \"planet candidates\") from the Kepler mission that include a nearly complete set of detected planets as small as 2 Earth radii (Re). For each of the 156,000 target stars we assess the detectability of planets as a function of R_p and P. We also correct for the geometric probability of transit, R*/a. We consider first stars within the \"solar subset\" having Teff = 4100-6100 K, logg = 4.0-4.9, and Kepler magnitude Kp < 15 mag. We include only those stars having noise low enough to permit detection of planets down to 2 Re. We count planets in small domains of R_p and P and divide by the included target stars to calculate planet occurrence in each domain. Occurrence of planets varies by more than three orders of magnitude and increases substantially down to the smallest radius (2 Re) and out to the longest orbital period (50 days, ~0.25 AU) in our study. For P < 50 days, the radius distribution is given by a power law, df/dlogR= k R^\\alpha. This rapid increase in planet occurrence with decreasing planet size agrees with core-accretion, but disagrees with population synthesis models. We fit occurrence as a function of P to a power law model with an exponential cutoff below a critical period P_0. For smaller planets, P_0 has larger values, suggesting that the \"parking distance\" for migrating planets moves outward with decreasing planet size. We also measured planet occurrence over Teff = 3600-7100 K, spanning M0 to F2 dwarfs. The occurrence of 2-4 Re planets in the Kepler field increases with decreasing Teff, making these small planets seven times more abundant around cool stars than the hottest stars in our sample. [abridged]\"\n",
      "Class label: Human \n",
      "\n",
      "Example 6:\n",
      "Text: \"The study presented in this research paper aims to investigate the occurrence of planets within a short distance from solar-type stars. The observational data used for this study were collected with NASA's Kepler space telescope, providing a comprehensive survey of potential planetary systems. In particular, we focused on planets located within 0.25 astronomical units (AU) from their host stars. We analyzed the light curve data of over 42,000 stars within the Kepler database and identified several hundred planetary candidates associated with solar-type stars. To validate our findings, we employed a range of statistical methods, including calculating false positive probabilities, assessing completeness and detecting any potential biases in our sample. Our results suggest that planets within 0.25 AU of solar-type stars are relatively common, with a frequency of occurrence of 26.5% among the surveyed stars. The majority of these planets are smaller than Neptune, with a size range between 0.5 and 4 times that of Earth's radius. Moreover, the occurrence rate seems to be significantly higher for stars with lower masses and cooler temperatures, which may suggest a correlation between the formation of planets and stellar properties. Regarding the orbital properties of the identified planets, the majority had short orbital periods, with a median value of 4 days, and very low eccentricities. This result indicates that such planets may have migrated from their initial locations, as they would have been subject to tidal forces that tend to circularize their orbits. In conclusion, our study provides comprehensive observational evidence for the occurrence of planets within 0.25 AU of solar-type stars, with implications for the formation and evolution of planetary systems. Future research using new instruments, such as the Transiting Exoplanet Survey Satellite, may improve our understanding of exoplanet properties and help to refine our estimates of their occurrence rates.\"\n",
      "Class label: AI \n",
      "\n",
      "---\n",
      "\n",
      "Input text: \"This paper presents an algorithm for approximating Nash equilibria and dense subgraphs in a graph using an approximate version of Carath\\'{e}odory's theorem. We demonstrate that this algorithm provides a solution that is close to optimal and that our method has applications for a range of problems in game theory and graph theory. The problem of approximating Nash equilibria is a well-studied problem in game theory. However, computing a Nash equilibrium is known to be an NP-hard problem. In this work, we propose a novel algorithm for approximating Nash equilibria based on an approximate version of Carath\\'{e}odory's theorem. Our algorithm provides a provable upper bound on the distance of our solution from the actual Nash equilibrium. Our algorithm is also applicable for finding dense subgraphs in a graph. In particular, we demonstrate that our algorithm is effective in finding dense subgraphs in social networks for marketing purposes. By using our algorithm, we can identify the groups of individuals who share common interests in the network. We analyze the performance of our algorithm on both synthetic and real-world datasets. Results show that our algorithm is able to provide high-quality approximation solutions for both Nash equilibrium and dense subgraph problems. Furthermore, our algorithm is computationally efficient and scales well for large-scale graphs. In summary, this paper proposes a new algorithm for approximating Nash equilibria and dense subgraphs in a graph, based on an approximate version of Carath\\'{e}odory's theorem. Our algorithm provides a provable upper bound on the accuracy of our solution for both problems. We demonstrate the effectiveness and scalability of our algorithm on both synthetic and real-world datasets.\"\n",
      "\n",
      "----\n",
      "\n",
      "Labeled examples are given above in addition to an input text. Use the examples to perform few-shot classification of the input text. Your task is to classify the input text and predict if it is written by a human (use the class label: Human) or if it is generated by a large language model such as yourself (use the class label: AI). Respond with the exact class label of your prediction.\n",
      "\n",
      "\n",
      "Top logprobs: {'Human': -0.54190177, 'AI': -0.8714153, '!': -87.33654, '\"': -87.33654, '#': -87.33654}\n",
      "Answer:\"Human\"\n",
      "Probabilities. tensor([0.5816, 0.4184])\n",
      "\n",
      "Response: [\"Approximating Nash Equilibria and Dense Subgraphs via an Approximate Version of Carath\\\\'{e}odory's Theorem\", 281, 'AI', 'Human', 0.5816, 0.4184, 'Human']\n",
      "\n",
      "\n",
      "Debug. i:999\n"
     ]
    }
   ],
   "source": [
    "prompter = PromptClassifier(dataset=processed_abstracts, api_key=API_KEY, model=davinci, ban_bias=-100, boost_bias=100)\n",
    "prompter.classify_set(target_dir_path='../results',\n",
    "                      target_files_base_name='abstracts-gpt-test',\n",
    "                      num_classifications=1000,\n",
    "                      title_column='title',\n",
    "                      zero_shot_prompt='zero-shot',\n",
    "                      few_shot_prompt='few-shot',\n",
    "                      human_column=\"real_abstract\",\n",
    "                      generated_column=\"generated_abstract\",\n",
    "                      human_word_count_column=\"real_word_count\",\n",
    "                      generated_word_count_column=\"generated_word_count\",\n",
    "                      min_word_count=50,\n",
    "                      max_word_count=325,\n",
    "                      debug=True,\n",
    "                      start_index=999)"
   ],
   "metadata": {
    "collapsed": false,
    "pycharm": {
     "name": "#%%\n"
    }
   }
  },
  {
   "cell_type": "code",
   "execution_count": null,
   "outputs": [],
   "source": [],
   "metadata": {
    "collapsed": false,
    "pycharm": {
     "name": "#%%\n"
    }
   }
  }
 ],
 "metadata": {
  "kernelspec": {
   "display_name": "Python 3",
   "language": "python",
   "name": "python3"
  },
  "language_info": {
   "codemirror_mode": {
    "name": "ipython",
    "version": 2
   },
   "file_extension": ".py",
   "mimetype": "text/x-python",
   "name": "python",
   "nbconvert_exporter": "python",
   "pygments_lexer": "ipython2",
   "version": "2.7.6"
  }
 },
 "nbformat": 4,
 "nbformat_minor": 0
}