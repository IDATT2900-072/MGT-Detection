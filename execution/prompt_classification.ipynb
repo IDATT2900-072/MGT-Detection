{
 "cells": [
  {
   "cell_type": "markdown",
   "source": [
    "# Prompt classification"
   ],
   "metadata": {
    "collapsed": false,
    "pycharm": {
     "name": "#%% md\n"
    }
   }
  },
  {
   "cell_type": "code",
   "execution_count": 1,
   "outputs": [
    {
     "name": "stderr",
     "output_type": "stream",
     "text": [
      "Found cached dataset csv (/Users/nicolaisivesind/.cache/huggingface/datasets/csv/default-1f4fea6800581e19/0.0.0/6954658bab30a358235fa864b05cf819af0e179325c740e4bc853bcc7ec513e1)\n"
     ]
    },
    {
     "data": {
      "text/plain": "  0%|          | 0/1 [00:00<?, ?it/s]",
      "application/vnd.jupyter.widget-view+json": {
       "version_major": 2,
       "version_minor": 0,
       "model_id": "412c258ffa614accb7b2800575a1c669"
      }
     },
     "metadata": {},
     "output_type": "display_data"
    },
    {
     "name": "stderr",
     "output_type": "stream",
     "text": [
      "Loading cached processed dataset at /Users/nicolaisivesind/.cache/huggingface/datasets/csv/default-1f4fea6800581e19/0.0.0/6954658bab30a358235fa864b05cf819af0e179325c740e4bc853bcc7ec513e1/cache-2154fa43d34099ef.arrow\n"
     ]
    }
   ],
   "source": [
    "import datasets as ds\n",
    "from models.prompt_classifier import PromptClassifier\n",
    "from pathlib import Path\n",
    "import re\n",
    "\n",
    "\n",
    "def process_text(example, column1, column2):\n",
    "    for column_name in [column1, column2]:\n",
    "        # Collapse all sequences of whitespace into a single space\n",
    "        modified_text = re.sub(r'\\s+', ' ', example[column_name])\n",
    "        example[column_name] = modified_text\n",
    "\n",
    "    return example\n",
    "\n",
    "\n",
    "research_abstracts = ds.load_dataset(\"csv\", data_files=\"../../datasets/origins/ChatGPT-Research-Abstracts/research_abstracts-final.csv\")[\"train\"]\n",
    "processed_abstracts = research_abstracts.map(lambda text: process_text(text, 'real_abstract', 'generated_abstract'))"
   ],
   "metadata": {
    "collapsed": false,
    "pycharm": {
     "name": "#%%\n"
    }
   }
  },
  {
   "cell_type": "code",
   "execution_count": 2,
   "outputs": [
    {
     "name": "stdout",
     "output_type": "stream",
     "text": [
      " Sorting into lists: 99%\n",
      " Sampling data points: 100%\n",
      "Total rows in few-shot task bundles 4000\n",
      "No file already exists. Creating blank CSV\n",
      "\n",
      "No file already exists. Creating blank CSV\n",
      "\n",
      " 754/1000, Zero-shot | 754/1000, Few-shot\n",
      " API-error. Reattempting API-call. Attempt 1\n",
      " 788/1000, Zero-shot | 787/1000, Few-shot\n",
      " API-error. Reattempting API-call. Attempt 1\n",
      " 1000/1000, Zero-shot | 1000/1000, Few-shot\n",
      "\n",
      "Classification complete\n"
     ]
    }
   ],
   "source": [
    "API_KEY = Path('../../api-keys/openai_key').read_text()\n",
    "davinci = \"text-davinci-003\"\n",
    "\n",
    "prompter = PromptClassifier(dataset=processed_abstracts, api_key=API_KEY, model=davinci, ban_bias=-100, boost_bias=100)\n",
    "\n",
    "prompter.classify_set(target_dir_path='../results',\n",
    "                      target_files_base_name='abstracts-gpt-nonewlines',\n",
    "                      num_classifications=1000,\n",
    "                      title_column='title',\n",
    "                      zero_shot_prompt='gpt-zero-shot',\n",
    "                      few_shot_prompt='gpt-few-shot',\n",
    "                      human_column=\"real_abstract\",\n",
    "                      generated_column=\"generated_abstract\",\n",
    "                      human_word_count_column=\"real_word_count\",\n",
    "                      generated_word_count_column=\"generated_word_count\",\n",
    "                      min_word_count=50,\n",
    "                      max_word_count=325,\n",
    "                      debug=False,\n",
    "                      start_index=0)"
   ],
   "metadata": {
    "collapsed": false,
    "pycharm": {
     "name": "#%%\n"
    }
   }
  },
  {
   "cell_type": "code",
   "execution_count": 7,
   "outputs": [
    {
     "name": "stderr",
     "output_type": "stream",
     "text": [
      "Found cached dataset csv (/Users/nicolaisivesind/.cache/huggingface/datasets/aadityaubhat___csv/aadityaubhat--GPT-wiki-intro-10ad8b711a5f3880/0.0.0/6954658bab30a358235fa864b05cf819af0e179325c740e4bc853bcc7ec513e1)\n"
     ]
    },
    {
     "data": {
      "text/plain": "  0%|          | 0/1 [00:00<?, ?it/s]",
      "application/vnd.jupyter.widget-view+json": {
       "version_major": 2,
       "version_minor": 0,
       "model_id": "62c031c86a094881a0a71a3755a451ca"
      }
     },
     "metadata": {},
     "output_type": "display_data"
    }
   ],
   "source": [
    "wiki_intros = ds.load_dataset(\"aadityaubhat/GPT-wiki-intro\")['train']"
   ],
   "metadata": {
    "collapsed": false,
    "pycharm": {
     "name": "#%%\n"
    }
   }
  },
  {
   "cell_type": "code",
   "execution_count": 16,
   "outputs": [
    {
     "name": "stdout",
     "output_type": "stream",
     "text": [
      " Sorting into lists: 99%\n",
      " Sampling data points: 100%\n",
      "Total rows in few-shot task bundles 4000\n",
      "CSV-file already exists. Will append new rows to existing document. Cancel execution if this is not intended.\n",
      "\n",
      "CSV-file already exists. Will append new rows to existing document. Cancel execution if this is not intended.\n",
      "\n",
      " 608/1000, Zero-shot | 607/1000, Few-shot\n",
      "\n",
      "Input text:\"Raúl Argemí (1946–present) is an Argentinean writer, journalist, and television presenter. He is considered one of the most important contemporary Argentine authors. Argemí's work has been praised for its lyrical and atmospheric quality.\n",
      "\n",
      "Argemí was born in 1946 in Buenos Aires, Argentina. He studied at the University of Buenos Aires and later worked as a journalist for various publications, including El País and La Nación. He has been a television presenter since 1987, most notably for the show Periodismo Para Todos. Argemí has also written several books, including El abrazo de la muerte (1981), Los ángeles (1987), and La voz de la tierra (1997). He currently lives in Barcelona, Spain.\"\n",
      "\n",
      "---\n",
      "\n",
      "An input text is given above. Perform zero-shot classification of the input text. Your task is to classify the input text and predict if it is written by a human (use the class label: Human) or if it is generated by a large language model such as yourself (use the class label: Machine). Respond with the exact class label of your prediction.\n",
      "\n",
      "\n",
      "Top logprobs: {'Human': -2.7967804e-05, 'Machine': -10.484548, '!': -87.33654, '\"': -87.33654, '#': -87.33654}\n",
      "Answer:\"Human\"\n",
      "Probabilities. tensor([9.9997e-01, 2.7965e-05])\n",
      "\n",
      "Response: ['Raúl Argemí', 109, 'Machine', 'Human', 1.0, 0.0, 'Human']\n",
      " 608/1000, Zero-shot | 608/1000, Few-shot\n",
      "\n",
      "Example 1:\n",
      "Text: \"Karin Flaake (born 1944 in Schwerin, in  Mecklenburg, Germany) is a German sociologist and professor (retired) at the Carl von Ossietzky University Oldenburg. Her publications on the adolescence of young women and men (some written jointly with Vera King) are part of the   literature of socio-psychologically oriented gender research. Another focus of her work is on the chances of changing gender relations in families. Biography \n",
      "Karin Flaake studied sociology and psychoanalytic social psychology in Frankfurt / Main, then from 1972 to 1975 was research associate at the sociological seminar of the University of Göttingen, working on a research project on political learning processes in general education schools. From 1975 to 1989 she was a research associate at the Institut für Sozialforschung in Frankfurt / Main, working on  research projects in education  and sociology. Afterwards, she took her habilitation on the topic: :Gender-specific patterns of identity and vocational orientations of teachers\". From 1982 to 1986, she had  training at the Institute for Group Analysis Heidelbergan worked with the Frankfurt Working Group for Psychoanalytical Education (FAPP). From 1991 to 1994 she was professor at the Psychological Institute of Freie Universität Berlin, working in the field of feminist science. From 1994 to the end of 2007 she was Professor of Sociology with a focus on women's and gender studies at the Carl von Ossietzky University Oldenburg.  Flaake is - especially with Heike Fleßner - co-founder of the Study Program Women's and Gender Studies and the Center for Interdisciplinary Wome's and Gender Studies.\"\n",
      "Class label: Human \n",
      "\n",
      "Example 2:\n",
      "Text: \"Karin Flaake (born 1944 in Schwerin, in then East Germany) is a German historian and politician. She has been a member of the German Bundestag since 1994, and was elected as the parliamentary group leader of the Social Democratic Party of Germany (SPD) in February 2006.\n",
      "\n",
      "Flaake has also served as Minister for Family Affairs in the Cabinet of Chancellor Angela Merkel from 2005 to 2009. As Minister for Family Affairs, she was responsible for a wide range of social policy issues, including child and family welfare, elderly care, and unemployment benefits.\n",
      "\n",
      "Flaake studied history at the universities of Berlin and Tübingen, earning her doctorate in 1984. She later worked as a research associate at the Institute for Contemporary History in Berlin. From 1990 to 1994, she served as director of the Berlin-based historical journal \"Zeitschrift für Geschichte Osteuropas\".\n",
      "\n",
      "Flaake is married to historian Bernd Rüther, with whom she has two children.\"\n",
      "Class label: Machine \n",
      "\n",
      "Example 3:\n",
      "Text: \"Camaleón (born 1979) is a Mexican luchador enmascarado, or masked professional wrestler currently working for the Mexican professional wrestling promotion Consejo Mundial de Lucha Libre (CMLL) portraying a tecnico (\"Good guy\") wrestling character. Camaleón's real name is not a matter of public record, as is often the case with masked wrestlers in Mexico where their private lives are kept a secret from the wrestling fans. Professional wrestling career\n",
      "The wrestler known under the ring name Camaleón has on a few occasions stated that he began his wrestling career in 1999, but never revealed what ring name he worked under from 1999 until 2007 when he began working for Consejo Mundial de Lucha Libre (CMLL) as Súper Camaleón (\"Super Chameleon). The secrecy about former masked identities is not uncommon in Mexico where the private lives of the masked wrestlers is kept secret. Early in his CMLL career he would often form a tag team with a wrestler known as Super Tri and worked in the low ranked matches. His contract with CMLL allowed him to work for a number of other promoters' including Último Dragón's  Toryumon promotion since they had a close working relationship with CMLL. On December 14, 2008 he competed in the annual Young Dragons Cup in a torneo cibernetico, multi-man elimination match that also included Adam Bridle, Miedo, Ministro, Disturbio, Trauma I and Trauma II and was won by Satoshi Kajiwara. Later on he would team with Ministro to face Los Traumas (Trauma I and Trauma II) on subsequent Toryumon shows in Mexico City.\"\n",
      "Class label: Human \n",
      "\n",
      "Example 4:\n",
      "Text: \"Camaleón (born 1979) is a Mexican luchador, professional wrestler and actor. He is best known for his time working for Consejo Mundial de Lucha Libre (CMLL) as Último Guerrero's enmascarado, or masked persona, Camaleón, which he used from 2006 until Guerrero's death in 2013.\n",
      "\n",
      "Camaleón was born in 1979 in the state of Puebla, Mexico. He started training to become a professional wrestler at the age of 16, and made his professional wrestling debut in 1997. He worked for various promotions before joining CMLL in 2006 where he would use the persona of Camaleón. In 2009, Camaleón won the CMLL World Light Heavyweight Championship. In 2013, he lost the title to Místico. In 2014, he won the CMLL World Middleweight Championship. In 2016, he lost the title to La Máscara.\"\n",
      "Class label: Machine \n",
      "\n",
      "Example 5:\n",
      "Text: \"Boreal woodland caribou (Rangifer tarandus caribou) are a species of caribou and subspecies of North American reindeer. Boreal woodland caribou are also known as southern mountain caribou, woodland caribou, and forest-dwelling caribou. Mountain caribou are uniquely adapted to live in old-growth forests. The mountain caribou diet consists of tree-dwelling lichens predominantly. They are unique in this aspect as in the far northern regions of their habitat zones, the snowpack is shallow enough that the boreal woodland caribou can paw through the snow to eat the ground-dwelling lichens. In the inland Pacific Northwest Rainforests of eastern British Columbia, where the snowpack can reach upwards of five meters, the mountain caribou rely predominantly on the tree-dwelling lichens such as Bryoria spp. and Alectoria spp., hanging above the snowpack. As a result, these mountain caribou are reliant upon the old growth forests, which have been logged for centuries and continue to dwindle. History of conservation efforts\n",
      "Conservation efforts began in the mid-50s with the southward expansion of the Wells Gray Provincial Park north of Kamloops, British Columbia and west of Jasper National Park with the focus to protect the dwindling herds of mountain caribou. The areas set aside by further Canadian National Parks – Glacier National Park (Canada), the Purcell Wilderness Conservancy Provincial Park and Protected Area, Valhalla Provincial Park – are not as conducive for the specially adapted caribou as these areas are mostly ice, rock, alpine meadows and sub-alpine parkland and are lacking in the old-growth forests which provide the tree-dwelling lichens pivotal to the mountain caribou diet.\"\n",
      "Class label: Human \n",
      "\n",
      "Example 6:\n",
      "Text: \"Boreal woodland caribou (Rangifer tarandus caribou) are a subspecies of caribou found in the Canadian provinces of British Columbia, Alberta, Saskatchewan, and Manitoba. The animals are typically smaller than their tundra-dwelling cousins, but have a more robust build with longer legs and a thicker coat. They are the only caribou population in North America that migrates across large tracts of open terrain in search of food.\n",
      "\n",
      "The Boreal woodland caribou is threatened by a number of factors, including hunting, habitat loss and fragmentation, and climate change. In British Columbia and Alberta, the animals are protected under provincial legislation, while in Manitoba they are protected under the Migratory Bird Treaty Act. Efforts are being made to protect the Boreal woodland caribou throughout its range, and to educate the public about the importance of conserving these animals.\"\n",
      "Class label: Machine \n",
      "\n",
      "---\n",
      "\n",
      "Input text: \"Raúl Argemí (1946–present) is an Argentinean writer, journalist, and television presenter. He is considered one of the most important contemporary Argentine authors. Argemí's work has been praised for its lyrical and atmospheric quality.\n",
      "\n",
      "Argemí was born in 1946 in Buenos Aires, Argentina. He studied at the University of Buenos Aires and later worked as a journalist for various publications, including El País and La Nación. He has been a television presenter since 1987, most notably for the show Periodismo Para Todos. Argemí has also written several books, including El abrazo de la muerte (1981), Los ángeles (1987), and La voz de la tierra (1997). He currently lives in Barcelona, Spain.\"\n",
      "\n",
      "----\n",
      "\n",
      "Labeled examples are given above in addition to an input text. Use the examples to perform few-shot classification of the input text. Your task is to classify the input text and predict if it is written by a human (use the class label: Human) or if it is generated by a large language model such as yourself (use the class label: Machine). Respond with the exact class label of your prediction.\n",
      "\n",
      "\n",
      "Top logprobs: {'Human': -0.00016411634, 'Machine': -8.714588, '!': -87.33654, '\"': -87.33654, '#': -87.33654}\n",
      "Answer:\"Human\"\n",
      "Probabilities. tensor([9.9984e-01, 1.6417e-04])\n",
      "\n",
      "Response: ['Raúl Argemí', 109, 'Machine', 'Human', 0.9998, 0.0002, 'Human']\n",
      "\n",
      "\n",
      "Debug. i:607\n"
     ]
    }
   ],
   "source": [
    "prompter = PromptClassifier(dataset=wiki_intros, api_key=API_KEY, model=davinci, ban_bias=-100, boost_bias=100)\n",
    "\n",
    "prompter.classify_set(target_dir_path='../results',\n",
    "                      target_files_base_name='prompt-classification-wiki-intros',\n",
    "                      num_classifications=1000,\n",
    "                      title_column='title',\n",
    "                      human_column=\"wiki_intro\",\n",
    "                      generated_column=\"generated_intro\",\n",
    "                      human_word_count_column=\"wiki_intro_len\",\n",
    "                      generated_word_count_column=\"generated_intro_len\",\n",
    "                      min_word_count=50,\n",
    "                      max_word_count=325,\n",
    "                      debug=True,\n",
    "                      start_index=607)"
   ],
   "metadata": {
    "collapsed": false,
    "pycharm": {
     "name": "#%%\n"
    }
   }
  },
  {
   "cell_type": "code",
   "execution_count": null,
   "outputs": [],
   "source": [],
   "metadata": {
    "collapsed": false,
    "pycharm": {
     "name": "#%%\n"
    }
   }
  }
 ],
 "metadata": {
  "kernelspec": {
   "display_name": "Python 3",
   "language": "python",
   "name": "python3"
  },
  "language_info": {
   "codemirror_mode": {
    "name": "ipython",
    "version": 2
   },
   "file_extension": ".py",
   "mimetype": "text/x-python",
   "name": "python",
   "nbconvert_exporter": "python",
   "pygments_lexer": "ipython2",
   "version": "2.7.6"
  }
 },
 "nbformat": 4,
 "nbformat_minor": 0
}