{
 "cells": [
  {
   "cell_type": "markdown",
   "source": [
    "# Prompt classification"
   ],
   "metadata": {
    "collapsed": false,
    "pycharm": {
     "name": "#%% md\n"
    }
   }
  },
  {
   "cell_type": "code",
   "execution_count": 1,
   "outputs": [
    {
     "name": "stderr",
     "output_type": "stream",
     "text": [
      "Found cached dataset csv (/Users/nicolaisivesind/.cache/huggingface/datasets/csv/default-1f4fea6800581e19/0.0.0/6954658bab30a358235fa864b05cf819af0e179325c740e4bc853bcc7ec513e1)\n"
     ]
    },
    {
     "data": {
      "text/plain": "  0%|          | 0/1 [00:00<?, ?it/s]",
      "application/vnd.jupyter.widget-view+json": {
       "version_major": 2,
       "version_minor": 0,
       "model_id": "4c5bd73837924f7dae19fb9f1aba6770"
      }
     },
     "metadata": {},
     "output_type": "display_data"
    }
   ],
   "source": [
    "import datasets as ds\n",
    "from models.prompt_classifier import PromptClassifier\n",
    "from pathlib import Path\n",
    "\n",
    "research_abstracts = ds.load_dataset(\"csv\", data_files=\"../../datasets/origins/ChatGPT-Research-Abstracts/research_abstracts-final.csv\")[\"train\"]"
   ],
   "metadata": {
    "collapsed": false,
    "pycharm": {
     "name": "#%%\n"
    }
   }
  },
  {
   "cell_type": "code",
   "execution_count": 4,
   "outputs": [
    {
     "name": "stdout",
     "output_type": "stream",
     "text": [
      " Sorting into lists: 99%\n",
      " Sampling data points: 100%\n",
      "Total rows in few-shot task bundles 4000\n",
      "No file already exists. Creating blank CSV\n",
      "\n",
      "No file already exists. Creating blank CSV\n",
      "\n",
      " 15/1000, Zero-shot | 14/1000, Few-shot\n",
      " API-error. Reattempting API-call. Attempt 1\n",
      " 35/1000, Zero-shot | 34/1000, Few-shot\n",
      " API-error. Reattempting API-call. Attempt 1\n",
      " 36/1000, Zero-shot | 36/1000, Few-shot\n",
      " API-error. Reattempting API-call. Attempt 1\n",
      " 79/1000, Zero-shot | 78/1000, Few-shot\n",
      " API-error. Reattempting API-call. Attempt 1\n",
      " 85/1000, Zero-shot | 84/1000, Few-shot\n",
      " API-error. Reattempting API-call. Attempt 1\n",
      " 92/1000, Zero-shot | 91/1000, Few-shot\n",
      " API-error. Reattempting API-call. Attempt 1\n",
      " 172/1000, Zero-shot | 172/1000, Few-shot\n",
      " API-error. Reattempting API-call. Attempt 1\n",
      " 176/1000, Zero-shot | 176/1000, Few-shot\n",
      " API-error. Reattempting API-call. Attempt 1\n",
      " 204/1000, Zero-shot | 203/1000, Few-shot\n",
      " API-error. Reattempting API-call. Attempt 1\n",
      " 507/1000, Zero-shot | 507/1000, Few-shot\n",
      " API-error. Reattempting API-call. Attempt 1\n",
      " 888/1000, Zero-shot | 888/1000, Few-shot\n",
      " API-error. Reattempting API-call. Attempt 1\n",
      " 978/1000, Zero-shot | 977/1000, Few-shot\n",
      " API-error. Reattempting API-call. Attempt 1\n",
      " 1000/1000, Zero-shot | 1000/1000, Few-shot\n",
      "\n",
      "Classification complete\n"
     ]
    }
   ],
   "source": [
    "API_KEY = Path('../../api-keys/openai_key').read_text()\n",
    "davinci = \"text-davinci-003\"\n",
    "\n",
    "prompter = PromptClassifier(dataset=research_abstracts, api_key=API_KEY, model=davinci, ban_bias=-100, boost_bias=100)\n",
    "\n",
    "prompter.classify_set(target_dir_path='../results',\n",
    "                      target_files_base_name='prompt-classification-abstracts',\n",
    "                      num_classifications=1000,\n",
    "                      title_column='title',\n",
    "                      human_column=\"real_abstract\",\n",
    "                      generated_column=\"generated_abstract\",\n",
    "                      human_word_count_column=\"real_word_count\",\n",
    "                      generated_word_count_column=\"generated_word_count\",\n",
    "                      min_word_count=50,\n",
    "                      max_word_count=325,\n",
    "                      debug=False,\n",
    "                      start_index=0)"
   ],
   "metadata": {
    "collapsed": false,
    "pycharm": {
     "name": "#%%\n"
    }
   }
  },
  {
   "cell_type": "code",
   "execution_count": 5,
   "outputs": [
    {
     "name": "stderr",
     "output_type": "stream",
     "text": [
      "Found cached dataset csv (/Users/nicolaisivesind/.cache/huggingface/datasets/aadityaubhat___csv/aadityaubhat--GPT-wiki-intro-10ad8b711a5f3880/0.0.0/6954658bab30a358235fa864b05cf819af0e179325c740e4bc853bcc7ec513e1)\n"
     ]
    },
    {
     "data": {
      "text/plain": "  0%|          | 0/1 [00:00<?, ?it/s]",
      "application/vnd.jupyter.widget-view+json": {
       "version_major": 2,
       "version_minor": 0,
       "model_id": "d8dc19c4300b4724ac1437c52cdc0c94"
      }
     },
     "metadata": {},
     "output_type": "display_data"
    }
   ],
   "source": [
    "wiki_intros = ds.load_dataset(\"aadityaubhat/GPT-wiki-intro\")"
   ],
   "metadata": {
    "collapsed": false,
    "pycharm": {
     "name": "#%%\n"
    }
   }
  },
  {
   "cell_type": "code",
   "execution_count": null,
   "outputs": [],
   "source": [
    "prompter = PromptClassifier(dataset=wiki_intros, api_key=API_KEY, model=davinci, ban_bias=-100, boost_bias=100)\n",
    "\n",
    "prompter.classify_set(target_dir_path='../results',\n",
    "                      target_files_base_name='prompt-classification-wiki-intros',\n",
    "                      num_classifications=1000,\n",
    "                      title_column='title',\n",
    "                      human_column=\"wiki_intro\",\n",
    "                      generated_column=\"generated_intro\",\n",
    "                      human_word_count_column=\"wiki_intro_len\",\n",
    "                      generated_word_count_column=\"generated_intro_len\",\n",
    "                      min_word_count=50,\n",
    "                      max_word_count=325,\n",
    "                      debug=False,\n",
    "                      start_index=0)"
   ],
   "metadata": {
    "collapsed": false,
    "pycharm": {
     "name": "#%%\n"
    }
   }
  }
 ],
 "metadata": {
  "kernelspec": {
   "display_name": "Python 3",
   "language": "python",
   "name": "python3"
  },
  "language_info": {
   "codemirror_mode": {
    "name": "ipython",
    "version": 2
   },
   "file_extension": ".py",
   "mimetype": "text/x-python",
   "name": "python",
   "nbconvert_exporter": "python",
   "pygments_lexer": "ipython2",
   "version": "2.7.6"
  }
 },
 "nbformat": 4,
 "nbformat_minor": 0
}