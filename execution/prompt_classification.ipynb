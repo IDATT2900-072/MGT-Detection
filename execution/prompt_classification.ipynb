{
 "cells": [
  {
   "cell_type": "markdown",
   "source": [
    "# Prompt classification"
   ],
   "metadata": {
    "collapsed": false,
    "pycharm": {
     "name": "#%% md\n"
    }
   }
  },
  {
   "cell_type": "code",
   "execution_count": 1,
   "outputs": [
    {
     "name": "stderr",
     "output_type": "stream",
     "text": [
      "Found cached dataset csv (/Users/nicolaisivesind/.cache/huggingface/datasets/csv/default-6a0f094caf40a32a/0.0.0/6954658bab30a358235fa864b05cf819af0e179325c740e4bc853bcc7ec513e1)\n"
     ]
    },
    {
     "data": {
      "text/plain": "  0%|          | 0/1 [00:00<?, ?it/s]",
      "application/vnd.jupyter.widget-view+json": {
       "version_major": 2,
       "version_minor": 0,
       "model_id": "fcf87e3cabe44bafb126e27380cf9c95"
      }
     },
     "metadata": {},
     "output_type": "display_data"
    }
   ],
   "source": [
    "import datasets as ds\n",
    "from models.prompt_classifier import PromptClassifier\n",
    "from pathlib import Path\n",
    "\n",
    "research_abstracts = ds.load_dataset(\"csv\", data_files=\"../../datasets/origins/ChatGPT-Research-Abstracts/research_abstracts-final.csv\")[\"train\"]"
   ],
   "metadata": {
    "collapsed": false,
    "pycharm": {
     "name": "#%%\n"
    }
   }
  },
  {
   "cell_type": "code",
   "execution_count": 2,
   "outputs": [
    {
     "name": "stdout",
     "output_type": "stream",
     "text": [
      "4000\n",
      " Sorting into lists: 99%\n",
      " Sampling data points: 100%4000\n",
      "No file already exists. Creating blank CSV\n",
      "\n",
      "No file already exists. Creating blank CSV\n",
      "\n",
      " Zero-shot: 1/1000"
     ]
    },
    {
     "ename": "FileNotFoundError",
     "evalue": "[Errno 2] No such file or directory: 'prompt-classification/prompt-classification_zero-shot.csv'",
     "output_type": "error",
     "traceback": [
      "\u001B[0;31m---------------------------------------------------------------------------\u001B[0m",
      "\u001B[0;31mFileNotFoundError\u001B[0m                         Traceback (most recent call last)",
      "Cell \u001B[0;32mIn[2], line 6\u001B[0m\n\u001B[1;32m      2\u001B[0m davinci \u001B[38;5;241m=\u001B[39m \u001B[38;5;124m\"\u001B[39m\u001B[38;5;124mtext-davinci-003\u001B[39m\u001B[38;5;124m\"\u001B[39m\n\u001B[1;32m      4\u001B[0m prompter \u001B[38;5;241m=\u001B[39m PromptClassifier(dataset\u001B[38;5;241m=\u001B[39mresearch_abstracts, api_key\u001B[38;5;241m=\u001B[39mAPI_KEY, model\u001B[38;5;241m=\u001B[39mdavinci)\n\u001B[0;32m----> 6\u001B[0m \u001B[43mprompter\u001B[49m\u001B[38;5;241;43m.\u001B[39;49m\u001B[43mclassify_set\u001B[49m\u001B[43m(\u001B[49m\u001B[43mtarget_dir_path\u001B[49m\u001B[38;5;241;43m=\u001B[39;49m\u001B[38;5;124;43m'\u001B[39;49m\u001B[38;5;124;43m../results\u001B[39;49m\u001B[38;5;124;43m'\u001B[39;49m\u001B[43m,\u001B[49m\n\u001B[1;32m      7\u001B[0m \u001B[43m                      \u001B[49m\u001B[43mtarget_files_base_name\u001B[49m\u001B[38;5;241;43m=\u001B[39;49m\u001B[38;5;124;43m'\u001B[39;49m\u001B[38;5;124;43mprompt-classification\u001B[39;49m\u001B[38;5;124;43m'\u001B[39;49m\u001B[43m,\u001B[49m\n\u001B[1;32m      8\u001B[0m \u001B[43m                      \u001B[49m\u001B[43mnum_classifications\u001B[49m\u001B[38;5;241;43m=\u001B[39;49m\u001B[38;5;241;43m1000\u001B[39;49m\u001B[43m,\u001B[49m\n\u001B[1;32m      9\u001B[0m \u001B[43m                      \u001B[49m\u001B[43mtitle_column\u001B[49m\u001B[38;5;241;43m=\u001B[39;49m\u001B[38;5;124;43m'\u001B[39;49m\u001B[38;5;124;43mtitle\u001B[39;49m\u001B[38;5;124;43m'\u001B[39;49m\u001B[43m,\u001B[49m\n\u001B[1;32m     10\u001B[0m \u001B[43m                      \u001B[49m\u001B[43mhuman_column\u001B[49m\u001B[38;5;241;43m=\u001B[39;49m\u001B[38;5;124;43m\"\u001B[39;49m\u001B[38;5;124;43mreal_abstract\u001B[39;49m\u001B[38;5;124;43m\"\u001B[39;49m\u001B[43m,\u001B[49m\n\u001B[1;32m     11\u001B[0m \u001B[43m                      \u001B[49m\u001B[43mgenerated_column\u001B[49m\u001B[38;5;241;43m=\u001B[39;49m\u001B[38;5;124;43m\"\u001B[39;49m\u001B[38;5;124;43mgenerated_abstract\u001B[39;49m\u001B[38;5;124;43m\"\u001B[39;49m\u001B[43m,\u001B[49m\n\u001B[1;32m     12\u001B[0m \u001B[43m                      \u001B[49m\u001B[43mhuman_word_count_column\u001B[49m\u001B[38;5;241;43m=\u001B[39;49m\u001B[38;5;124;43m\"\u001B[39;49m\u001B[38;5;124;43mreal_word_count\u001B[39;49m\u001B[38;5;124;43m\"\u001B[39;49m\u001B[43m,\u001B[49m\n\u001B[1;32m     13\u001B[0m \u001B[43m                      \u001B[49m\u001B[43mgenerated_word_count_column\u001B[49m\u001B[38;5;241;43m=\u001B[39;49m\u001B[38;5;124;43m\"\u001B[39;49m\u001B[38;5;124;43mgenerated_word_count\u001B[39;49m\u001B[38;5;124;43m\"\u001B[39;49m\u001B[43m,\u001B[49m\n\u001B[1;32m     14\u001B[0m \u001B[43m                      \u001B[49m\u001B[43mmin_word_count\u001B[49m\u001B[38;5;241;43m=\u001B[39;49m\u001B[38;5;241;43m50\u001B[39;49m\u001B[43m,\u001B[49m\n\u001B[1;32m     15\u001B[0m \u001B[43m                      \u001B[49m\u001B[43mmax_word_count\u001B[49m\u001B[38;5;241;43m=\u001B[39;49m\u001B[38;5;241;43m325\u001B[39;49m\u001B[43m)\u001B[49m\n",
      "File \u001B[0;32m~/Desktop/NTNU/Bachelor/Kode/MGT-Detection/models/prompt_classifier.py:56\u001B[0m, in \u001B[0;36mPromptClassifier.classify_set\u001B[0;34m(self, target_dir_path, target_files_base_name, num_classifications, title_column, human_column, generated_column, human_word_count_column, generated_word_count_column, min_word_count, max_word_count, zero_shot, few_shot)\u001B[0m\n\u001B[1;32m     53\u001B[0m     prediction, human_probability, generated_probability, prompt_response \u001B[38;5;241m=\u001B[39m \u001B[38;5;28mself\u001B[39m\u001B[38;5;241m.\u001B[39mzero_shot(bundle[\u001B[38;5;124m'\u001B[39m\u001B[38;5;124minput_text\u001B[39m\u001B[38;5;124m'\u001B[39m])\n\u001B[1;32m     54\u001B[0m     row \u001B[38;5;241m=\u001B[39m [bundle[\u001B[38;5;124m'\u001B[39m\u001B[38;5;124minput_title\u001B[39m\u001B[38;5;124m'\u001B[39m], bundle[\u001B[38;5;124m'\u001B[39m\u001B[38;5;124minput_word_count\u001B[39m\u001B[38;5;124m'\u001B[39m], bundle[\u001B[38;5;124m'\u001B[39m\u001B[38;5;124minput_label\u001B[39m\u001B[38;5;124m'\u001B[39m],\n\u001B[1;32m     55\u001B[0m            prediction, human_probability, generated_probability, prompt_response]\n\u001B[0;32m---> 56\u001B[0m     \u001B[43mwrite_csv_row\u001B[49m\u001B[43m(\u001B[49m\u001B[43mrow\u001B[49m\u001B[43m,\u001B[49m\u001B[43m \u001B[49m\u001B[43mpath_to_csv\u001B[49m\u001B[43m(\u001B[49m\u001B[43mtarget_files_base_name\u001B[49m\u001B[43m,\u001B[49m\u001B[43m \u001B[49m\u001B[43mzero_shot_file_name\u001B[49m\u001B[43m)\u001B[49m\u001B[43m)\u001B[49m\n\u001B[1;32m     58\u001B[0m \u001B[38;5;66;03m# Few-shot\u001B[39;00m\n\u001B[1;32m     59\u001B[0m \u001B[38;5;28;01mif\u001B[39;00m few_shot:\n",
      "File \u001B[0;32m~/Desktop/NTNU/Bachelor/Kode/MGT-Detection/data_manipulation/csv_writing.py:25\u001B[0m, in \u001B[0;36mwrite_csv_row\u001B[0;34m(row, path_to_csv)\u001B[0m\n\u001B[1;32m     24\u001B[0m \u001B[38;5;28;01mdef\u001B[39;00m \u001B[38;5;21mwrite_csv_row\u001B[39m(row, path_to_csv):\n\u001B[0;32m---> 25\u001B[0m     \u001B[38;5;28;01mwith\u001B[39;00m \u001B[38;5;28;43mopen\u001B[39;49m\u001B[43m(\u001B[49m\u001B[43mpath_to_csv\u001B[49m\u001B[43m,\u001B[49m\u001B[43m \u001B[49m\u001B[38;5;124;43m'\u001B[39;49m\u001B[38;5;124;43ma\u001B[39;49m\u001B[38;5;124;43m'\u001B[39;49m\u001B[43m)\u001B[49m \u001B[38;5;28;01mas\u001B[39;00m f:\n\u001B[1;32m     26\u001B[0m         writer \u001B[38;5;241m=\u001B[39m csv\u001B[38;5;241m.\u001B[39mwriter(f)\n\u001B[1;32m     27\u001B[0m         writer\u001B[38;5;241m.\u001B[39mwriterow(row)\n",
      "\u001B[0;31mFileNotFoundError\u001B[0m: [Errno 2] No such file or directory: 'prompt-classification/prompt-classification_zero-shot.csv'"
     ]
    }
   ],
   "source": [
    "API_KEY = Path('../../api-keys/openai_key').read_text()\n",
    "davinci = \"text-davinci-003\"\n",
    "\n",
    "prompter = PromptClassifier(dataset=research_abstracts, api_key=API_KEY, model=davinci)\n",
    "\n",
    "prompter.classify_set(target_dir_path='../results',\n",
    "                      target_files_base_name='prompt-classification-abstracts',\n",
    "                      num_classifications=1000,\n",
    "                      title_column='title',\n",
    "                      human_column=\"real_abstract\",\n",
    "                      generated_column=\"generated_abstract\",\n",
    "                      human_word_count_column=\"real_word_count\",\n",
    "                      generated_word_count_column=\"generated_word_count\",\n",
    "                      min_word_count=50,\n",
    "                      max_word_count=325)"
   ],
   "metadata": {
    "collapsed": false,
    "pycharm": {
     "name": "#%%\n"
    }
   }
  },
  {
   "cell_type": "code",
   "execution_count": 5,
   "outputs": [],
   "source": [],
   "metadata": {
    "collapsed": false,
    "pycharm": {
     "name": "#%%\n"
    }
   }
  }
 ],
 "metadata": {
  "kernelspec": {
   "display_name": "Python 3",
   "language": "python",
   "name": "python3"
  },
  "language_info": {
   "codemirror_mode": {
    "name": "ipython",
    "version": 2
   },
   "file_extension": ".py",
   "mimetype": "text/x-python",
   "name": "python",
   "nbconvert_exporter": "python",
   "pygments_lexer": "ipython2",
   "version": "2.7.6"
  }
 },
 "nbformat": 4,
 "nbformat_minor": 0
}