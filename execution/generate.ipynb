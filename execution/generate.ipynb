{
 "cells": [
  {
   "cell_type": "markdown",
   "source": [
    "# Execution file for generating Research Abstract Dataset\n",
    "See 'dataset_generator.py' for implementation."
   ],
   "metadata": {
    "collapsed": false,
    "pycharm": {
     "name": "#%% md\n"
    }
   }
  },
  {
   "cell_type": "code",
   "execution_count": 1,
   "outputs": [],
   "source": [
    "import datasets as ds\n",
    "\n",
    "from data_manipulation.data_processing import count_and_reformat, filter_list, sample_uniform_subset, substitute_duplicates_uniform\n",
    "from data_manipulation.data_generation import generate_abstracts, generate_GPT_abstract, get_models"
   ],
   "metadata": {
    "collapsed": false,
    "pycharm": {
     "name": "#%%\n"
    }
   }
  },
  {
   "cell_type": "code",
   "execution_count": 2,
   "outputs": [
    {
     "name": "stdout",
     "output_type": "stream",
     "text": [
      "{'id': 'babbage', 'object': 'model', 'created': 1649358449, 'owned_by': 'openai', 'permission': [{'id': 'modelperm-49FUp5v084tBB49tC4z8LPH5', 'object': 'model_permission', 'created': 1669085501, 'allow_create_engine': False, 'allow_sampling': True, 'allow_logprobs': True, 'allow_search_indices': False, 'allow_view': True, 'allow_fine_tuning': False, 'organization': '*', 'group': None, 'is_blocking': False}], 'root': 'babbage', 'parent': None} \n",
      "\n",
      "{'id': 'davinci', 'object': 'model', 'created': 1649359874, 'owned_by': 'openai', 'permission': [{'id': 'modelperm-U6ZwlyAd0LyMk4rcMdz33Yc3', 'object': 'model_permission', 'created': 1669066355, 'allow_create_engine': False, 'allow_sampling': True, 'allow_logprobs': True, 'allow_search_indices': False, 'allow_view': True, 'allow_fine_tuning': False, 'organization': '*', 'group': None, 'is_blocking': False}], 'root': 'davinci', 'parent': None} \n",
      "\n",
      "{'id': 'text-davinci-edit-001', 'object': 'model', 'created': 1649809179, 'owned_by': 'openai', 'permission': [{'id': 'modelperm-otmQSS0hmabtVGHI9QB3bct3', 'object': 'model_permission', 'created': 1679934178, 'allow_create_engine': False, 'allow_sampling': True, 'allow_logprobs': True, 'allow_search_indices': False, 'allow_view': True, 'allow_fine_tuning': False, 'organization': '*', 'group': None, 'is_blocking': False}], 'root': 'text-davinci-edit-001', 'parent': None} \n",
      "\n",
      "{'id': 'babbage-code-search-code', 'object': 'model', 'created': 1651172509, 'owned_by': 'openai-dev', 'permission': [{'id': 'modelperm-4qRnA3Hj8HIJbgo0cGbcmErn', 'object': 'model_permission', 'created': 1669085863, 'allow_create_engine': False, 'allow_sampling': True, 'allow_logprobs': True, 'allow_search_indices': True, 'allow_view': True, 'allow_fine_tuning': False, 'organization': '*', 'group': None, 'is_blocking': False}], 'root': 'babbage-code-search-code', 'parent': None} \n",
      "\n",
      "{'id': 'text-similarity-babbage-001', 'object': 'model', 'created': 1651172505, 'owned_by': 'openai-dev', 'permission': [{'id': 'modelperm-48kcCHhfzvnfY84OtJf5m8Cz', 'object': 'model_permission', 'created': 1669081947, 'allow_create_engine': False, 'allow_sampling': True, 'allow_logprobs': True, 'allow_search_indices': True, 'allow_view': True, 'allow_fine_tuning': False, 'organization': '*', 'group': None, 'is_blocking': False}], 'root': 'text-similarity-babbage-001', 'parent': None} \n",
      "\n",
      "{'id': 'code-davinci-edit-001', 'object': 'model', 'created': 1649880484, 'owned_by': 'openai', 'permission': [{'id': 'modelperm-Foe5Y4TvaKveYxt74oKMw8IB', 'object': 'model_permission', 'created': 1679934178, 'allow_create_engine': False, 'allow_sampling': True, 'allow_logprobs': True, 'allow_search_indices': False, 'allow_view': True, 'allow_fine_tuning': False, 'organization': '*', 'group': None, 'is_blocking': False}], 'root': 'code-davinci-edit-001', 'parent': None} \n",
      "\n",
      "{'id': 'text-davinci-001', 'object': 'model', 'created': 1649364042, 'owned_by': 'openai', 'permission': [{'id': 'modelperm-MVM5NfoRjXkDve3uQW3YZDDt', 'object': 'model_permission', 'created': 1669066355, 'allow_create_engine': False, 'allow_sampling': True, 'allow_logprobs': True, 'allow_search_indices': False, 'allow_view': True, 'allow_fine_tuning': False, 'organization': '*', 'group': None, 'is_blocking': False}], 'root': 'text-davinci-001', 'parent': None} \n",
      "\n",
      "{'id': 'ada', 'object': 'model', 'created': 1649357491, 'owned_by': 'openai', 'permission': [{'id': 'modelperm-u0nKN4ub7EVQudgMuvCuvDjc', 'object': 'model_permission', 'created': 1675997661, 'allow_create_engine': False, 'allow_sampling': True, 'allow_logprobs': True, 'allow_search_indices': False, 'allow_view': True, 'allow_fine_tuning': False, 'organization': '*', 'group': None, 'is_blocking': False}], 'root': 'ada', 'parent': None} \n",
      "\n",
      "{'id': 'babbage-code-search-text', 'object': 'model', 'created': 1651172509, 'owned_by': 'openai-dev', 'permission': [{'id': 'modelperm-Lftf8H4ZPDxNxVs0hHPJBUoe', 'object': 'model_permission', 'created': 1669085863, 'allow_create_engine': False, 'allow_sampling': True, 'allow_logprobs': True, 'allow_search_indices': True, 'allow_view': True, 'allow_fine_tuning': False, 'organization': '*', 'group': None, 'is_blocking': False}], 'root': 'babbage-code-search-text', 'parent': None} \n",
      "\n",
      "{'id': 'babbage-similarity', 'object': 'model', 'created': 1651172505, 'owned_by': 'openai-dev', 'permission': [{'id': 'modelperm-mS20lnPqhebTaFPrcCufyg7m', 'object': 'model_permission', 'created': 1669081947, 'allow_create_engine': False, 'allow_sampling': True, 'allow_logprobs': True, 'allow_search_indices': True, 'allow_view': True, 'allow_fine_tuning': False, 'organization': '*', 'group': None, 'is_blocking': False}], 'root': 'babbage-similarity', 'parent': None} \n",
      "\n",
      "{'id': 'code-search-babbage-text-001', 'object': 'model', 'created': 1651172507, 'owned_by': 'openai-dev', 'permission': [{'id': 'modelperm-EC5ASz4NLChtEV1Cwkmrwm57', 'object': 'model_permission', 'created': 1669085863, 'allow_create_engine': False, 'allow_sampling': True, 'allow_logprobs': True, 'allow_search_indices': True, 'allow_view': True, 'allow_fine_tuning': False, 'organization': '*', 'group': None, 'is_blocking': False}], 'root': 'code-search-babbage-text-001', 'parent': None} \n",
      "\n",
      "{'id': 'text-curie-001', 'object': 'model', 'created': 1649364043, 'owned_by': 'openai', 'permission': [{'id': 'modelperm-8InhPV3CZfN3F5QHKoJd4zRD', 'object': 'model_permission', 'created': 1679310997, 'allow_create_engine': False, 'allow_sampling': True, 'allow_logprobs': True, 'allow_search_indices': False, 'allow_view': True, 'allow_fine_tuning': False, 'organization': '*', 'group': None, 'is_blocking': False}], 'root': 'text-curie-001', 'parent': None} \n",
      "\n",
      "{'id': 'code-search-babbage-code-001', 'object': 'model', 'created': 1651172507, 'owned_by': 'openai-dev', 'permission': [{'id': 'modelperm-64LWHdlANgak2rHzc3K5Stt0', 'object': 'model_permission', 'created': 1669085864, 'allow_create_engine': False, 'allow_sampling': True, 'allow_logprobs': True, 'allow_search_indices': True, 'allow_view': True, 'allow_fine_tuning': False, 'organization': '*', 'group': None, 'is_blocking': False}], 'root': 'code-search-babbage-code-001', 'parent': None} \n",
      "\n",
      "{'id': 'text-ada-001', 'object': 'model', 'created': 1649364042, 'owned_by': 'openai', 'permission': [{'id': 'modelperm-KN5dRBCEW4az6gwcGXkRkMwK', 'object': 'model_permission', 'created': 1669088497, 'allow_create_engine': False, 'allow_sampling': True, 'allow_logprobs': True, 'allow_search_indices': False, 'allow_view': True, 'allow_fine_tuning': False, 'organization': '*', 'group': None, 'is_blocking': False}], 'root': 'text-ada-001', 'parent': None} \n",
      "\n",
      "{'id': 'text-embedding-ada-002', 'object': 'model', 'created': 1671217299, 'owned_by': 'openai-internal', 'permission': [{'id': 'modelperm-Dbv2FOgMdlDjO8py8vEjD5Mi', 'object': 'model_permission', 'created': 1678892857, 'allow_create_engine': False, 'allow_sampling': True, 'allow_logprobs': True, 'allow_search_indices': True, 'allow_view': True, 'allow_fine_tuning': False, 'organization': '*', 'group': None, 'is_blocking': False}], 'root': 'text-embedding-ada-002', 'parent': None} \n",
      "\n",
      "{'id': 'text-similarity-ada-001', 'object': 'model', 'created': 1651172505, 'owned_by': 'openai-dev', 'permission': [{'id': 'modelperm-DdCqkqmORpqxqdg4TkFRAgmw', 'object': 'model_permission', 'created': 1669092759, 'allow_create_engine': False, 'allow_sampling': True, 'allow_logprobs': True, 'allow_search_indices': True, 'allow_view': True, 'allow_fine_tuning': False, 'organization': '*', 'group': None, 'is_blocking': False}], 'root': 'text-similarity-ada-001', 'parent': None} \n",
      "\n",
      "{'id': 'curie-instruct-beta', 'object': 'model', 'created': 1649364042, 'owned_by': 'openai', 'permission': [{'id': 'modelperm-bsg59MlOi88CMf1MjnIKrT5a', 'object': 'model_permission', 'created': 1680267269, 'allow_create_engine': False, 'allow_sampling': True, 'allow_logprobs': True, 'allow_search_indices': False, 'allow_view': True, 'allow_fine_tuning': False, 'organization': '*', 'group': None, 'is_blocking': False}], 'root': 'curie-instruct-beta', 'parent': None} \n",
      "\n",
      "{'id': 'ada-code-search-code', 'object': 'model', 'created': 1651172505, 'owned_by': 'openai-dev', 'permission': [{'id': 'modelperm-wa8tg4Pi9QQNaWdjMTM8dkkx', 'object': 'model_permission', 'created': 1669087421, 'allow_create_engine': False, 'allow_sampling': True, 'allow_logprobs': True, 'allow_search_indices': True, 'allow_view': True, 'allow_fine_tuning': False, 'organization': '*', 'group': None, 'is_blocking': False}], 'root': 'ada-code-search-code', 'parent': None} \n",
      "\n",
      "{'id': 'ada-similarity', 'object': 'model', 'created': 1651172507, 'owned_by': 'openai-dev', 'permission': [{'id': 'modelperm-LtSIwCEReeDcvGTmM13gv6Fg', 'object': 'model_permission', 'created': 1669092759, 'allow_create_engine': False, 'allow_sampling': True, 'allow_logprobs': True, 'allow_search_indices': True, 'allow_view': True, 'allow_fine_tuning': False, 'organization': '*', 'group': None, 'is_blocking': False}], 'root': 'ada-similarity', 'parent': None} \n",
      "\n",
      "{'id': 'code-search-ada-text-001', 'object': 'model', 'created': 1651172507, 'owned_by': 'openai-dev', 'permission': [{'id': 'modelperm-JBssaJSmbgvJfTkX71y71k2J', 'object': 'model_permission', 'created': 1669087421, 'allow_create_engine': False, 'allow_sampling': True, 'allow_logprobs': True, 'allow_search_indices': True, 'allow_view': True, 'allow_fine_tuning': False, 'organization': '*', 'group': None, 'is_blocking': False}], 'root': 'code-search-ada-text-001', 'parent': None} \n",
      "\n",
      "{'id': 'text-search-ada-query-001', 'object': 'model', 'created': 1651172505, 'owned_by': 'openai-dev', 'permission': [{'id': 'modelperm-1YiiBMYC8it0mpQCBK7t8uSP', 'object': 'model_permission', 'created': 1669092640, 'allow_create_engine': False, 'allow_sampling': True, 'allow_logprobs': True, 'allow_search_indices': True, 'allow_view': True, 'allow_fine_tuning': False, 'organization': '*', 'group': None, 'is_blocking': False}], 'root': 'text-search-ada-query-001', 'parent': None} \n",
      "\n",
      "{'id': 'davinci-search-document', 'object': 'model', 'created': 1651172509, 'owned_by': 'openai-dev', 'permission': [{'id': 'modelperm-M43LVJQRGxz6ode34ctLrCaG', 'object': 'model_permission', 'created': 1669066355, 'allow_create_engine': False, 'allow_sampling': True, 'allow_logprobs': True, 'allow_search_indices': True, 'allow_view': True, 'allow_fine_tuning': False, 'organization': '*', 'group': None, 'is_blocking': False}], 'root': 'davinci-search-document', 'parent': None} \n",
      "\n",
      "{'id': 'ada-code-search-text', 'object': 'model', 'created': 1651172510, 'owned_by': 'openai-dev', 'permission': [{'id': 'modelperm-kFc17wOI4d1FjZEaCqnk4Frg', 'object': 'model_permission', 'created': 1669087421, 'allow_create_engine': False, 'allow_sampling': True, 'allow_logprobs': True, 'allow_search_indices': True, 'allow_view': True, 'allow_fine_tuning': False, 'organization': '*', 'group': None, 'is_blocking': False}], 'root': 'ada-code-search-text', 'parent': None} \n",
      "\n",
      "{'id': 'text-search-ada-doc-001', 'object': 'model', 'created': 1651172507, 'owned_by': 'openai-dev', 'permission': [{'id': 'modelperm-kbHvYouDlkD78ehcmMOGdKpK', 'object': 'model_permission', 'created': 1669092640, 'allow_create_engine': False, 'allow_sampling': True, 'allow_logprobs': True, 'allow_search_indices': True, 'allow_view': True, 'allow_fine_tuning': False, 'organization': '*', 'group': None, 'is_blocking': False}], 'root': 'text-search-ada-doc-001', 'parent': None} \n",
      "\n",
      "{'id': 'davinci-instruct-beta', 'object': 'model', 'created': 1649364042, 'owned_by': 'openai', 'permission': [{'id': 'modelperm-k9kuMYlfd9nvFiJV2ug0NWws', 'object': 'model_permission', 'created': 1669066356, 'allow_create_engine': False, 'allow_sampling': True, 'allow_logprobs': True, 'allow_search_indices': False, 'allow_view': True, 'allow_fine_tuning': False, 'organization': '*', 'group': None, 'is_blocking': False}], 'root': 'davinci-instruct-beta', 'parent': None} \n",
      "\n",
      "{'id': 'gpt-3.5-turbo', 'object': 'model', 'created': 1677610602, 'owned_by': 'openai', 'permission': [{'id': 'modelperm-Kch774kyIWxK1SMaTV7JKoho', 'object': 'model_permission', 'created': 1683391732, 'allow_create_engine': False, 'allow_sampling': True, 'allow_logprobs': True, 'allow_search_indices': False, 'allow_view': True, 'allow_fine_tuning': False, 'organization': '*', 'group': None, 'is_blocking': False}], 'root': 'gpt-3.5-turbo', 'parent': None} \n",
      "\n",
      "{'id': 'text-similarity-curie-001', 'object': 'model', 'created': 1651172507, 'owned_by': 'openai-dev', 'permission': [{'id': 'modelperm-6dgTTyXrZE7d53Licw4hYkvd', 'object': 'model_permission', 'created': 1669079883, 'allow_create_engine': False, 'allow_sampling': True, 'allow_logprobs': True, 'allow_search_indices': True, 'allow_view': True, 'allow_fine_tuning': False, 'organization': '*', 'group': None, 'is_blocking': False}], 'root': 'text-similarity-curie-001', 'parent': None} \n",
      "\n",
      "{'id': 'code-search-ada-code-001', 'object': 'model', 'created': 1651172507, 'owned_by': 'openai-dev', 'permission': [{'id': 'modelperm-8soch45iiGvux5Fg1ORjdC4s', 'object': 'model_permission', 'created': 1669087421, 'allow_create_engine': False, 'allow_sampling': True, 'allow_logprobs': True, 'allow_search_indices': True, 'allow_view': True, 'allow_fine_tuning': False, 'organization': '*', 'group': None, 'is_blocking': False}], 'root': 'code-search-ada-code-001', 'parent': None} \n",
      "\n",
      "{'id': 'ada-search-query', 'object': 'model', 'created': 1651172505, 'owned_by': 'openai-dev', 'permission': [{'id': 'modelperm-b753xmIzAUkluQ1L20eDZLtQ', 'object': 'model_permission', 'created': 1669092640, 'allow_create_engine': False, 'allow_sampling': True, 'allow_logprobs': True, 'allow_search_indices': True, 'allow_view': True, 'allow_fine_tuning': False, 'organization': '*', 'group': None, 'is_blocking': False}], 'root': 'ada-search-query', 'parent': None} \n",
      "\n",
      "{'id': 'text-search-davinci-query-001', 'object': 'model', 'created': 1651172505, 'owned_by': 'openai-dev', 'permission': [{'id': 'modelperm-9McKbsEYSaDshU9M3bp6ejUb', 'object': 'model_permission', 'created': 1669066353, 'allow_create_engine': False, 'allow_sampling': True, 'allow_logprobs': True, 'allow_search_indices': True, 'allow_view': True, 'allow_fine_tuning': False, 'organization': '*', 'group': None, 'is_blocking': False}], 'root': 'text-search-davinci-query-001', 'parent': None} \n",
      "\n",
      "{'id': 'curie-search-query', 'object': 'model', 'created': 1651172509, 'owned_by': 'openai-dev', 'permission': [{'id': 'modelperm-sIbfSwzVpVBtymQgOQSLBpxe', 'object': 'model_permission', 'created': 1677273417, 'allow_create_engine': False, 'allow_sampling': True, 'allow_logprobs': True, 'allow_search_indices': True, 'allow_view': True, 'allow_fine_tuning': False, 'organization': '*', 'group': None, 'is_blocking': False}], 'root': 'curie-search-query', 'parent': None} \n",
      "\n",
      "{'id': 'gpt-3.5-turbo-0301', 'object': 'model', 'created': 1677649963, 'owned_by': 'openai', 'permission': [{'id': 'modelperm-Jb9E5cwBSIA9eKzpEODgJvJV', 'object': 'model_permission', 'created': 1683391736, 'allow_create_engine': False, 'allow_sampling': True, 'allow_logprobs': True, 'allow_search_indices': False, 'allow_view': True, 'allow_fine_tuning': False, 'organization': '*', 'group': None, 'is_blocking': False}], 'root': 'gpt-3.5-turbo-0301', 'parent': None} \n",
      "\n",
      "{'id': 'davinci-search-query', 'object': 'model', 'created': 1651172505, 'owned_by': 'openai-dev', 'permission': [{'id': 'modelperm-lYkiTZMmJMWm8jvkPx2duyHE', 'object': 'model_permission', 'created': 1669066353, 'allow_create_engine': False, 'allow_sampling': True, 'allow_logprobs': True, 'allow_search_indices': True, 'allow_view': True, 'allow_fine_tuning': False, 'organization': '*', 'group': None, 'is_blocking': False}], 'root': 'davinci-search-query', 'parent': None} \n",
      "\n",
      "{'id': 'babbage-search-document', 'object': 'model', 'created': 1651172510, 'owned_by': 'openai-dev', 'permission': [{'id': 'modelperm-5qFV9kxCRGKIXpBEP75chmp7', 'object': 'model_permission', 'created': 1669084981, 'allow_create_engine': False, 'allow_sampling': True, 'allow_logprobs': True, 'allow_search_indices': True, 'allow_view': True, 'allow_fine_tuning': False, 'organization': '*', 'group': None, 'is_blocking': False}], 'root': 'babbage-search-document', 'parent': None} \n",
      "\n",
      "{'id': 'ada-search-document', 'object': 'model', 'created': 1651172507, 'owned_by': 'openai-dev', 'permission': [{'id': 'modelperm-8qUMuMAbo4EwedbGamV7e9hq', 'object': 'model_permission', 'created': 1669092640, 'allow_create_engine': False, 'allow_sampling': True, 'allow_logprobs': True, 'allow_search_indices': True, 'allow_view': True, 'allow_fine_tuning': False, 'organization': '*', 'group': None, 'is_blocking': False}], 'root': 'ada-search-document', 'parent': None} \n",
      "\n",
      "{'id': 'text-search-curie-query-001', 'object': 'model', 'created': 1651172509, 'owned_by': 'openai-dev', 'permission': [{'id': 'modelperm-Iion0NCpsXPNtIkQ0owQLi7V', 'object': 'model_permission', 'created': 1677273417, 'allow_create_engine': False, 'allow_sampling': True, 'allow_logprobs': True, 'allow_search_indices': True, 'allow_view': True, 'allow_fine_tuning': False, 'organization': '*', 'group': None, 'is_blocking': False}], 'root': 'text-search-curie-query-001', 'parent': None} \n",
      "\n",
      "{'id': 'whisper-1', 'object': 'model', 'created': 1677532384, 'owned_by': 'openai-internal', 'permission': [{'id': 'modelperm-bqJ81EjbELsTgQbWMqPJ5y8V', 'object': 'model_permission', 'created': 1682699849, 'allow_create_engine': False, 'allow_sampling': True, 'allow_logprobs': True, 'allow_search_indices': False, 'allow_view': True, 'allow_fine_tuning': False, 'organization': '*', 'group': None, 'is_blocking': False}], 'root': 'whisper-1', 'parent': None} \n",
      "\n",
      "{'id': 'text-search-babbage-doc-001', 'object': 'model', 'created': 1651172509, 'owned_by': 'openai-dev', 'permission': [{'id': 'modelperm-ao2r26P2Th7nhRFleHwy2gn5', 'object': 'model_permission', 'created': 1669084981, 'allow_create_engine': False, 'allow_sampling': True, 'allow_logprobs': True, 'allow_search_indices': True, 'allow_view': True, 'allow_fine_tuning': False, 'organization': '*', 'group': None, 'is_blocking': False}], 'root': 'text-search-babbage-doc-001', 'parent': None} \n",
      "\n",
      "{'id': 'curie-search-document', 'object': 'model', 'created': 1651172508, 'owned_by': 'openai-dev', 'permission': [{'id': 'modelperm-LDsN5wW8eKVuh1OsyciHntE9', 'object': 'model_permission', 'created': 1677273417, 'allow_create_engine': False, 'allow_sampling': True, 'allow_logprobs': True, 'allow_search_indices': True, 'allow_view': True, 'allow_fine_tuning': False, 'organization': '*', 'group': None, 'is_blocking': False}], 'root': 'curie-search-document', 'parent': None} \n",
      "\n",
      "{'id': 'text-davinci-003', 'object': 'model', 'created': 1669599635, 'owned_by': 'openai-internal', 'permission': [{'id': 'modelperm-0BY5Vvyou9mtLXyeOVqfTKGl', 'object': 'model_permission', 'created': 1683141911, 'allow_create_engine': False, 'allow_sampling': True, 'allow_logprobs': True, 'allow_search_indices': False, 'allow_view': True, 'allow_fine_tuning': False, 'organization': '*', 'group': None, 'is_blocking': False}], 'root': 'text-davinci-003', 'parent': None} \n",
      "\n",
      "{'id': 'text-search-curie-doc-001', 'object': 'model', 'created': 1651172509, 'owned_by': 'openai-dev', 'permission': [{'id': 'modelperm-taUGRSku7bQLa24SNIwYPEsi', 'object': 'model_permission', 'created': 1677273417, 'allow_create_engine': False, 'allow_sampling': True, 'allow_logprobs': True, 'allow_search_indices': True, 'allow_view': True, 'allow_fine_tuning': False, 'organization': '*', 'group': None, 'is_blocking': False}], 'root': 'text-search-curie-doc-001', 'parent': None} \n",
      "\n",
      "{'id': 'babbage-search-query', 'object': 'model', 'created': 1651172509, 'owned_by': 'openai-dev', 'permission': [{'id': 'modelperm-wSs1hMXDKsrcErlbN8HmzlLE', 'object': 'model_permission', 'created': 1669084981, 'allow_create_engine': False, 'allow_sampling': True, 'allow_logprobs': True, 'allow_search_indices': True, 'allow_view': True, 'allow_fine_tuning': False, 'organization': '*', 'group': None, 'is_blocking': False}], 'root': 'babbage-search-query', 'parent': None} \n",
      "\n",
      "{'id': 'text-babbage-001', 'object': 'model', 'created': 1649364043, 'owned_by': 'openai', 'permission': [{'id': 'modelperm-a3Ph5FIBbJxsoA4wvx7VYC7R', 'object': 'model_permission', 'created': 1675105935, 'allow_create_engine': False, 'allow_sampling': True, 'allow_logprobs': True, 'allow_search_indices': False, 'allow_view': True, 'allow_fine_tuning': False, 'organization': '*', 'group': None, 'is_blocking': False}], 'root': 'text-babbage-001', 'parent': None} \n",
      "\n",
      "{'id': 'text-search-davinci-doc-001', 'object': 'model', 'created': 1651172505, 'owned_by': 'openai-dev', 'permission': [{'id': 'modelperm-qhSf1j2MJMujcu3t7cHnF1DN', 'object': 'model_permission', 'created': 1669066353, 'allow_create_engine': False, 'allow_sampling': True, 'allow_logprobs': True, 'allow_search_indices': True, 'allow_view': True, 'allow_fine_tuning': False, 'organization': '*', 'group': None, 'is_blocking': False}], 'root': 'text-search-davinci-doc-001', 'parent': None} \n",
      "\n",
      "{'id': 'text-search-babbage-query-001', 'object': 'model', 'created': 1651172509, 'owned_by': 'openai-dev', 'permission': [{'id': 'modelperm-Kg70kkFxD93QQqsVe4Zw8vjc', 'object': 'model_permission', 'created': 1669084981, 'allow_create_engine': False, 'allow_sampling': True, 'allow_logprobs': True, 'allow_search_indices': True, 'allow_view': True, 'allow_fine_tuning': False, 'organization': '*', 'group': None, 'is_blocking': False}], 'root': 'text-search-babbage-query-001', 'parent': None} \n",
      "\n",
      "{'id': 'curie-similarity', 'object': 'model', 'created': 1651172510, 'owned_by': 'openai-dev', 'permission': [{'id': 'modelperm-zhWKExSloaQiJgzjVHFmh2wR', 'object': 'model_permission', 'created': 1675106290, 'allow_create_engine': False, 'allow_sampling': True, 'allow_logprobs': True, 'allow_search_indices': True, 'allow_view': True, 'allow_fine_tuning': False, 'organization': '*', 'group': None, 'is_blocking': False}], 'root': 'curie-similarity', 'parent': None} \n",
      "\n",
      "{'id': 'curie', 'object': 'model', 'created': 1649359874, 'owned_by': 'openai', 'permission': [{'id': 'modelperm-oPaljeveTjEIDbhDjzFiyf4V', 'object': 'model_permission', 'created': 1675106503, 'allow_create_engine': False, 'allow_sampling': True, 'allow_logprobs': True, 'allow_search_indices': False, 'allow_view': True, 'allow_fine_tuning': False, 'organization': '*', 'group': None, 'is_blocking': False}], 'root': 'curie', 'parent': None} \n",
      "\n",
      "{'id': 'text-similarity-davinci-001', 'object': 'model', 'created': 1651172505, 'owned_by': 'openai-dev', 'permission': [{'id': 'modelperm-OvmcfYoq5V9SF9xTYw1Oz6Ue', 'object': 'model_permission', 'created': 1669066356, 'allow_create_engine': False, 'allow_sampling': True, 'allow_logprobs': True, 'allow_search_indices': True, 'allow_view': True, 'allow_fine_tuning': False, 'organization': '*', 'group': None, 'is_blocking': False}], 'root': 'text-similarity-davinci-001', 'parent': None} \n",
      "\n",
      "{'id': 'text-davinci-002', 'object': 'model', 'created': 1649880484, 'owned_by': 'openai', 'permission': [{'id': 'modelperm-l4EU6QlN1HcS0so0jU16kyg8', 'object': 'model_permission', 'created': 1679355287, 'allow_create_engine': False, 'allow_sampling': True, 'allow_logprobs': True, 'allow_search_indices': False, 'allow_view': True, 'allow_fine_tuning': False, 'organization': '*', 'group': None, 'is_blocking': False}], 'root': 'text-davinci-002', 'parent': None} \n",
      "\n",
      "{'id': 'davinci-similarity', 'object': 'model', 'created': 1651172509, 'owned_by': 'openai-dev', 'permission': [{'id': 'modelperm-lYYgng3LM0Y97HvB5CDc8no2', 'object': 'model_permission', 'created': 1669066353, 'allow_create_engine': False, 'allow_sampling': True, 'allow_logprobs': True, 'allow_search_indices': True, 'allow_view': True, 'allow_fine_tuning': False, 'organization': '*', 'group': None, 'is_blocking': False}], 'root': 'davinci-similarity', 'parent': None} \n",
      "\n",
      "{'id': 'cushman:2020-05-03', 'object': 'model', 'created': 1590625110, 'owned_by': 'system', 'permission': [{'id': 'snapperm-FAup8P1KqclNlTsunLDRiesT', 'object': 'model_permission', 'created': 1590625111, 'allow_create_engine': False, 'allow_sampling': True, 'allow_logprobs': True, 'allow_search_indices': False, 'allow_view': True, 'allow_fine_tuning': True, 'organization': '*', 'group': None, 'is_blocking': False}], 'root': 'cushman:2020-05-03', 'parent': None} \n",
      "\n",
      "{'id': 'ada:2020-05-03', 'object': 'model', 'created': 1607631625, 'owned_by': 'system', 'permission': [{'id': 'snapperm-9TYofAqUs54vytKYL0IX91rX', 'object': 'model_permission', 'created': 1607631626, 'allow_create_engine': False, 'allow_sampling': True, 'allow_logprobs': True, 'allow_search_indices': False, 'allow_view': True, 'allow_fine_tuning': False, 'organization': '*', 'group': None, 'is_blocking': False}], 'root': 'ada:2020-05-03', 'parent': None} \n",
      "\n",
      "{'id': 'babbage:2020-05-03', 'object': 'model', 'created': 1607632611, 'owned_by': 'system', 'permission': [{'id': 'snapperm-jaLAcmyyNuaVmalCE1BGTGwf', 'object': 'model_permission', 'created': 1607632613, 'allow_create_engine': False, 'allow_sampling': True, 'allow_logprobs': True, 'allow_search_indices': False, 'allow_view': True, 'allow_fine_tuning': False, 'organization': '*', 'group': None, 'is_blocking': False}], 'root': 'babbage:2020-05-03', 'parent': None} \n",
      "\n",
      "{'id': 'curie:2020-05-03', 'object': 'model', 'created': 1607632725, 'owned_by': 'system', 'permission': [{'id': 'snapperm-bt6R8PWbB2SwK5evFo0ZxSs4', 'object': 'model_permission', 'created': 1607632727, 'allow_create_engine': False, 'allow_sampling': True, 'allow_logprobs': True, 'allow_search_indices': False, 'allow_view': True, 'allow_fine_tuning': False, 'organization': '*', 'group': None, 'is_blocking': False}], 'root': 'curie:2020-05-03', 'parent': None} \n",
      "\n",
      "{'id': 'davinci:2020-05-03', 'object': 'model', 'created': 1607640163, 'owned_by': 'system', 'permission': [{'id': 'snapperm-99cbfQTYDVeLkTYndX3UMpSr', 'object': 'model_permission', 'created': 1607640164, 'allow_create_engine': False, 'allow_sampling': True, 'allow_logprobs': True, 'allow_search_indices': False, 'allow_view': True, 'allow_fine_tuning': False, 'organization': '*', 'group': None, 'is_blocking': False}], 'root': 'davinci:2020-05-03', 'parent': None} \n",
      "\n",
      "{'id': 'if-davinci-v2', 'object': 'model', 'created': 1610745990, 'owned_by': 'openai', 'permission': [{'id': 'snapperm-58q0TdK2K4kMgL3MoHvGWMlH', 'object': 'model_permission', 'created': 1610746036, 'allow_create_engine': False, 'allow_sampling': True, 'allow_logprobs': True, 'allow_search_indices': False, 'allow_view': True, 'allow_fine_tuning': False, 'organization': '*', 'group': None, 'is_blocking': False}], 'root': 'if-davinci-v2', 'parent': None} \n",
      "\n",
      "{'id': 'if-curie-v2', 'object': 'model', 'created': 1610745968, 'owned_by': 'openai', 'permission': [{'id': 'snapperm-fwAseHVq6NGe6Ple6tKfzRSK', 'object': 'model_permission', 'created': 1610746043, 'allow_create_engine': False, 'allow_sampling': True, 'allow_logprobs': True, 'allow_search_indices': False, 'allow_view': True, 'allow_fine_tuning': False, 'organization': '*', 'group': None, 'is_blocking': False}], 'root': 'if-curie-v2', 'parent': None} \n",
      "\n",
      "{'id': 'if-davinci:3.0.0', 'object': 'model', 'created': 1629420755, 'owned_by': 'openai', 'permission': [{'id': 'snapperm-T53lssiyMWwiuJwhyO9ic53z', 'object': 'model_permission', 'created': 1629421809, 'allow_create_engine': False, 'allow_sampling': True, 'allow_logprobs': True, 'allow_search_indices': False, 'allow_view': True, 'allow_fine_tuning': True, 'organization': '*', 'group': None, 'is_blocking': False}], 'root': 'if-davinci:3.0.0', 'parent': None} \n",
      "\n",
      "{'id': 'davinci-if:3.0.0', 'object': 'model', 'created': 1629498070, 'owned_by': 'openai', 'permission': [{'id': 'snapperm-s6ZIAVMwlZwrLGGClTXqSK3Q', 'object': 'model_permission', 'created': 1629498084, 'allow_create_engine': False, 'allow_sampling': True, 'allow_logprobs': True, 'allow_search_indices': False, 'allow_view': True, 'allow_fine_tuning': True, 'organization': '*', 'group': None, 'is_blocking': False}], 'root': 'davinci-if:3.0.0', 'parent': None} \n",
      "\n",
      "{'id': 'davinci-instruct-beta:2.0.0', 'object': 'model', 'created': 1629501914, 'owned_by': 'openai', 'permission': [{'id': 'snapperm-c70U4TBfiOD839xptP5pJzyc', 'object': 'model_permission', 'created': 1629501939, 'allow_create_engine': False, 'allow_sampling': True, 'allow_logprobs': True, 'allow_search_indices': False, 'allow_view': True, 'allow_fine_tuning': True, 'organization': '*', 'group': None, 'is_blocking': False}], 'root': 'davinci-instruct-beta:2.0.0', 'parent': None} \n",
      "\n",
      "{'id': 'text-ada:001', 'object': 'model', 'created': 1641949608, 'owned_by': 'system', 'permission': [{'id': 'snapperm-d2PSnwFG1Yn9of6PvrrhkBcU', 'object': 'model_permission', 'created': 1641949610, 'allow_create_engine': False, 'allow_sampling': True, 'allow_logprobs': True, 'allow_search_indices': False, 'allow_view': True, 'allow_fine_tuning': False, 'organization': '*', 'group': None, 'is_blocking': False}], 'root': 'text-ada:001', 'parent': None} \n",
      "\n",
      "{'id': 'text-davinci:001', 'object': 'model', 'created': 1641943966, 'owned_by': 'system', 'permission': [{'id': 'snapperm-Fj1O3zkKXOQy6AkcfQXRKcWA', 'object': 'model_permission', 'created': 1641944340, 'allow_create_engine': False, 'allow_sampling': True, 'allow_logprobs': True, 'allow_search_indices': False, 'allow_view': True, 'allow_fine_tuning': False, 'organization': '*', 'group': None, 'is_blocking': False}], 'root': 'text-davinci:001', 'parent': None} \n",
      "\n",
      "{'id': 'text-curie:001', 'object': 'model', 'created': 1641955047, 'owned_by': 'system', 'permission': [{'id': 'snapperm-BI9TAT6SCj43JRsUb9CYadsz', 'object': 'model_permission', 'created': 1641955123, 'allow_create_engine': False, 'allow_sampling': True, 'allow_logprobs': True, 'allow_search_indices': False, 'allow_view': True, 'allow_fine_tuning': False, 'organization': '*', 'group': None, 'is_blocking': False}], 'root': 'text-curie:001', 'parent': None} \n",
      "\n",
      "{'id': 'text-babbage:001', 'object': 'model', 'created': 1642018370, 'owned_by': 'openai', 'permission': [{'id': 'snapperm-7oP3WFr9x7qf5xb3eZrVABAH', 'object': 'model_permission', 'created': 1642018480, 'allow_create_engine': False, 'allow_sampling': True, 'allow_logprobs': True, 'allow_search_indices': False, 'allow_view': True, 'allow_fine_tuning': False, 'organization': '*', 'group': None, 'is_blocking': False}], 'root': 'text-babbage:001', 'parent': None} \n",
      "\n"
     ]
    }
   ],
   "source": [
    "get_models()"
   ],
   "metadata": {
    "collapsed": false,
    "pycharm": {
     "name": "#%%\n"
    }
   }
  },
  {
   "cell_type": "markdown",
   "source": [
    "#### Load and preprocess dataset\n",
    "This will take some time if dataset is large. This is only necessary to do once each jupyter-session as local variables are stored until session/kernel shut down."
   ],
   "metadata": {
    "collapsed": false,
    "pycharm": {
     "name": "#%% md\n"
    }
   }
  },
  {
   "cell_type": "code",
   "execution_count": 8,
   "metadata": {
    "collapsed": true,
    "pycharm": {
     "name": "#%%\n"
    }
   },
   "outputs": [
    {
     "name": "stderr",
     "output_type": "stream",
     "text": [
      "Found cached dataset json (/Users/nicolaisivesind/.cache/huggingface/datasets/gfissore___json/gfissore--arxiv-abstracts-2021-23556c248bdbe0fc/0.0.0/fe5dd6ea2639a6df622901539cb550cf8797e5a6b2dd7af1cf934bed8e233e6e)\n"
     ]
    },
    {
     "data": {
      "text/plain": "  0%|          | 0/1 [00:00<?, ?it/s]",
      "application/vnd.jupyter.widget-view+json": {
       "version_major": 2,
       "version_minor": 0,
       "model_id": "936c1ec783674666be3a11f8dd7900e8"
      }
     },
     "metadata": {},
     "output_type": "display_data"
    },
    {
     "name": "stdout",
     "output_type": "stream",
     "text": [
      " Counting words: 1%"
     ]
    },
    {
     "ename": "KeyboardInterrupt",
     "evalue": "",
     "output_type": "error",
     "traceback": [
      "\u001B[0;31m---------------------------------------------------------------------------\u001B[0m",
      "\u001B[0;31mKeyboardInterrupt\u001B[0m                         Traceback (most recent call last)",
      "Cell \u001B[0;32mIn[8], line 3\u001B[0m\n\u001B[1;32m      1\u001B[0m \u001B[38;5;66;03m# Code execution\u001B[39;00m\n\u001B[1;32m      2\u001B[0m dataset \u001B[38;5;241m=\u001B[39m ds\u001B[38;5;241m.\u001B[39mload_dataset(\u001B[38;5;124m\"\u001B[39m\u001B[38;5;124mgfissore/arxiv-abstracts-2021\u001B[39m\u001B[38;5;124m\"\u001B[39m)[\u001B[38;5;124m'\u001B[39m\u001B[38;5;124mtrain\u001B[39m\u001B[38;5;124m'\u001B[39m]\n\u001B[0;32m----> 3\u001B[0m reformatted_dataset \u001B[38;5;241m=\u001B[39m \u001B[43mcount_and_reformat\u001B[49m\u001B[43m(\u001B[49m\u001B[43mdataset\u001B[49m\u001B[38;5;241;43m=\u001B[39;49m\u001B[43mdataset\u001B[49m\u001B[43m,\u001B[49m\n\u001B[1;32m      4\u001B[0m \u001B[43m                                  \u001B[49m\u001B[43mcount_column\u001B[49m\u001B[38;5;241;43m=\u001B[39;49m\u001B[38;5;124;43m'\u001B[39;49m\u001B[38;5;124;43mabstract\u001B[39;49m\u001B[38;5;124;43m'\u001B[39;49m\u001B[43m,\u001B[49m\n\u001B[1;32m      5\u001B[0m \u001B[43m                                  \u001B[49m\u001B[43mretain_columns\u001B[49m\u001B[38;5;241;43m=\u001B[39;49m\u001B[43m[\u001B[49m\u001B[38;5;124;43m'\u001B[39;49m\u001B[38;5;124;43mtitle\u001B[39;49m\u001B[38;5;124;43m'\u001B[39;49m\u001B[43m,\u001B[49m\u001B[43m \u001B[49m\u001B[38;5;124;43m'\u001B[39;49m\u001B[38;5;124;43mabstract\u001B[39;49m\u001B[38;5;124;43m'\u001B[39;49m\u001B[43m]\u001B[49m\u001B[43m)\u001B[49m\n",
      "File \u001B[0;32m~/Desktop/NTNU/Bachelor/Kode/MGT-Detection/execution/../data_manipulation/data_processing.py:102\u001B[0m, in \u001B[0;36mcount_and_reformat\u001B[0;34m(dataset, count_column, retain_columns)\u001B[0m\n\u001B[1;32m    100\u001B[0m \u001B[38;5;66;03m# Format data_points and retrieve word_count\u001B[39;00m\n\u001B[1;32m    101\u001B[0m total \u001B[38;5;241m=\u001B[39m \u001B[38;5;28mlen\u001B[39m(dataset)\n\u001B[0;32m--> 102\u001B[0m \u001B[38;5;28;01mfor\u001B[39;00m i, data_point \u001B[38;5;129;01min\u001B[39;00m \u001B[38;5;28menumerate\u001B[39m(dataset):\n\u001B[1;32m    103\u001B[0m     \u001B[38;5;28;01mif\u001B[39;00m i \u001B[38;5;241m%\u001B[39m \u001B[38;5;28mint\u001B[39m(total \u001B[38;5;241m/\u001B[39m \u001B[38;5;241m100\u001B[39m) \u001B[38;5;241m==\u001B[39m \u001B[38;5;241m0\u001B[39m:\n\u001B[1;32m    104\u001B[0m         \u001B[38;5;28mprint\u001B[39m(\u001B[38;5;124m'\u001B[39m\u001B[38;5;130;01m\\r\u001B[39;00m\u001B[38;5;124m'\u001B[39m, \u001B[38;5;124mf\u001B[39m\u001B[38;5;124m'\u001B[39m\u001B[38;5;124mCounting words: \u001B[39m\u001B[38;5;132;01m{\u001B[39;00m\u001B[38;5;28mround\u001B[39m(i\u001B[38;5;250m \u001B[39m\u001B[38;5;241m/\u001B[39m\u001B[38;5;250m \u001B[39mtotal\u001B[38;5;250m \u001B[39m\u001B[38;5;241m*\u001B[39m\u001B[38;5;250m \u001B[39m\u001B[38;5;241m100\u001B[39m)\u001B[38;5;132;01m}\u001B[39;00m\u001B[38;5;124m%\u001B[39m\u001B[38;5;124m'\u001B[39m, end\u001B[38;5;241m=\u001B[39m\u001B[38;5;124m\"\u001B[39m\u001B[38;5;124m\"\u001B[39m)\n",
      "File \u001B[0;32m/usr/local/lib/python3.10/site-packages/datasets/arrow_dataset.py:2293\u001B[0m, in \u001B[0;36mDataset.__iter__\u001B[0;34m(self)\u001B[0m\n\u001B[1;32m   2291\u001B[0m         \u001B[38;5;28;01mfor\u001B[39;00m i \u001B[38;5;129;01min\u001B[39;00m \u001B[38;5;28mrange\u001B[39m(pa_subtable\u001B[38;5;241m.\u001B[39mnum_rows):\n\u001B[1;32m   2292\u001B[0m             pa_subtable_ex \u001B[38;5;241m=\u001B[39m pa_subtable\u001B[38;5;241m.\u001B[39mslice(i, \u001B[38;5;241m1\u001B[39m)\n\u001B[0;32m-> 2293\u001B[0m             formatted_output \u001B[38;5;241m=\u001B[39m \u001B[43mformat_table\u001B[49m\u001B[43m(\u001B[49m\n\u001B[1;32m   2294\u001B[0m \u001B[43m                \u001B[49m\u001B[43mpa_subtable_ex\u001B[49m\u001B[43m,\u001B[49m\n\u001B[1;32m   2295\u001B[0m \u001B[43m                \u001B[49m\u001B[38;5;241;43m0\u001B[39;49m\u001B[43m,\u001B[49m\n\u001B[1;32m   2296\u001B[0m \u001B[43m                \u001B[49m\u001B[43mformatter\u001B[49m\u001B[38;5;241;43m=\u001B[39;49m\u001B[43mformatter\u001B[49m\u001B[43m,\u001B[49m\n\u001B[1;32m   2297\u001B[0m \u001B[43m                \u001B[49m\u001B[43mformat_columns\u001B[49m\u001B[38;5;241;43m=\u001B[39;49m\u001B[38;5;28;43mself\u001B[39;49m\u001B[38;5;241;43m.\u001B[39;49m\u001B[43m_format_columns\u001B[49m\u001B[43m,\u001B[49m\n\u001B[1;32m   2298\u001B[0m \u001B[43m                \u001B[49m\u001B[43moutput_all_columns\u001B[49m\u001B[38;5;241;43m=\u001B[39;49m\u001B[38;5;28;43mself\u001B[39;49m\u001B[38;5;241;43m.\u001B[39;49m\u001B[43m_output_all_columns\u001B[49m\u001B[43m,\u001B[49m\n\u001B[1;32m   2299\u001B[0m \u001B[43m            \u001B[49m\u001B[43m)\u001B[49m\n\u001B[1;32m   2300\u001B[0m             \u001B[38;5;28;01myield\u001B[39;00m formatted_output\n\u001B[1;32m   2301\u001B[0m \u001B[38;5;28;01melse\u001B[39;00m:\n",
      "File \u001B[0;32m/usr/local/lib/python3.10/site-packages/datasets/formatting/formatting.py:634\u001B[0m, in \u001B[0;36mformat_table\u001B[0;34m(table, key, formatter, format_columns, output_all_columns)\u001B[0m\n\u001B[1;32m    632\u001B[0m python_formatter \u001B[38;5;241m=\u001B[39m PythonFormatter(features\u001B[38;5;241m=\u001B[39m\u001B[38;5;28;01mNone\u001B[39;00m)\n\u001B[1;32m    633\u001B[0m \u001B[38;5;28;01mif\u001B[39;00m format_columns \u001B[38;5;129;01mis\u001B[39;00m \u001B[38;5;28;01mNone\u001B[39;00m:\n\u001B[0;32m--> 634\u001B[0m     \u001B[38;5;28;01mreturn\u001B[39;00m \u001B[43mformatter\u001B[49m\u001B[43m(\u001B[49m\u001B[43mpa_table\u001B[49m\u001B[43m,\u001B[49m\u001B[43m \u001B[49m\u001B[43mquery_type\u001B[49m\u001B[38;5;241;43m=\u001B[39;49m\u001B[43mquery_type\u001B[49m\u001B[43m)\u001B[49m\n\u001B[1;32m    635\u001B[0m \u001B[38;5;28;01melif\u001B[39;00m query_type \u001B[38;5;241m==\u001B[39m \u001B[38;5;124m\"\u001B[39m\u001B[38;5;124mcolumn\u001B[39m\u001B[38;5;124m\"\u001B[39m:\n\u001B[1;32m    636\u001B[0m     \u001B[38;5;28;01mif\u001B[39;00m key \u001B[38;5;129;01min\u001B[39;00m format_columns:\n",
      "File \u001B[0;32m/usr/local/lib/python3.10/site-packages/datasets/formatting/formatting.py:406\u001B[0m, in \u001B[0;36mFormatter.__call__\u001B[0;34m(self, pa_table, query_type)\u001B[0m\n\u001B[1;32m    404\u001B[0m \u001B[38;5;28;01mdef\u001B[39;00m \u001B[38;5;21m__call__\u001B[39m(\u001B[38;5;28mself\u001B[39m, pa_table: pa\u001B[38;5;241m.\u001B[39mTable, query_type: \u001B[38;5;28mstr\u001B[39m) \u001B[38;5;241m-\u001B[39m\u001B[38;5;241m>\u001B[39m Union[RowFormat, ColumnFormat, BatchFormat]:\n\u001B[1;32m    405\u001B[0m     \u001B[38;5;28;01mif\u001B[39;00m query_type \u001B[38;5;241m==\u001B[39m \u001B[38;5;124m\"\u001B[39m\u001B[38;5;124mrow\u001B[39m\u001B[38;5;124m\"\u001B[39m:\n\u001B[0;32m--> 406\u001B[0m         \u001B[38;5;28;01mreturn\u001B[39;00m \u001B[38;5;28;43mself\u001B[39;49m\u001B[38;5;241;43m.\u001B[39;49m\u001B[43mformat_row\u001B[49m\u001B[43m(\u001B[49m\u001B[43mpa_table\u001B[49m\u001B[43m)\u001B[49m\n\u001B[1;32m    407\u001B[0m     \u001B[38;5;28;01melif\u001B[39;00m query_type \u001B[38;5;241m==\u001B[39m \u001B[38;5;124m\"\u001B[39m\u001B[38;5;124mcolumn\u001B[39m\u001B[38;5;124m\"\u001B[39m:\n\u001B[1;32m    408\u001B[0m         \u001B[38;5;28;01mreturn\u001B[39;00m \u001B[38;5;28mself\u001B[39m\u001B[38;5;241m.\u001B[39mformat_column(pa_table)\n",
      "File \u001B[0;32m/usr/local/lib/python3.10/site-packages/datasets/formatting/formatting.py:442\u001B[0m, in \u001B[0;36mPythonFormatter.format_row\u001B[0;34m(self, pa_table)\u001B[0m\n\u001B[1;32m    440\u001B[0m     \u001B[38;5;28;01mreturn\u001B[39;00m LazyRow(pa_table, \u001B[38;5;28mself\u001B[39m)\n\u001B[1;32m    441\u001B[0m row \u001B[38;5;241m=\u001B[39m \u001B[38;5;28mself\u001B[39m\u001B[38;5;241m.\u001B[39mpython_arrow_extractor()\u001B[38;5;241m.\u001B[39mextract_row(pa_table)\n\u001B[0;32m--> 442\u001B[0m row \u001B[38;5;241m=\u001B[39m \u001B[38;5;28;43mself\u001B[39;49m\u001B[38;5;241;43m.\u001B[39;49m\u001B[43mpython_features_decoder\u001B[49m\u001B[38;5;241;43m.\u001B[39;49m\u001B[43mdecode_row\u001B[49m\u001B[43m(\u001B[49m\u001B[43mrow\u001B[49m\u001B[43m)\u001B[49m\n\u001B[1;32m    443\u001B[0m \u001B[38;5;28;01mreturn\u001B[39;00m row\n",
      "File \u001B[0;32m/usr/local/lib/python3.10/site-packages/datasets/formatting/formatting.py:225\u001B[0m, in \u001B[0;36mPythonFeaturesDecoder.decode_row\u001B[0;34m(self, row)\u001B[0m\n\u001B[1;32m    224\u001B[0m \u001B[38;5;28;01mdef\u001B[39;00m \u001B[38;5;21mdecode_row\u001B[39m(\u001B[38;5;28mself\u001B[39m, row: \u001B[38;5;28mdict\u001B[39m) \u001B[38;5;241m-\u001B[39m\u001B[38;5;241m>\u001B[39m \u001B[38;5;28mdict\u001B[39m:\n\u001B[0;32m--> 225\u001B[0m     \u001B[38;5;28;01mreturn\u001B[39;00m \u001B[38;5;28;43mself\u001B[39;49m\u001B[38;5;241;43m.\u001B[39;49m\u001B[43mfeatures\u001B[49m\u001B[38;5;241;43m.\u001B[39;49m\u001B[43mdecode_example\u001B[49m\u001B[43m(\u001B[49m\u001B[43mrow\u001B[49m\u001B[43m)\u001B[49m \u001B[38;5;28;01mif\u001B[39;00m \u001B[38;5;28mself\u001B[39m\u001B[38;5;241m.\u001B[39mfeatures \u001B[38;5;28;01melse\u001B[39;00m row\n",
      "File \u001B[0;32m/usr/local/lib/python3.10/site-packages/datasets/features/features.py:1869\u001B[0m, in \u001B[0;36mFeatures.decode_example\u001B[0;34m(self, example, token_per_repo_id)\u001B[0m\n\u001B[1;32m   1850\u001B[0m \u001B[38;5;28;01mdef\u001B[39;00m \u001B[38;5;21mdecode_example\u001B[39m(\u001B[38;5;28mself\u001B[39m, example: \u001B[38;5;28mdict\u001B[39m, token_per_repo_id: Optional[Dict[\u001B[38;5;28mstr\u001B[39m, Union[\u001B[38;5;28mstr\u001B[39m, \u001B[38;5;28mbool\u001B[39m, \u001B[38;5;28;01mNone\u001B[39;00m]]] \u001B[38;5;241m=\u001B[39m \u001B[38;5;28;01mNone\u001B[39;00m):\n\u001B[1;32m   1851\u001B[0m \u001B[38;5;250m    \u001B[39m\u001B[38;5;124;03m\"\"\"Decode example with custom feature decoding.\u001B[39;00m\n\u001B[1;32m   1852\u001B[0m \n\u001B[1;32m   1853\u001B[0m \u001B[38;5;124;03m    Args:\u001B[39;00m\n\u001B[0;32m   (...)\u001B[0m\n\u001B[1;32m   1861\u001B[0m \u001B[38;5;124;03m        `dict[str, Any]`\u001B[39;00m\n\u001B[1;32m   1862\u001B[0m \u001B[38;5;124;03m    \"\"\"\u001B[39;00m\n\u001B[1;32m   1864\u001B[0m     \u001B[38;5;28;01mreturn\u001B[39;00m {\n\u001B[1;32m   1865\u001B[0m         column_name: decode_nested_example(feature, value, token_per_repo_id\u001B[38;5;241m=\u001B[39mtoken_per_repo_id)\n\u001B[1;32m   1866\u001B[0m         \u001B[38;5;28;01mif\u001B[39;00m \u001B[38;5;28mself\u001B[39m\u001B[38;5;241m.\u001B[39m_column_requires_decoding[column_name]\n\u001B[1;32m   1867\u001B[0m         \u001B[38;5;28;01melse\u001B[39;00m value\n\u001B[1;32m   1868\u001B[0m         \u001B[38;5;28;01mfor\u001B[39;00m column_name, (feature, value) \u001B[38;5;129;01min\u001B[39;00m zip_dict(\n\u001B[0;32m-> 1869\u001B[0m             {key: value \u001B[38;5;28;01mfor\u001B[39;00m key, value \u001B[38;5;129;01min\u001B[39;00m \u001B[38;5;28;43mself\u001B[39;49m\u001B[38;5;241;43m.\u001B[39;49m\u001B[43mitems\u001B[49m\u001B[43m(\u001B[49m\u001B[43m)\u001B[49m \u001B[38;5;28;01mif\u001B[39;00m key \u001B[38;5;129;01min\u001B[39;00m example}, example\n\u001B[1;32m   1870\u001B[0m         )\n\u001B[1;32m   1871\u001B[0m     }\n",
      "\u001B[0;31mKeyboardInterrupt\u001B[0m: "
     ]
    }
   ],
   "source": [
    "# Code execution\n",
    "dataset = ds.load_dataset(\"gfissore/arxiv-abstracts-2021\")['train']\n",
    "reformatted_dataset = count_and_reformat(dataset=dataset,\n",
    "                                  count_column='abstract',\n",
    "                                  retain_columns=['title', 'abstract'])"
   ]
  },
  {
   "cell_type": "markdown",
   "source": [
    "#### Run code segments"
   ],
   "metadata": {
    "collapsed": false,
    "pycharm": {
     "name": "#%% md\n"
    }
   }
  },
  {
   "cell_type": "code",
   "execution_count": 3,
   "outputs": [
    {
     "name": "stdout",
     "output_type": "stream",
     "text": [
      " Sorting into lists: 99%\n",
      " Sampling data points: 100%"
     ]
    }
   ],
   "source": [
    "uniform_subset = sample_uniform_subset(dataset=reformatted_dataset,\n",
    "                                       column='word_count',\n",
    "                                       start=50,\n",
    "                                       end=600,\n",
    "                                       subset_size=10000)"
   ],
   "metadata": {
    "collapsed": false,
    "pycharm": {
     "name": "#%%\n"
    }
   }
  },
  {
   "cell_type": "markdown",
   "source": [],
   "metadata": {
    "collapsed": false,
    "pycharm": {
     "name": "#%% md\n"
    }
   }
  },
  {
   "cell_type": "code",
   "execution_count": 5,
   "outputs": [
    {
     "name": "stdout",
     "output_type": "stream",
     "text": [
      "CSV-file already exists. Will append new rows to existing document. Cancel execution if this is not intended.\n",
      "\n",
      " Generating: 8773/10000\n",
      " API-error. Reattempting API-call\n",
      " Generating: 10000/10000\n",
      "Abstract generation complete.\n",
      "\n",
      "\n"
     ]
    }
   ],
   "source": [
    "generate_abstracts(data=uniform_subset,\n",
    "                   target_file_name='research_abstracts-uniform-clean',\n",
    "                   target_dir_path='./../../datasets/origins/research-abstracts',\n",
    "                   start_index=7315)"
   ],
   "metadata": {
    "collapsed": false,
    "pycharm": {
     "name": "#%%\n"
    }
   }
  },
  {
   "cell_type": "code",
   "execution_count": 3,
   "outputs": [
    {
     "name": "stderr",
     "output_type": "stream",
     "text": [
      "Found cached dataset csv (/Users/nicolaisivesind/.cache/huggingface/datasets/csv/default-b1e87654a6a27fb5/0.0.0/6954658bab30a358235fa864b05cf819af0e179325c740e4bc853bcc7ec513e1)\n"
     ]
    },
    {
     "data": {
      "text/plain": "  0%|          | 0/1 [00:00<?, ?it/s]",
      "application/vnd.jupyter.widget-view+json": {
       "version_major": 2,
       "version_minor": 0,
       "model_id": "3dc939b28b0f48f69e74648b9b4bd6f8"
      }
     },
     "metadata": {},
     "output_type": "display_data"
    },
    {
     "name": "stdout",
     "output_type": "stream",
     "text": [
      " Sorting into lists: 99%\n",
      " Sampling substitutes: 100%list:  10000\n",
      "unique:  10000\n",
      "CSV-file already exists. Will append new rows to existing document. Cancel execution if this is not intended.\n",
      "\n",
      " Generating: 27/27\n",
      "Abstract generation complete.\n",
      "\n",
      "\n"
     ]
    }
   ],
   "source": [
    "dataset_2 = ds.load_dataset('csv', data_files='../../datasets/origins/research-abstracts/research_abstracts-uniform.csv')['train']\n",
    "\n",
    "substitutes = substitute_duplicates_uniform(dataset_2, reformatted_dataset, 'title', 'word_count', 10000, 50, 600, 42)\n",
    "titles = dataset_2.unique('title') + [substitute['title'].replace('\\n', '') for substitute in substitutes]\n",
    "\n",
    "\n",
    "print('list: ', len(titles))\n",
    "print('unique: ', len(set(titles)))\n",
    "\n",
    "generate_abstracts(data=substitutes,\n",
    "                   target_file_name='research_abstracts-uniform',\n",
    "                   target_dir_path='./../../datasets/origins/research-abstracts')\n"
   ],
   "metadata": {
    "collapsed": false,
    "pycharm": {
     "name": "#%%\n"
    }
   }
  },
  {
   "cell_type": "code",
   "execution_count": null,
   "outputs": [],
   "source": [],
   "metadata": {
    "collapsed": false,
    "pycharm": {
     "name": "#%%\n"
    }
   }
  }
 ],
 "metadata": {
  "kernelspec": {
   "display_name": "Python 3",
   "language": "python",
   "name": "python3"
  },
  "language_info": {
   "codemirror_mode": {
    "name": "ipython",
    "version": 2
   },
   "file_extension": ".py",
   "mimetype": "text/x-python",
   "name": "python",
   "nbconvert_exporter": "python",
   "pygments_lexer": "ipython2",
   "version": "2.7.6"
  }
 },
 "nbformat": 4,
 "nbformat_minor": 0
}