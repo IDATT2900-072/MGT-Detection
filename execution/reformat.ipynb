{
 "cells": [
  {
   "cell_type": "markdown",
   "source": [
    "# Reformatting\n",
    "Reformatting of dataset source csv-files"
   ],
   "metadata": {
    "collapsed": false,
    "pycharm": {
     "name": "#%% md\n"
    }
   }
  },
  {
   "cell_type": "code",
   "execution_count": 1,
   "outputs": [],
   "source": [
    "from data_manipulation.data_reformatting import reformat_supervised_learning, deduplicate_csv, clean_text_column, recount_words_csv\n",
    "from data_manipulation.data_processing import cleanup_whitespaces"
   ],
   "metadata": {
    "collapsed": false,
    "pycharm": {
     "name": "#%%\n"
    }
   }
  },
  {
   "cell_type": "markdown",
   "source": [
    "### ChatGPT-Research-Abstracts"
   ],
   "metadata": {
    "collapsed": false,
    "pycharm": {
     "name": "#%% md\n"
    }
   }
  },
  {
   "cell_type": "code",
   "execution_count": 2,
   "outputs": [
    {
     "name": "stdout",
     "output_type": "stream",
     "text": [
      "Found 0 duplicates.\n"
     ]
    }
   ],
   "source": [
    "# Check and remove any for duplicates (same title)\n",
    "\n",
    "\n",
    "deduplicate_csv(source_csv_path='../../datasets/origins/research-abstracts/research_abstracts_reviewed.csv',\n",
    "                unique_key='title',\n",
    "                target_dir_path='../../datasets/origins/research-abstracts/',\n",
    "                target_file_name='research_abstracts-deduplicated',\n",
    "                delim=\";\",\n",
    "                write_csv=False)"
   ],
   "metadata": {
    "collapsed": false,
    "pycharm": {
     "name": "#%%\n"
    }
   }
  },
  {
   "cell_type": "code",
   "execution_count": 2,
   "outputs": [
    {
     "name": "stdout",
     "output_type": "stream",
     "text": [
      "Column(s) cleaned.\n"
     ]
    }
   ],
   "source": [
    "# Clean all textual columns\n",
    "clean_text_column(dirty_columns=[\"real_abstract\", 'generated_abstract', 'title'],\n",
    "                  cleaning_func=cleanup_whitespaces,\n",
    "                  source_csv_path=\"../../datasets/origins/research-abstracts/research_abstracts_reviewed.csv\",\n",
    "                  target_dir_path=\"../../datasets/origins/research-abstracts\",\n",
    "                  target_file_name=\"research_abstracts_cleaned\",\n",
    "                  delim=\";\")"
   ],
   "metadata": {
    "collapsed": false,
    "pycharm": {
     "name": "#%%\n"
    }
   }
  },
  {
   "cell_type": "code",
   "execution_count": 3,
   "outputs": [
    {
     "name": "stdout",
     "output_type": "stream",
     "text": [
      " Recounting rows: 99%\n",
      "Column(s) recounted.\n"
     ]
    }
   ],
   "source": [
    "# Recount all words in csv.\n",
    "recount_words_csv(column_pairs=[('real_abstract', 'real_word_count'), ('generated_abstract', 'generated_word_count')],\n",
    "                  source_csv_path='../../datasets/origins/research-abstracts/research_abstracts_cleaned.csv',\n",
    "                  target_dir_path=\"../../datasets/origins/research-abstracts\",\n",
    "                  target_file_name=\"research_abstracts-final\",\n",
    "                  delim=',')"
   ],
   "metadata": {
    "collapsed": false,
    "pycharm": {
     "name": "#%%\n"
    }
   }
  },
  {
   "cell_type": "code",
   "execution_count": 4,
   "outputs": [
    {
     "name": "stdout",
     "output_type": "stream",
     "text": [
      "Reformatting complete. Number of entries in reformatted dataset: 20000\n"
     ]
    }
   ],
   "source": [
    "# Split datapoints into real and generated, with labels 0 (human) and 1 (generated)\n",
    "reformat_supervised_learning(source_csv_path=\"../../datasets/origins/research-abstracts/research_abstracts-final.csv\",\n",
    "                             title='title',\n",
    "                             real_label=\"real_abstract\",\n",
    "                             real_word_count='real_word_count',\n",
    "                             generated_label=\"generated_abstract\",\n",
    "                             generated_word_count ='generated_word_count',\n",
    "                             target_dir_path=\"../../datasets/human-vs-machine\",\n",
    "                             target_file_name=\"research-abstracts-labeled\")"
   ],
   "metadata": {
    "collapsed": false,
    "pycharm": {
     "name": "#%%\n"
    }
   }
  },
  {
   "cell_type": "markdown",
   "source": [
    "### Wiki-intros"
   ],
   "metadata": {
    "collapsed": false,
    "pycharm": {
     "name": "#%% md\n"
    }
   }
  },
  {
   "cell_type": "code",
   "execution_count": 3,
   "outputs": [
    {
     "name": "stdout",
     "output_type": "stream",
     "text": [
      "Reformatting complete. Number of entries in reformatted dataset: 300000\n"
     ]
    }
   ],
   "source": [
    "# Split datapoints into real and generated, with labels 0 (human) and 1 (generated)\n",
    "reformat_supervised_learning(source_csv_path=\"../../datasets/origins/GPT-wiki-intro.csv\",\n",
    "                             title='title',\n",
    "                             real_label=\"wiki_intro\",\n",
    "                             real_word_count='wiki_intro_len',\n",
    "                             generated_label=\"generated_intro\",\n",
    "                             generated_word_count='generated_intro_len',\n",
    "                             target_dir_path=\"../../datasets/human-vs-machine\",\n",
    "                             target_file_name=\"wiki-labeled\")"
   ],
   "metadata": {
    "collapsed": false,
    "pycharm": {
     "name": "#%%\n"
    }
   }
  },
  {
   "cell_type": "code",
   "execution_count": null,
   "outputs": [],
   "source": [],
   "metadata": {
    "collapsed": false,
    "pycharm": {
     "name": "#%%\n"
    }
   }
  }
 ],
 "metadata": {
  "kernelspec": {
   "display_name": "Python 3",
   "language": "python",
   "name": "python3"
  },
  "language_info": {
   "codemirror_mode": {
    "name": "ipython",
    "version": 2
   },
   "file_extension": ".py",
   "mimetype": "text/x-python",
   "name": "python",
   "nbconvert_exporter": "python",
   "pygments_lexer": "ipython2",
   "version": "2.7.6"
  }
 },
 "nbformat": 4,
 "nbformat_minor": 0
}