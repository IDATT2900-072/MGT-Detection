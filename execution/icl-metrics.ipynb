{
 "cells": [
  {
   "cell_type": "markdown",
   "source": [
    "# In-context learning metric scores\n",
    "In this notebook, various metric scores are calculated from the in-context-learning approach."
   ],
   "metadata": {
    "collapsed": false,
    "pycharm": {
     "name": "#%% md\n"
    }
   }
  },
  {
   "cell_type": "code",
   "execution_count": 12,
   "metadata": {
    "collapsed": true,
    "pycharm": {
     "name": "#%%\n"
    }
   },
   "outputs": [
    {
     "name": "stderr",
     "output_type": "stream",
     "text": [
      "Found cached dataset csv (/Users/nicolaisivesind/.cache/huggingface/datasets/csv/default-9d2b72df7f5e5ead/0.0.0/6954658bab30a358235fa864b05cf819af0e179325c740e4bc853bcc7ec513e1)\n"
     ]
    },
    {
     "data": {
      "text/plain": "  0%|          | 0/1 [00:00<?, ?it/s]",
      "application/vnd.jupyter.widget-view+json": {
       "version_major": 2,
       "version_minor": 0,
       "model_id": "a30c722e716745d9ab09442c775016fb"
      }
     },
     "metadata": {},
     "output_type": "display_data"
    },
    {
     "name": "stderr",
     "output_type": "stream",
     "text": [
      "Found cached dataset csv (/Users/nicolaisivesind/.cache/huggingface/datasets/csv/default-b1e90685e2ae0d34/0.0.0/6954658bab30a358235fa864b05cf819af0e179325c740e4bc853bcc7ec513e1)\n"
     ]
    },
    {
     "data": {
      "text/plain": "  0%|          | 0/1 [00:00<?, ?it/s]",
      "application/vnd.jupyter.widget-view+json": {
       "version_major": 2,
       "version_minor": 0,
       "model_id": "0294fcd9772b4baaae829389fb377986"
      }
     },
     "metadata": {},
     "output_type": "display_data"
    },
    {
     "name": "stderr",
     "output_type": "stream",
     "text": [
      "Found cached dataset csv (/Users/nicolaisivesind/.cache/huggingface/datasets/csv/default-653b07a1df5e0e7d/0.0.0/6954658bab30a358235fa864b05cf819af0e179325c740e4bc853bcc7ec513e1)\n"
     ]
    },
    {
     "data": {
      "text/plain": "  0%|          | 0/1 [00:00<?, ?it/s]",
      "application/vnd.jupyter.widget-view+json": {
       "version_major": 2,
       "version_minor": 0,
       "model_id": "68ed9990075943cb853350f4534cde7e"
      }
     },
     "metadata": {},
     "output_type": "display_data"
    },
    {
     "name": "stderr",
     "output_type": "stream",
     "text": [
      "Found cached dataset csv (/Users/nicolaisivesind/.cache/huggingface/datasets/csv/default-e821fc1ced51601f/0.0.0/6954658bab30a358235fa864b05cf819af0e179325c740e4bc853bcc7ec513e1)\n"
     ]
    },
    {
     "data": {
      "text/plain": "  0%|          | 0/1 [00:00<?, ?it/s]",
      "application/vnd.jupyter.widget-view+json": {
       "version_major": 2,
       "version_minor": 0,
       "model_id": "2383c48d7cbe4c198010814c29c4eca2"
      }
     },
     "metadata": {},
     "output_type": "display_data"
    }
   ],
   "source": [
    "from data_manipulation.data_analysis import print_icl_accuracy\n",
    "from datasets import load_dataset\n",
    "\n",
    "icl_human_zero_shot = load_dataset(\"csv\", data_files=\"../results/in-context-learning/icl-human-zero-shot.csv\")['train']\n",
    "icl_human_few_shot = load_dataset(\"csv\", data_files=\"../results/in-context-learning/icl-human-few-shot.csv\")['train']\n",
    "icl_inductive_zero_shot = load_dataset(\"csv\", data_files=\"../results/in-context-learning/icl-inductive-zero-shot.csv\")['train']\n",
    "icl_inductive_few_shot = load_dataset(\"csv\", data_files=\"../results/in-context-learning/icl-inductive-few-shot.csv\")['train']"
   ]
  },
  {
   "cell_type": "code",
   "execution_count": 16,
   "outputs": [
    {
     "name": "stdout",
     "output_type": "stream",
     "text": [
      "Accuracy: 0.513\n",
      "Precision: 0.507\n",
      "Recall: 0.93\n",
      "F1 Score: 0.656\n",
      "Correct predicions: 513/1000\n"
     ]
    }
   ],
   "source": [
    "print_icl_accuracy(dataset=icl_human_zero_shot,\n",
    "                   actual_label_column='label',\n",
    "                   human_score_column='human_probability',\n",
    "                   human_label='Human',\n",
    "                   generated_score_column='generated_probability',\n",
    "                   generated_label='Machine',\n",
    "                   generated_threshold=0)"
   ],
   "metadata": {
    "collapsed": false,
    "pycharm": {
     "name": "#%%\n"
    }
   }
  },
  {
   "cell_type": "code",
   "execution_count": 25,
   "outputs": [
    {
     "name": "stdout",
     "output_type": "stream",
     "text": [
      "Accuracy: 0.526\n",
      "Precision: 0.518\n",
      "Recall: 0.756\n",
      "F1 Score: 0.615\n",
      "Correct predicions: 526/1000\n"
     ]
    }
   ],
   "source": [
    "print_icl_accuracy(dataset=icl_human_few_shot,\n",
    "                   actual_label_column='label',\n",
    "                   human_score_column='human_probability',\n",
    "                   human_label='Human',\n",
    "                   generated_score_column='generated_probability',\n",
    "                   generated_label='Machine',\n",
    "                   generated_threshold=0.002)"
   ],
   "metadata": {
    "collapsed": false,
    "pycharm": {
     "name": "#%%\n"
    }
   }
  },
  {
   "cell_type": "code",
   "execution_count": 26,
   "outputs": [
    {
     "name": "stdout",
     "output_type": "stream",
     "text": [
      "Accuracy: 0.5\n",
      "Precision: 0.0\n",
      "Recall: 0.0\n",
      "F1 Score: 0.0\n",
      "Correct predicions: 500/1000\n"
     ]
    },
    {
     "name": "stderr",
     "output_type": "stream",
     "text": [
      "/usr/local/lib/python3.10/site-packages/sklearn/metrics/_classification.py:1344: UndefinedMetricWarning: Precision is ill-defined and being set to 0.0 due to no predicted samples. Use `zero_division` parameter to control this behavior.\n",
      "  _warn_prf(average, modifier, msg_start, len(result))\n"
     ]
    }
   ],
   "source": [
    "print_icl_accuracy(dataset=icl_inductive_zero_shot,\n",
    "                   actual_label_column='label',\n",
    "                   human_score_column='human_probability',\n",
    "                   human_label='Human',\n",
    "                   generated_score_column='generated_probability',\n",
    "                   generated_label='AI',\n",
    "                   generated_threshold=0.078)"
   ],
   "metadata": {
    "collapsed": false,
    "pycharm": {
     "name": "#%%\n"
    }
   }
  },
  {
   "cell_type": "code",
   "execution_count": 15,
   "outputs": [
    {
     "name": "stdout",
     "output_type": "stream",
     "text": [
      "Accuracy: 0.521\n",
      "Precision: 0.514\n",
      "Recall: 0.774\n",
      "F1 Score: 0.618\n",
      "Correct predicions: 521/1000\n"
     ]
    }
   ],
   "source": [
    "print_icl_accuracy(dataset=icl_inductive_few_shot,\n",
    "                   actual_label_column='label',\n",
    "                   human_score_column='human_probability',\n",
    "                   human_label='Human',\n",
    "                   generated_score_column='generated_probability',\n",
    "                   generated_label='AI',\n",
    "                   generated_threshold=0.168)"
   ],
   "metadata": {
    "collapsed": false,
    "pycharm": {
     "name": "#%%\n"
    }
   }
  },
  {
   "cell_type": "code",
   "execution_count": null,
   "outputs": [],
   "source": [],
   "metadata": {
    "collapsed": false,
    "pycharm": {
     "name": "#%%\n"
    }
   }
  }
 ],
 "metadata": {
  "kernelspec": {
   "display_name": "Python 3",
   "language": "python",
   "name": "python3"
  },
  "language_info": {
   "codemirror_mode": {
    "name": "ipython",
    "version": 2
   },
   "file_extension": ".py",
   "mimetype": "text/x-python",
   "name": "python",
   "nbconvert_exporter": "python",
   "pygments_lexer": "ipython2",
   "version": "2.7.6"
  }
 },
 "nbformat": 4,
 "nbformat_minor": 0
}