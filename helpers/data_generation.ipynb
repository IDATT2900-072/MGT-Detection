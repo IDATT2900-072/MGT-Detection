{
 "cells": [
  {
   "cell_type": "markdown",
   "source": [
    "# Execution file for generating Research Abstract Dataset\n",
    "See 'dataset_generator.py' for implementation."
   ],
   "metadata": {
    "collapsed": false,
    "pycharm": {
     "name": "#%% md\n"
    }
   }
  },
  {
   "cell_type": "code",
   "execution_count": 1,
   "outputs": [],
   "source": [
    "import datasets as ds\n",
    "from dataset_generator import count_and_reformat, filter_list, generate_abstracts, generate_GPT_abstract, get_models"
   ],
   "metadata": {
    "collapsed": false,
    "pycharm": {
     "name": "#%%\n"
    }
   }
  },
  {
   "cell_type": "markdown",
   "source": [
    "#### Load and preprocess dataset\n",
    "This will take some time if dataset is large. This is only necessary to do once each jupyter-session as local variables are stored until session/kernel shut down."
   ],
   "metadata": {
    "collapsed": false,
    "pycharm": {
     "name": "#%% md\n"
    }
   }
  },
  {
   "cell_type": "code",
   "execution_count": null,
   "metadata": {
    "collapsed": true,
    "pycharm": {
     "name": "#%%\n",
     "is_executing": true
    }
   },
   "outputs": [
    {
     "name": "stderr",
     "output_type": "stream",
     "text": [
      "Found cached dataset json (/Users/nicolaisivesind/.cache/huggingface/datasets/gfissore___json/gfissore--arxiv-abstracts-2021-23556c248bdbe0fc/0.0.0/fe5dd6ea2639a6df622901539cb550cf8797e5a6b2dd7af1cf934bed8e233e6e)\n"
     ]
    },
    {
     "data": {
      "text/plain": "  0%|          | 0/1 [00:00<?, ?it/s]",
      "application/vnd.jupyter.widget-view+json": {
       "version_major": 2,
       "version_minor": 0,
       "model_id": "a137a755c08e48b29d0bb5d0c6f9177f"
      }
     },
     "metadata": {},
     "output_type": "display_data"
    },
    {
     "name": "stdout",
     "output_type": "stream",
     "text": [
      " Counting words: 95%"
     ]
    }
   ],
   "source": [
    "# Code execution\n",
    "dataset = ds.load_dataset(\"gfissore/arxiv-abstracts-2021\")['train']\n",
    "reformatted_dataset = count_and_reformat(dataset, 'abstract')"
   ]
  },
  {
   "cell_type": "markdown",
   "source": [
    "#### Run code segments"
   ],
   "metadata": {
    "collapsed": false,
    "pycharm": {
     "name": "#%% md\n"
    }
   }
  },
  {
   "cell_type": "code",
   "execution_count": 26,
   "outputs": [
    {
     "name": "stdout",
     "output_type": "stream",
     "text": [
      "Found 143 elements matching the filter.\n",
      "594\n",
      "593\n",
      "593\n",
      "585\n",
      "570\n",
      "569\n",
      "567\n",
      "567\n",
      "567\n",
      "565\n",
      "563\n",
      "555\n",
      "555\n",
      "543\n",
      "530\n",
      "530\n",
      "523\n",
      "514\n",
      "512\n",
      "511\n",
      "508\n",
      "507\n",
      "505\n",
      "496\n",
      "490\n",
      "488\n",
      "488\n",
      "482\n",
      "477\n",
      "475\n",
      "475\n",
      "472\n",
      "472\n",
      "472\n",
      "472\n",
      "466\n",
      "459\n",
      "457\n",
      "456\n",
      "452\n",
      "452\n",
      "452\n",
      "448\n",
      "446\n",
      "443\n",
      "443\n",
      "443\n",
      "443\n",
      "441\n",
      "441\n",
      "440\n",
      "440\n",
      "438\n",
      "436\n",
      "436\n",
      "434\n",
      "434\n",
      "433\n",
      "433\n",
      "431\n",
      "430\n",
      "430\n",
      "429\n",
      "429\n",
      "428\n",
      "427\n",
      "427\n",
      "427\n",
      "427\n",
      "425\n",
      "425\n",
      "422\n",
      "421\n",
      "421\n",
      "420\n",
      "419\n",
      "417\n",
      "417\n",
      "417\n",
      "413\n",
      "412\n",
      "409\n",
      "409\n",
      "409\n",
      "409\n",
      "406\n",
      "405\n",
      "405\n",
      "405\n",
      "404\n",
      "404\n",
      "403\n",
      "403\n",
      "402\n",
      "402\n",
      "402\n",
      "401\n",
      "401\n",
      "401\n",
      "401\n"
     ]
    }
   ],
   "source": [
    "dataset_400_600 = filter_list(data=reformatted_dataset,\n",
    "                              word_count_min=400,\n",
    "                              word_count_max=600,\n",
    "                              quantity=100)\n",
    "\n",
    "for data_point in dataset_400_600:\n",
    "    print(data_point['word_count'])"
   ],
   "metadata": {
    "collapsed": false,
    "pycharm": {
     "name": "#%%\n"
    }
   }
  },
  {
   "cell_type": "code",
   "execution_count": null,
   "outputs": [],
   "source": [
    "generate_abstracts(data=dataset_400_600,\n",
    "                   target_file_name='research_abstracts',\n",
    "                   target_dir_path='./../../datasets/origins/research-abstracts')"
   ],
   "metadata": {
    "collapsed": false,
    "pycharm": {
     "name": "#%%\n"
    }
   }
  }
 ],
 "metadata": {
  "kernelspec": {
   "display_name": "Python 3",
   "language": "python",
   "name": "python3"
  },
  "language_info": {
   "codemirror_mode": {
    "name": "ipython",
    "version": 2
   },
   "file_extension": ".py",
   "mimetype": "text/x-python",
   "name": "python",
   "nbconvert_exporter": "python",
   "pygments_lexer": "ipython2",
   "version": "2.7.6"
  }
 },
 "nbformat": 4,
 "nbformat_minor": 0
}