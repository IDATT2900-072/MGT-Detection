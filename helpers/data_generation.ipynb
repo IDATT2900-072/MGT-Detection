{
 "cells": [
  {
   "cell_type": "markdown",
   "source": [
    "# Execution file for generating Research Abstract Dataset\n",
    "See 'dataset_generator.py' for implementation."
   ],
   "metadata": {
    "collapsed": false,
    "pycharm": {
     "name": "#%% md\n"
    }
   }
  },
  {
   "cell_type": "code",
   "execution_count": 1,
   "outputs": [],
   "source": [
    "import datasets as ds\n",
    "from dataset_generator import count_and_reformat, filter_list, generate_abstracts, generate_GPT_abstract, get_models"
   ],
   "metadata": {
    "collapsed": false,
    "pycharm": {
     "name": "#%%\n"
    }
   }
  },
  {
   "cell_type": "markdown",
   "source": [
    "#### Load and preprocess dataset\n",
    "This will take some time if dataset is large. This is only necessary to do once each jupyter-session as local variables are stored until session/kernel shut down."
   ],
   "metadata": {
    "collapsed": false,
    "pycharm": {
     "name": "#%% md\n"
    }
   }
  },
  {
   "cell_type": "code",
   "execution_count": 2,
   "metadata": {
    "collapsed": true,
    "pycharm": {
     "name": "#%%\n"
    }
   },
   "outputs": [
    {
     "name": "stderr",
     "output_type": "stream",
     "text": [
      "Found cached dataset json (/Users/nicolaisivesind/.cache/huggingface/datasets/gfissore___json/gfissore--arxiv-abstracts-2021-23556c248bdbe0fc/0.0.0/fe5dd6ea2639a6df622901539cb550cf8797e5a6b2dd7af1cf934bed8e233e6e)\n"
     ]
    },
    {
     "data": {
      "text/plain": "  0%|          | 0/1 [00:00<?, ?it/s]",
      "application/vnd.jupyter.widget-view+json": {
       "version_major": 2,
       "version_minor": 0,
       "model_id": "b92e4591b2364dc2bb269aba9d8148bc"
      }
     },
     "metadata": {},
     "output_type": "display_data"
    },
    {
     "name": "stdout",
     "output_type": "stream",
     "text": [
      " Counting words: 100%"
     ]
    }
   ],
   "source": [
    "# Code execution\n",
    "dataset = ds.load_dataset(\"gfissore/arxiv-abstracts-2021\")['train']\n",
    "reformatted_dataset = count_and_reformat(dataset=dataset,\n",
    "                                  count_column='abstract',\n",
    "                                  retain_columns=['title', 'abstract'])"
   ]
  },
  {
   "cell_type": "markdown",
   "source": [
    "#### Run code segments"
   ],
   "metadata": {
    "collapsed": false,
    "pycharm": {
     "name": "#%% md\n"
    }
   }
  },
  {
   "cell_type": "code",
   "execution_count": 3,
   "outputs": [
    {
     "name": "stdout",
     "output_type": "stream",
     "text": [
      "\n",
      "Found 143 elements matching the filter.\n",
      "Returned list is of length 100.\n",
      "\n",
      "Found 30589 elements matching the filter.\n",
      "Returned list is of length 200.\n",
      "\n",
      "Found 139106 elements matching the filter.\n",
      "Returned list is of length 200.\n",
      "\n",
      "Found 245943 elements matching the filter.\n",
      "Returned list is of length 200.\n",
      "\n",
      "Found 428437 elements matching the filter.\n",
      "Returned list is of length 200.\n",
      "\n",
      "Found 569658 elements matching the filter.\n",
      "Returned list is of length 200.\n",
      "\n",
      "Found 463666 elements matching the filter.\n",
      "Returned list is of length 200.\n",
      "Boxicity and Poset Dimension\n",
      "Formation {\\`a} distance et outils num{\\'e}riques pour l'enseignement\n",
      "  sup{\\'e}rieur et la recherche en Asie-Pacifique (Cambodge, Laos, Vietnam).\n",
      "  Partie 02 : recommandations et feuille de route\n",
      "Design and RF measurements of a 5 GHz 500 kW window for the ITER LHCD\n",
      "  system\n",
      "On the filtering and processing of dust by planetesimals 1. Derivation\n",
      "  of collision probabilities for non-drifting planetesimals\n",
      "Stylolites: A review\n",
      "Formal Model of Uncertainty for Possibilistic Rules\n",
      "Phase transitions for the long-time behavior of interacting diffusions\n",
      "Application of Effective Field Theory in Nuclear Physics\n",
      "Far-infrared study of tracers of oxygen chemistry in diffuse clouds\n",
      "Some Extensions of Probabilistic Logic\n",
      "Full Virtualization of Renault's Engine Management Software and\n",
      "  Application to System Development\n",
      "One Monad to Prove Them All\n",
      "User-Defined Operators Including Name Binding for New Language\n",
      "  Constructs\n",
      "Commutative rings whose finitely generated ideals are quasi-flat\n",
      "Lisp, Jazz, Aikido -- Three Expressions of a Single Essence\n",
      "Powers and division in the 'mathematical part' of Plato's Theaetetus\n",
      "Rolling Manifolds: Intrinsic Formulation and Controllability\n",
      "Sub-method, partial behavioral reflection with Reflectivity: Looking\n",
      "  back on 10 years of use\n",
      "The Evidence of Cathodic Micro-discharges during Plasma Electrolytic\n",
      "  Oxidation Process\n",
      "An Anytime Algorithm for Optimal Coalition Structure Generation\n",
      "Collective excitation branch in the continuum of pair-condensed Fermi\n",
      "  gases : analytical study and scaling laws\n",
      "Transforming Prioritized Defaults and Specificity into Parallel Defaults\n",
      "A holomorphic functional calculus for finite families of commuting\n",
      "  semigroups\n",
      "Global stabilization of a Korteweg-de Vries equation with saturating\n",
      "  distributed control\n",
      "Comprehensive Multiparty Session Types\n",
      "On the (non) existence of superregular boson clouds around extremal Kerr\n",
      "  black holes and its connection with number theory\n",
      "Boiling crisis and non-equilibrium drying transition\n",
      "Dust properties inside molecular clouds from coreshine modeling and\n",
      "  observations\n",
      "Concrete Syntax with Black Box Parsers\n",
      "A Conversation with Ingram Olkin\n",
      "Bilinear decompositions and commutators of singular integral operators\n",
      "A 4D synchrotron X-ray tomography study of the formation of hydrocarbon\n",
      "  migration pathways in heated organic-rich shale\n",
      "Molecular absorption lines toward star-forming regions : a comparative\n",
      "  study of HCO+, HNC, HCN, and CN\n",
      "MOSARIX: Progress Report\n",
      "Metallicity at the explosion sites of interacting transients\n",
      "Towards energy efficient buildings: how ICTs can convert advances?\n",
      "Predicting the steady state thickness of passive films with the Point\n",
      "  Defect Model in fretting corrosion experiments\n",
      "Clumpy galaxies at z~0.6: kinematics, stability, and comparison with\n",
      "  analogs at other redshifts\n",
      "Coalescence of sessile drops\n",
      "Chemical probes of turbulence in the diffuse medium: the TDR model\n",
      "Mathematical study of degenerate boundary layers: A Large Scale Ocean\n",
      "  Circulation Problem\n",
      "The first spectral line surveys searching for signals from the Dark Ages\n",
      "Gaussian process emulators for computer experiments with inequality\n",
      "  constraints\n",
      "Some stochastic models for structured populations : scaling limits and\n",
      "  long time behavior\n",
      "Deformation cohomology of algebraic and geometric structures\n",
      "Gas and dark matter in the Sculptor group: NGC 300\n",
      "Bacat\\'a: Notebooks for DSLs, Almost for Free\n",
      "A snapshot on galaxy evolution occurring in the Great Wall: the role of\n",
      "  Nurture at z=0\n",
      "Near optimal neural network estimator for spectral x-ray photon counting\n",
      "  data with pileup\n",
      "Weak Well-Posedness of Multidimensional Stable Driven SDEs in the\n",
      "  Critical Case\n",
      "Enlarged symmetry algebras of spin chains, loop models, and S-matrices\n",
      "Where Are We With Light Sterile Neutrinos?\n",
      "Pioneers of Influence Propagation in Social Networks\n",
      "Protection de la vie priv\\'ee \\`a base d'agents dans un syst\\`eme\n",
      "  d'e-learning\n",
      "Linear Convergence on Positively Homogeneous Functions of a Comparison\n",
      "  Based Step-Size Adaptive Randomized Search: the (1+1) ES with Generalized\n",
      "  One-fifth Success Rule\n",
      "Some open questions on morphological operators and representations in\n",
      "  the deep learning era\n",
      "Effective proton-neutron interaction near the drip line from unbound\n",
      "  states in $^{25,26}$F\n",
      "The paradox of Vito Volterra's predator-prey model\n",
      "Structures in the fundamental plane of early-type galaxies\n",
      "Biased random-to-top shuffling\n",
      "Scale-Free and Multifractal Time Dynamics of fMRI Signals during Rest\n",
      "  and Task\n",
      "Centaurus A: morphology and kinematics of the atomic hydrogen\n",
      "Optical and near-infrared follow-up observations of four Fermi/LAT GRBs\n",
      "  : Redshifts, afterglows, energetics and host galaxies\n",
      "Quantum theory of unambiguous measurements\n",
      "The magnetic precursor of L1448-mm: Excitation differences between ion\n",
      "  and neutral fluids\n",
      "Integrity bases for cubic nonlinear magnetostriction\n",
      "An Improved Search Algorithm for Optimal Multiple-Sequence Alignment\n",
      "Actinide collisions for QED and superheavy elements with the\n",
      "  time-dependent Hartree-Fock theory and the Balian-V\\'en\\'eroni variational\n",
      "  principle\n",
      "An efficient method to estimate sorption isotherm curve coefficients\n",
      "Comparative study of CH+ and SH+ absorption lines observed towards\n",
      "  distant star-forming regions\n",
      "The Disk Population of the Taurus Star-Forming Region\n",
      "A large deviations approach to limit theory for heavy-tailed time series\n",
      "Topological Data Analysis Made Easy with the Topology ToolKit\n",
      "Probabilistic classification of X-ray sources applied to Swift-XRT and\n",
      "  XMM-Newton catalogs\n",
      "Language-integrated provenance in Haskell\n",
      "Mean Field Games of Controls: Finite Difference Approximations\n",
      "Tridiagonal pairs of $q$-Racah type, the double lowering operator\n",
      "  $\\psi$, and the quantum algebra $U_q(\\mathfrak{sl}_2)$\n",
      "Searching for Galactic hidden gas through interstellar scintillation:\n",
      "  Results from a test with the NTT-SOFI detector\n",
      "Intense Competition can Drive Selfish Explorers to Optimize Coverage\n",
      "The core helium flash revisited III. From Pop I to Pop III stars\n",
      "A Maximum Parsimony analysis of the effect of the environment on the\n",
      "  evolution of galaxies\n",
      "3D metrology with a laser tracker inside a vacuum chamber for NISP test\n",
      "  campaign\n",
      "Interpretation of the emission line spectra of Seyfert 2 galaxies by\n",
      "  multi-component photoionization models\n",
      "Deriving ice thickness, glacier volume and bedrock morphology of the\n",
      "  Austre Lov\\'enbreen (Svalbard) using Ground-penetrating Radar\n",
      "Contruction of holomorphic parameters invariant by change of variable in\n",
      "  the Gauss-Manin connection of an holomorphic map to a disc\n",
      "A Primer on Computational Simulation in Congenital Heart Disease for the\n",
      "  Clinician\n",
      "Degree three unramified cohomology groups and Noether's problem for\n",
      "  groups of order $243$\n",
      "Aboveground biomass mapping in French Guiana by combining remote\n",
      "  sensing, forest inventories and environmental data\n",
      "Nurse Rostering with Genetic Algorithms\n",
      "Reply to \"The equivalence of the Power-Zineau-Woolley picture and the\n",
      "  Poincar{\\'e} gauge from the very first principles\" by G. K{\\'o}nya, et al\n",
      "An index formula for simple graphs\n",
      "Proposed Design for Simultaneous Measurement of Wall and Near-wall\n",
      "  Temperatures in Gas Microflows\n",
      "Probabilistic and Non-Monotonic Inference\n",
      "Energized simplicial complexes\n",
      "A Measurement of the Rate of Type Ia Supernovae in Galaxy Clusters from\n",
      "  the SDSS-II Supernova Survey\n",
      "New first trimester crown-rump length's equations optimized by\n",
      "  structured data collection from a French general population\n",
      "Deadlock-Free Typestate-Oriented Programming\n",
      "Time-dependent CP violation in $B$ decays at Belle\n",
      "The Spinor Representation of Surfaces in Space\n",
      "Fast Diameter Computation within Split Graphs\n",
      "1877550\n"
     ]
    }
   ],
   "source": [
    "dataset_400_600 = filter_list(data=reformatted_dataset,\n",
    "                              word_count_min=400,\n",
    "                              word_count_max=600,\n",
    "                              quantity=100)\n",
    "dataset_300_399 = filter_list(data=reformatted_dataset,\n",
    "                              word_count_min=300,\n",
    "                              word_count_max=399,\n",
    "                              quantity=1400)\n",
    "dataset_250_299 = filter_list(data=reformatted_dataset,\n",
    "                              word_count_min=250,\n",
    "                              word_count_max=299,\n",
    "                              quantity=1500)\n",
    "dataset_200_249 = filter_list(data=reformatted_dataset,\n",
    "                              word_count_min=200,\n",
    "                              word_count_max=249,\n",
    "                              quantity=2000)\n",
    "dataset_150_199 = filter_list(data=reformatted_dataset,\n",
    "                              word_count_min=150,\n",
    "                              word_count_max=199,\n",
    "                              quantity=2000)\n",
    "dataset_100_149 = filter_list(data=reformatted_dataset,\n",
    "                              word_count_min=100,\n",
    "                              word_count_max=149,\n",
    "                              quantity=1500)\n",
    "dataset_50_99 = filter_list(data=reformatted_dataset,\n",
    "                              word_count_min=50,\n",
    "                              word_count_max=99,\n",
    "                              quantity=1500)\n",
    "for data_point in dataset_400_600:\n",
    "    print(data_point['title'])\n",
    "\n",
    "print(len(reformatted_dataset))"
   ],
   "metadata": {
    "collapsed": false,
    "pycharm": {
     "name": "#%%\n"
    }
   }
  },
  {
   "cell_type": "markdown",
   "source": [],
   "metadata": {
    "collapsed": false,
    "pycharm": {
     "name": "#%% md\n"
    }
   }
  },
  {
   "cell_type": "code",
   "execution_count": 4,
   "outputs": [
    {
     "name": "stdout",
     "output_type": "stream",
     "text": [
      "CSV-file already exists. Will append new rows to existing document. Cancel execution if this is not intended.\n",
      "\n",
      " Generating: 200/200Abstract generation complete.\n",
      "CSV-file already exists. Will append new rows to existing document. Cancel execution if this is not intended.\n",
      "\n",
      " Generating: 200/200Abstract generation complete.\n",
      "CSV-file already exists. Will append new rows to existing document. Cancel execution if this is not intended.\n",
      "\n",
      " Generating: 200/200Abstract generation complete.\n",
      "CSV-file already exists. Will append new rows to existing document. Cancel execution if this is not intended.\n",
      "\n",
      " Generating: 200/200Abstract generation complete.\n",
      "CSV-file already exists. Will append new rows to existing document. Cancel execution if this is not intended.\n",
      "\n",
      " Generating: 200/200Abstract generation complete.\n",
      "CSV-file already exists. Will append new rows to existing document. Cancel execution if this is not intended.\n",
      "\n",
      " Generating: 200/200Abstract generation complete.\n"
     ]
    }
   ],
   "source": [
    "generate_abstracts(data=dataset_300_399,\n",
    "                   target_file_name='research_abstracts',\n",
    "                   target_dir_path='./../../datasets/origins/research-abstracts')\n",
    "generate_abstracts(data=dataset_250_299,\n",
    "                   target_file_name='research_abstracts',\n",
    "                   target_dir_path='./../../datasets/origins/research-abstracts')\n",
    "generate_abstracts(data=dataset_200_249,\n",
    "                   target_file_name='research_abstracts',\n",
    "                   target_dir_path='./../../datasets/origins/research-abstracts')\n",
    "generate_abstracts(data=dataset_150_199,\n",
    "                   target_file_name='research_abstracts',\n",
    "                   target_dir_path='./../../datasets/origins/research-abstracts')\n",
    "generate_abstracts(data=dataset_100_149,\n",
    "                   target_file_name='research_abstracts',\n",
    "                   target_dir_path='./../../datasets/origins/research-abstracts')\n",
    "generate_abstracts(data=dataset_50_99,\n",
    "                   target_file_name='research_abstracts',\n",
    "                   target_dir_path='./../../datasets/origins/research-abstracts')"
   ],
   "metadata": {
    "collapsed": false,
    "pycharm": {
     "name": "#%%\n"
    }
   }
  },
  {
   "cell_type": "code",
   "execution_count": 4,
   "outputs": [],
   "source": [],
   "metadata": {
    "collapsed": false,
    "pycharm": {
     "name": "#%%\n"
    }
   }
  }
 ],
 "metadata": {
  "kernelspec": {
   "display_name": "Python 3",
   "language": "python",
   "name": "python3"
  },
  "language_info": {
   "codemirror_mode": {
    "name": "ipython",
    "version": 2
   },
   "file_extension": ".py",
   "mimetype": "text/x-python",
   "name": "python",
   "nbconvert_exporter": "python",
   "pygments_lexer": "ipython2",
   "version": "2.7.6"
  }
 },
 "nbformat": 4,
 "nbformat_minor": 0
}