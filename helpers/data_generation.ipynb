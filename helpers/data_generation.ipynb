{
 "cells": [
  {
   "cell_type": "markdown",
   "source": [
    "# Execution file for generating Research Abstract Dataset\n",
    "See 'dataset_generator.py' for implementation."
   ],
   "metadata": {
    "collapsed": false,
    "pycharm": {
     "name": "#%% md\n"
    }
   }
  },
  {
   "cell_type": "code",
   "execution_count": 1,
   "outputs": [],
   "source": [
    "import datasets as ds\n",
    "from dataset_generator import count_and_reformat, filter_list, generate_abstracts, generate_GPT_abstract, get_models"
   ],
   "metadata": {
    "collapsed": false,
    "pycharm": {
     "name": "#%%\n"
    }
   }
  },
  {
   "cell_type": "markdown",
   "source": [
    "#### Load and preprocess dataset\n",
    "This will take some time if dataset is large. This is only necessary to do once each jupyter-session as local variables are stored until session/kernel shut down."
   ],
   "metadata": {
    "collapsed": false,
    "pycharm": {
     "name": "#%% md\n"
    }
   }
  },
  {
   "cell_type": "code",
   "execution_count": 2,
   "metadata": {
    "collapsed": true,
    "pycharm": {
     "name": "#%%\n"
    }
   },
   "outputs": [
    {
     "name": "stderr",
     "output_type": "stream",
     "text": [
      "Found cached dataset json (/Users/nicolaisivesind/.cache/huggingface/datasets/gfissore___json/gfissore--arxiv-abstracts-2021-23556c248bdbe0fc/0.0.0/fe5dd6ea2639a6df622901539cb550cf8797e5a6b2dd7af1cf934bed8e233e6e)\n"
     ]
    },
    {
     "data": {
      "text/plain": "  0%|          | 0/1 [00:00<?, ?it/s]",
      "application/vnd.jupyter.widget-view+json": {
       "version_major": 2,
       "version_minor": 0,
       "model_id": "660a139ac30c439593cf2d455c8f2bc3"
      }
     },
     "metadata": {},
     "output_type": "display_data"
    },
    {
     "name": "stdout",
     "output_type": "stream",
     "text": [
      " Counting words: 100%"
     ]
    }
   ],
   "source": [
    "# Code execution\n",
    "dataset = ds.load_dataset(\"gfissore/arxiv-abstracts-2021\")['train']\n",
    "reformatted_dataset = count_and_reformat(dataset, 'abstract')"
   ]
  },
  {
   "cell_type": "markdown",
   "source": [
    "#### Run code segments"
   ],
   "metadata": {
    "collapsed": false,
    "pycharm": {
     "name": "#%% md\n"
    }
   }
  },
  {
   "cell_type": "code",
   "execution_count": 5,
   "outputs": [
    {
     "name": "stdout",
     "output_type": "stream",
     "text": [
      "\n",
      "Found 143 elements matching the filter.\n",
      "Returned list is of length 100.\n",
      "\n",
      "Found 30589 elements matching the filter.\n",
      "Returned list is of length 200.\n",
      "\n",
      "Found 139106 elements matching the filter.\n",
      "Returned list is of length 200.\n",
      "\n",
      "Found 245943 elements matching the filter.\n",
      "Returned list is of length 200.\n",
      "\n",
      "Found 428437 elements matching the filter.\n",
      "Returned list is of length 200.\n",
      "\n",
      "Found 569658 elements matching the filter.\n",
      "Returned list is of length 200.\n",
      "\n",
      "Found 463666 elements matching the filter.\n",
      "Returned list is of length 200.\n",
      "Deterministics descriptions of the turbulence in the Navier-Stokes\n",
      "  equations\n",
      "Clustering with phylogenetic tools in astrophysics\n",
      "Clustering with phylogenetic tools in astrophysics\n",
      "Infer\\^encia Baseada em Magnitudes na investiga\\c{c}\\~ao em Ci\\^encias\n",
      "  do Esporte. A necessidade de romper com os testes de hip\\'otese nula e os\n",
      "  valores de p\n",
      "Formation {\\`a} distance et outils num{\\'e}riques pour l'enseignement\n",
      "  sup{\\'e}rieur et la recherche en Asie-Pacifique (Cambodge, Laos, Vietnam).\n",
      "  Partie 02 : recommandations et feuille de route\n",
      "Design and RF measurements of a 5 GHz 500 kW window for the ITER LHCD\n",
      "  system\n",
      "On the filtering and processing of dust by planetesimals 1. Derivation\n",
      "  of collision probabilities for non-drifting planetesimals\n",
      "On the filtering and processing of dust by planetesimals 1. Derivation\n",
      "  of collision probabilities for non-drifting planetesimals\n",
      "On the filtering and processing of dust by planetesimals 1. Derivation\n",
      "  of collision probabilities for non-drifting planetesimals\n",
      "Stylolites: A review\n",
      "M{\\\"o}ssbauer characterization of an unusual high-spin side-on\n",
      "  peroxo-Fe3+ species in the active site of superoxide reductase from\n",
      "  Desulfoarculus Baarsii. Density functional calculations on related models\n",
      "Phase transitions for the long-time behavior of interacting diffusions\n",
      "Phase transitions for the long-time behavior of interacting diffusions\n",
      "Application of Effective Field Theory in Nuclear Physics\n",
      "Some Extensions of Probabilistic Logic\n",
      "Some Extensions of Probabilistic Logic\n",
      "Ordered interfaces for dual easy axes in liquid crystals\n",
      "Full Virtualization of Renault's Engine Management Software and\n",
      "  Application to System Development\n",
      "User-Defined Operators Including Name Binding for New Language\n",
      "  Constructs\n",
      "Commutative rings whose finitely generated ideals are quasi-flat\n",
      "Lisp, Jazz, Aikido -- Three Expressions of a Single Essence\n",
      "Powers and division in the 'mathematical part' of Plato's Theaetetus\n",
      "Sub-method, partial behavioral reflection with Reflectivity: Looking\n",
      "  back on 10 years of use\n",
      "Did JHotDraw Respect the Law of Good Style?: A deep dive into the nature\n",
      "  of false positives of bad code smells\n",
      "Transforming Prioritized Defaults and Specificity into Parallel Defaults\n",
      "Generating a Generic Fluent API in Java\n",
      "Generating a Generic Fluent API in Java\n",
      "Global stabilization of a Korteweg-de Vries equation with saturating\n",
      "  distributed control\n",
      "Comprehensive Multiparty Session Types\n",
      "Dust properties inside molecular clouds from coreshine modeling and\n",
      "  observations\n",
      "Dust properties inside molecular clouds from coreshine modeling and\n",
      "  observations\n",
      "Intelligent Probabilistic Inference\n",
      "Concrete Syntax with Black Box Parsers\n",
      "Intelligent Probabilistic Inference\n",
      "Concrete Syntax with Black Box Parsers\n",
      "A Conversation with Ingram Olkin\n",
      "Bilinear decompositions and commutators of singular integral operators\n",
      "Molecular absorption lines toward star-forming regions : a comparative\n",
      "  study of HCO+, HNC, HCN, and CN\n",
      "MOSARIX: Progress Report\n",
      "Reusing Static Analysis across Different Domain-Specific Languages using\n",
      "  Reference Attribute Grammars\n",
      "A complete model of CH+ rotational excitation including radiative and\n",
      "  chemical pumping processes\n",
      "A complete model of CH+ rotational excitation including radiative and\n",
      "  chemical pumping processes\n",
      "Mathematical study of degenerate boundary layers: A Large Scale Ocean\n",
      "  Circulation Problem\n",
      "Curvature effects on the empirical mean in Riemannian and affine\n",
      "  Manifolds: a non-asymptotic high concentration expansion in the small-sample\n",
      "  regime\n",
      "Deformation cohomology of algebraic and geometric structures\n",
      "Deformation cohomology of algebraic and geometric structures\n",
      "Deformation cohomology of algebraic and geometric structures\n",
      "Deformation cohomology of algebraic and geometric structures\n",
      "Graphs in machine learning: an introduction\n",
      "Graphs in machine learning: an introduction\n",
      "A snapshot on galaxy evolution occurring in the Great Wall: the role of\n",
      "  Nurture at z=0\n",
      "Collaborative search on the plane without communication\n",
      "Near optimal neural network estimator for spectral x-ray photon counting\n",
      "  data with pileup\n",
      "Towards a General-Purpose Belief Maintenance System\n",
      "Towards a General-Purpose Belief Maintenance System\n",
      "Pioneers of Influence Propagation in Social Networks\n",
      "Enlarged symmetry algebras of spin chains, loop models, and S-matrices\n",
      "Effective proton-neutron interaction near the drip line from unbound\n",
      "  states in $^{25,26}$F\n",
      "Some open questions on morphological operators and representations in\n",
      "  the deep learning era\n",
      "Structures in the fundamental plane of early-type galaxies\n",
      "The mathematical foundations of general relativity revisited\n",
      "Biased random-to-top shuffling\n",
      "Scale-Free and Multifractal Time Dynamics of fMRI Signals during Rest\n",
      "  and Task\n",
      "Centaurus A: morphology and kinematics of the atomic hydrogen\n",
      "Optical and near-infrared follow-up observations of four Fermi/LAT GRBs\n",
      "  : Redshifts, afterglows, energetics and host galaxies\n",
      "The magnetic precursor of L1448-mm: Excitation differences between ion\n",
      "  and neutral fluids\n",
      "Quantum theory of unambiguous measurements\n",
      "The magnetic precursor of L1448-mm: Excitation differences between ion\n",
      "  and neutral fluids\n",
      "Quantum theory of unambiguous measurements\n",
      "Treillis de concepts et ontologies pour l'interrogation d'un annuaire de\n",
      "  sources de donn\\'{e}es biologiques (BioRegistry)\n",
      "Integrity bases for cubic nonlinear magnetostriction\n",
      "Actinide collisions for QED and superheavy elements with the\n",
      "  time-dependent Hartree-Fock theory and the Balian-V\\'en\\'eroni variational\n",
      "  principle\n",
      "Ruelle-Pollicott Resonances of Stochastic Systems in Reduced State\n",
      "  Space. Part I: Theory\n",
      "An efficient method to estimate sorption isotherm curve coefficients\n",
      "On the kernel of the projection map $T(V)\\to S(V)$\n",
      "Probabilistic classification of X-ray sources applied to Swift-XRT and\n",
      "  XMM-Newton catalogs\n",
      "A quasi linear-time b-Matching algorithm on distance-hereditary graphs\n",
      "  and bounded split-width graphs\n",
      "Language-integrated provenance in Haskell\n",
      "A quasi linear-time b-Matching algorithm on distance-hereditary graphs\n",
      "  and bounded split-width graphs\n",
      "Intense Competition can Drive Selfish Explorers to Optimize Coverage\n",
      "3D metrology with a laser tracker inside a vacuum chamber for NISP test\n",
      "  campaign\n",
      "Fine-Grained, Language-Based Access Control for Database-Backed\n",
      "  Applications\n",
      "Fine-Grained, Language-Based Access Control for Database-Backed\n",
      "  Applications\n",
      "Contruction of holomorphic parameters invariant by change of variable in\n",
      "  the Gauss-Manin connection of an holomorphic map to a disc\n",
      "Fine-Grained, Language-Based Access Control for Database-Backed\n",
      "  Applications\n",
      "Aboveground biomass mapping in French Guiana by combining remote\n",
      "  sensing, forest inventories and environmental data\n",
      "Nurse Rostering with Genetic Algorithms\n",
      "Nurse Rostering with Genetic Algorithms\n",
      "Nurse Rostering with Genetic Algorithms\n",
      "Reply to \"The equivalence of the Power-Zineau-Woolley picture and the\n",
      "  Poincar{\\'e} gauge from the very first principles\" by G. K{\\'o}nya, et al\n",
      "Reply to \"The equivalence of the Power-Zineau-Woolley picture and the\n",
      "  Poincar{\\'e} gauge from the very first principles\" by G. K{\\'o}nya, et al\n",
      "An index formula for simple graphs\n",
      "Proposed Design for Simultaneous Measurement of Wall and Near-wall\n",
      "  Temperatures in Gas Microflows\n",
      "A Measurement of the Rate of Type Ia Supernovae in Galaxy Clusters from\n",
      "  the SDSS-II Supernova Survey\n",
      "A Measurement of the Rate of Type Ia Supernovae in Galaxy Clusters from\n",
      "  the SDSS-II Supernova Survey\n",
      "Probabilistic and Non-Monotonic Inference\n",
      "Time-dependent CP violation in $B$ decays at Belle\n",
      "Time-dependent CP violation in $B$ decays at Belle\n",
      "Turbulent geodynamo simulations: a leap towards Earth's core\n",
      "Deadlock-Free Typestate-Oriented Programming\n"
     ]
    }
   ],
   "source": [
    "dataset_400_600 = filter_list(data=reformatted_dataset,\n",
    "                              word_count_min=400,\n",
    "                              word_count_max=600,\n",
    "                              quantity=100)\n",
    "dataset_300_399 = filter_list(data=reformatted_dataset,\n",
    "                              word_count_min=300,\n",
    "                              word_count_max=399,\n",
    "                              quantity=200)\n",
    "dataset_250_299 = filter_list(data=reformatted_dataset,\n",
    "                              word_count_min=250,\n",
    "                              word_count_max=299,\n",
    "                              quantity=200)\n",
    "dataset_200_249 = filter_list(data=reformatted_dataset,\n",
    "                              word_count_min=200,\n",
    "                              word_count_max=249,\n",
    "                              quantity=200)\n",
    "dataset_150_199 = filter_list(data=reformatted_dataset,\n",
    "                              word_count_min=150,\n",
    "                              word_count_max=199,\n",
    "                              quantity=200)\n",
    "dataset_100_149 = filter_list(data=reformatted_dataset,\n",
    "                              word_count_min=100,\n",
    "                              word_count_max=149,\n",
    "                              quantity=200)\n",
    "dataset_50_99 = filter_list(data=reformatted_dataset,\n",
    "                              word_count_min=50,\n",
    "                              word_count_max=99,\n",
    "                              quantity=200)\n",
    "for data_point in dataset_400_600:\n",
    "    print(data_point['title'])\n"
   ],
   "metadata": {
    "collapsed": false,
    "pycharm": {
     "name": "#%%\n"
    }
   }
  },
  {
   "cell_type": "markdown",
   "source": [],
   "metadata": {
    "collapsed": false,
    "pycharm": {
     "name": "#%% md\n"
    }
   }
  },
  {
   "cell_type": "code",
   "execution_count": 4,
   "outputs": [
    {
     "name": "stdout",
     "output_type": "stream",
     "text": [
      "CSV-file already exists. Will append new rows to existing document. Cancel execution if this is not intended.\n",
      "\n",
      " Generating: 200/200Abstract generation complete.\n",
      "CSV-file already exists. Will append new rows to existing document. Cancel execution if this is not intended.\n",
      "\n",
      " Generating: 200/200Abstract generation complete.\n",
      "CSV-file already exists. Will append new rows to existing document. Cancel execution if this is not intended.\n",
      "\n",
      " Generating: 200/200Abstract generation complete.\n",
      "CSV-file already exists. Will append new rows to existing document. Cancel execution if this is not intended.\n",
      "\n",
      " Generating: 200/200Abstract generation complete.\n",
      "CSV-file already exists. Will append new rows to existing document. Cancel execution if this is not intended.\n",
      "\n",
      " Generating: 200/200Abstract generation complete.\n",
      "CSV-file already exists. Will append new rows to existing document. Cancel execution if this is not intended.\n",
      "\n",
      " Generating: 200/200Abstract generation complete.\n"
     ]
    }
   ],
   "source": [
    "generate_abstracts(data=dataset_300_399,\n",
    "                   target_file_name='research_abstracts',\n",
    "                   target_dir_path='./../../datasets/origins/research-abstracts')\n",
    "generate_abstracts(data=dataset_250_299,\n",
    "                   target_file_name='research_abstracts',\n",
    "                   target_dir_path='./../../datasets/origins/research-abstracts')\n",
    "generate_abstracts(data=dataset_200_249,\n",
    "                   target_file_name='research_abstracts',\n",
    "                   target_dir_path='./../../datasets/origins/research-abstracts')\n",
    "generate_abstracts(data=dataset_150_199,\n",
    "                   target_file_name='research_abstracts',\n",
    "                   target_dir_path='./../../datasets/origins/research-abstracts')\n",
    "generate_abstracts(data=dataset_100_149,\n",
    "                   target_file_name='research_abstracts',\n",
    "                   target_dir_path='./../../datasets/origins/research-abstracts')\n",
    "generate_abstracts(data=dataset_50_99,\n",
    "                   target_file_name='research_abstracts',\n",
    "                   target_dir_path='./../../datasets/origins/research-abstracts')"
   ],
   "metadata": {
    "collapsed": false,
    "pycharm": {
     "name": "#%%\n"
    }
   }
  },
  {
   "cell_type": "code",
   "execution_count": 4,
   "outputs": [],
   "source": [],
   "metadata": {
    "collapsed": false,
    "pycharm": {
     "name": "#%%\n"
    }
   }
  }
 ],
 "metadata": {
  "kernelspec": {
   "display_name": "Python 3",
   "language": "python",
   "name": "python3"
  },
  "language_info": {
   "codemirror_mode": {
    "name": "ipython",
    "version": 2
   },
   "file_extension": ".py",
   "mimetype": "text/x-python",
   "name": "python",
   "nbconvert_exporter": "python",
   "pygments_lexer": "ipython2",
   "version": "2.7.6"
  }
 },
 "nbformat": 4,
 "nbformat_minor": 0
}